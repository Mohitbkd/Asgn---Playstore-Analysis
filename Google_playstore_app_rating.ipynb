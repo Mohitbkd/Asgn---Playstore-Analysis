{
 "cells": [
  {
   "cell_type": "markdown",
   "id": "0bb3f6e1",
   "metadata": {},
   "source": [
    " # Objective\n",
    "    Google Play Store team is about to launch a new feature where in certain apps that are promising are boosted in visibility. The boost will manifest in multiple ways – higher priority in recommendations sections (“Similar apps”, “You might also like”, “New and updated games”). These will also get a boost in visibility in search results. This feature will help bring more attention to newer apps that have potential.\n",
    "\n",
    "    The task is to understand what makes an app perform well - size? price? category? multiple factors together? Analyze the data and present your insights in a format consumable by business – the final output of the analysis would be presented to business as insights with supporting data/visualizations."
   ]
  },
  {
   "cell_type": "markdown",
   "id": "e573819b",
   "metadata": {},
   "source": [
    "## Import Library and Data"
   ]
  },
  {
   "cell_type": "code",
   "execution_count": 1,
   "id": "d58cc7f1",
   "metadata": {},
   "outputs": [],
   "source": [
    "import pandas as pd\n",
    "import numpy as np\n",
    "import seaborn as sns\n",
    "import matplotlib.pyplot as plt\n",
    "%matplotlib inline\n",
    "color = sns.color_palette()\n",
    "\n",
    "import warnings\n",
    "warnings.filterwarnings('ignore')\n",
    "sns.set_style('whitegrid')"
   ]
  },
  {
   "cell_type": "code",
   "execution_count": 2,
   "id": "abf30474",
   "metadata": {},
   "outputs": [
    {
     "data": {
      "text/html": [
       "<div>\n",
       "<style scoped>\n",
       "    .dataframe tbody tr th:only-of-type {\n",
       "        vertical-align: middle;\n",
       "    }\n",
       "\n",
       "    .dataframe tbody tr th {\n",
       "        vertical-align: top;\n",
       "    }\n",
       "\n",
       "    .dataframe thead th {\n",
       "        text-align: right;\n",
       "    }\n",
       "</style>\n",
       "<table border=\"1\" class=\"dataframe\">\n",
       "  <thead>\n",
       "    <tr style=\"text-align: right;\">\n",
       "      <th></th>\n",
       "      <th>App</th>\n",
       "      <th>Category</th>\n",
       "      <th>Rating</th>\n",
       "      <th>Reviews</th>\n",
       "      <th>Size</th>\n",
       "      <th>Installs</th>\n",
       "      <th>Type</th>\n",
       "      <th>Price</th>\n",
       "      <th>Content Rating</th>\n",
       "      <th>Genres</th>\n",
       "      <th>Last Updated</th>\n",
       "      <th>Current Ver</th>\n",
       "      <th>Android Ver</th>\n",
       "    </tr>\n",
       "  </thead>\n",
       "  <tbody>\n",
       "    <tr>\n",
       "      <th>0</th>\n",
       "      <td>Photo Editor &amp; Candy Camera &amp; Grid &amp; ScrapBook</td>\n",
       "      <td>ART_AND_DESIGN</td>\n",
       "      <td>4.1</td>\n",
       "      <td>159</td>\n",
       "      <td>19000.0</td>\n",
       "      <td>10,000+</td>\n",
       "      <td>Free</td>\n",
       "      <td>0</td>\n",
       "      <td>Everyone</td>\n",
       "      <td>Art &amp; Design</td>\n",
       "      <td>January 7, 2018</td>\n",
       "      <td>1.0.0</td>\n",
       "      <td>4.0.3 and up</td>\n",
       "    </tr>\n",
       "    <tr>\n",
       "      <th>1</th>\n",
       "      <td>Coloring book moana</td>\n",
       "      <td>ART_AND_DESIGN</td>\n",
       "      <td>3.9</td>\n",
       "      <td>967</td>\n",
       "      <td>14000.0</td>\n",
       "      <td>500,000+</td>\n",
       "      <td>Free</td>\n",
       "      <td>0</td>\n",
       "      <td>Everyone</td>\n",
       "      <td>Art &amp; Design;Pretend Play</td>\n",
       "      <td>January 15, 2018</td>\n",
       "      <td>2.0.0</td>\n",
       "      <td>4.0.3 and up</td>\n",
       "    </tr>\n",
       "    <tr>\n",
       "      <th>2</th>\n",
       "      <td>U Launcher Lite – FREE Live Cool Themes, Hide ...</td>\n",
       "      <td>ART_AND_DESIGN</td>\n",
       "      <td>4.7</td>\n",
       "      <td>87510</td>\n",
       "      <td>8700.0</td>\n",
       "      <td>5,000,000+</td>\n",
       "      <td>Free</td>\n",
       "      <td>0</td>\n",
       "      <td>Everyone</td>\n",
       "      <td>Art &amp; Design</td>\n",
       "      <td>August 1, 2018</td>\n",
       "      <td>1.2.4</td>\n",
       "      <td>4.0.3 and up</td>\n",
       "    </tr>\n",
       "    <tr>\n",
       "      <th>3</th>\n",
       "      <td>Sketch - Draw &amp; Paint</td>\n",
       "      <td>ART_AND_DESIGN</td>\n",
       "      <td>4.5</td>\n",
       "      <td>215644</td>\n",
       "      <td>25000.0</td>\n",
       "      <td>50,000,000+</td>\n",
       "      <td>Free</td>\n",
       "      <td>0</td>\n",
       "      <td>Teen</td>\n",
       "      <td>Art &amp; Design</td>\n",
       "      <td>June 8, 2018</td>\n",
       "      <td>Varies with device</td>\n",
       "      <td>4.2 and up</td>\n",
       "    </tr>\n",
       "    <tr>\n",
       "      <th>4</th>\n",
       "      <td>Pixel Draw - Number Art Coloring Book</td>\n",
       "      <td>ART_AND_DESIGN</td>\n",
       "      <td>4.3</td>\n",
       "      <td>967</td>\n",
       "      <td>2800.0</td>\n",
       "      <td>100,000+</td>\n",
       "      <td>Free</td>\n",
       "      <td>0</td>\n",
       "      <td>Everyone</td>\n",
       "      <td>Art &amp; Design;Creativity</td>\n",
       "      <td>June 20, 2018</td>\n",
       "      <td>1.1</td>\n",
       "      <td>4.4 and up</td>\n",
       "    </tr>\n",
       "  </tbody>\n",
       "</table>\n",
       "</div>"
      ],
      "text/plain": [
       "                                                 App        Category  Rating  \\\n",
       "0     Photo Editor & Candy Camera & Grid & ScrapBook  ART_AND_DESIGN     4.1   \n",
       "1                                Coloring book moana  ART_AND_DESIGN     3.9   \n",
       "2  U Launcher Lite – FREE Live Cool Themes, Hide ...  ART_AND_DESIGN     4.7   \n",
       "3                              Sketch - Draw & Paint  ART_AND_DESIGN     4.5   \n",
       "4              Pixel Draw - Number Art Coloring Book  ART_AND_DESIGN     4.3   \n",
       "\n",
       "  Reviews     Size     Installs  Type Price Content Rating  \\\n",
       "0     159  19000.0      10,000+  Free     0       Everyone   \n",
       "1     967  14000.0     500,000+  Free     0       Everyone   \n",
       "2   87510   8700.0   5,000,000+  Free     0       Everyone   \n",
       "3  215644  25000.0  50,000,000+  Free     0           Teen   \n",
       "4     967   2800.0     100,000+  Free     0       Everyone   \n",
       "\n",
       "                      Genres      Last Updated         Current Ver  \\\n",
       "0               Art & Design   January 7, 2018               1.0.0   \n",
       "1  Art & Design;Pretend Play  January 15, 2018               2.0.0   \n",
       "2               Art & Design    August 1, 2018               1.2.4   \n",
       "3               Art & Design      June 8, 2018  Varies with device   \n",
       "4    Art & Design;Creativity     June 20, 2018                 1.1   \n",
       "\n",
       "    Android Ver  \n",
       "0  4.0.3 and up  \n",
       "1  4.0.3 and up  \n",
       "2  4.0.3 and up  \n",
       "3    4.2 and up  \n",
       "4    4.4 and up  "
      ]
     },
     "execution_count": 2,
     "metadata": {},
     "output_type": "execute_result"
    }
   ],
   "source": [
    "data = pd.read_csv('playstore-analysis (2) (1).csv')\n",
    "data.head()"
   ]
  },
  {
   "cell_type": "code",
   "execution_count": 3,
   "id": "246ee1db",
   "metadata": {},
   "outputs": [
    {
     "name": "stdout",
     "output_type": "stream",
     "text": [
      "<class 'pandas.core.frame.DataFrame'>\n",
      "RangeIndex: 10841 entries, 0 to 10840\n",
      "Data columns (total 13 columns):\n",
      " #   Column          Non-Null Count  Dtype  \n",
      "---  ------          --------------  -----  \n",
      " 0   App             10841 non-null  object \n",
      " 1   Category        10841 non-null  object \n",
      " 2   Rating          9367 non-null   float64\n",
      " 3   Reviews         10841 non-null  object \n",
      " 4   Size            10841 non-null  float64\n",
      " 5   Installs        10841 non-null  object \n",
      " 6   Type            10840 non-null  object \n",
      " 7   Price           10841 non-null  object \n",
      " 8   Content Rating  10840 non-null  object \n",
      " 9   Genres          10841 non-null  object \n",
      " 10  Last Updated    10841 non-null  object \n",
      " 11  Current Ver     10833 non-null  object \n",
      " 12  Android Ver     10838 non-null  object \n",
      "dtypes: float64(2), object(11)\n",
      "memory usage: 1.1+ MB\n"
     ]
    }
   ],
   "source": [
    "data.info()"
   ]
  },
  {
   "cell_type": "markdown",
   "id": "b3e8ebb5",
   "metadata": {},
   "source": [
    "Several Missing Values at 'Rating'"
   ]
  },
  {
   "cell_type": "code",
   "execution_count": 4,
   "id": "fd366a26",
   "metadata": {},
   "outputs": [
    {
     "data": {
      "text/html": [
       "<div>\n",
       "<style scoped>\n",
       "    .dataframe tbody tr th:only-of-type {\n",
       "        vertical-align: middle;\n",
       "    }\n",
       "\n",
       "    .dataframe tbody tr th {\n",
       "        vertical-align: top;\n",
       "    }\n",
       "\n",
       "    .dataframe thead th {\n",
       "        text-align: right;\n",
       "    }\n",
       "</style>\n",
       "<table border=\"1\" class=\"dataframe\">\n",
       "  <thead>\n",
       "    <tr style=\"text-align: right;\">\n",
       "      <th></th>\n",
       "      <th>Rating</th>\n",
       "      <th>Size</th>\n",
       "    </tr>\n",
       "  </thead>\n",
       "  <tbody>\n",
       "    <tr>\n",
       "      <th>count</th>\n",
       "      <td>9367.000000</td>\n",
       "      <td>10841.000000</td>\n",
       "    </tr>\n",
       "    <tr>\n",
       "      <th>mean</th>\n",
       "      <td>4.193338</td>\n",
       "      <td>21516.529524</td>\n",
       "    </tr>\n",
       "    <tr>\n",
       "      <th>std</th>\n",
       "      <td>0.537431</td>\n",
       "      <td>20746.537567</td>\n",
       "    </tr>\n",
       "    <tr>\n",
       "      <th>min</th>\n",
       "      <td>1.000000</td>\n",
       "      <td>8.500000</td>\n",
       "    </tr>\n",
       "    <tr>\n",
       "      <th>25%</th>\n",
       "      <td>4.000000</td>\n",
       "      <td>5900.000000</td>\n",
       "    </tr>\n",
       "    <tr>\n",
       "      <th>50%</th>\n",
       "      <td>4.300000</td>\n",
       "      <td>18000.000000</td>\n",
       "    </tr>\n",
       "    <tr>\n",
       "      <th>75%</th>\n",
       "      <td>4.500000</td>\n",
       "      <td>26000.000000</td>\n",
       "    </tr>\n",
       "    <tr>\n",
       "      <th>max</th>\n",
       "      <td>19.000000</td>\n",
       "      <td>100000.000000</td>\n",
       "    </tr>\n",
       "  </tbody>\n",
       "</table>\n",
       "</div>"
      ],
      "text/plain": [
       "            Rating           Size\n",
       "count  9367.000000   10841.000000\n",
       "mean      4.193338   21516.529524\n",
       "std       0.537431   20746.537567\n",
       "min       1.000000       8.500000\n",
       "25%       4.000000    5900.000000\n",
       "50%       4.300000   18000.000000\n",
       "75%       4.500000   26000.000000\n",
       "max      19.000000  100000.000000"
      ]
     },
     "execution_count": 4,
     "metadata": {},
     "output_type": "execute_result"
    }
   ],
   "source": [
    "data.describe()"
   ]
  },
  {
   "cell_type": "markdown",
   "id": "b63ff687",
   "metadata": {},
   "source": [
    "# TASKS"
   ]
  },
  {
   "cell_type": "markdown",
   "id": "b2f2bc2d",
   "metadata": {},
   "source": [
    "# 1. Data Clean up-Missing values treatement"
   ]
  },
  {
   "cell_type": "markdown",
   "id": "f74abf62",
   "metadata": {},
   "source": [
    "### a. Drop record where rating is missing since rating is our target/study variable"
   ]
  },
  {
   "cell_type": "code",
   "execution_count": 5,
   "id": "c976d65b",
   "metadata": {},
   "outputs": [
    {
     "name": "stdout",
     "output_type": "stream",
     "text": [
      "Missing values :\n",
      " App                  0\n",
      "Category             0\n",
      "Rating            1474\n",
      "Reviews              0\n",
      "Size                 0\n",
      "Installs             0\n",
      "Type                 1\n",
      "Price                0\n",
      "Content Rating       1\n",
      "Genres               0\n",
      "Last Updated         0\n",
      "Current Ver          8\n",
      "Android Ver          3\n",
      "dtype: int64\n"
     ]
    }
   ],
   "source": [
    "print(f\"Missing values :\\n {data.isnull().sum()}\") #Finding the null values"
   ]
  },
  {
   "cell_type": "markdown",
   "id": "2d654619",
   "metadata": {},
   "source": [
    "It was found that in column \"rating\" 1474 values are missing.\n",
    "We drop missing values in rating column"
   ]
  },
  {
   "cell_type": "code",
   "execution_count": 6,
   "id": "86944253",
   "metadata": {},
   "outputs": [],
   "source": [
    "data1 = data.dropna(subset=['Rating'])"
   ]
  },
  {
   "cell_type": "code",
   "execution_count": 7,
   "id": "1b7bdaa2",
   "metadata": {},
   "outputs": [
    {
     "name": "stdout",
     "output_type": "stream",
     "text": [
      "Missing Values :\n",
      "App               0\n",
      "Category          0\n",
      "Rating            0\n",
      "Reviews           0\n",
      "Size              0\n",
      "Installs          0\n",
      "Type              0\n",
      "Price             0\n",
      "Content Rating    1\n",
      "Genres            0\n",
      "Last Updated      0\n",
      "Current Ver       4\n",
      "Android Ver       3\n",
      "dtype: int64\n"
     ]
    }
   ],
   "source": [
    "print(f\"Missing Values :\\n{data1.isnull().sum()}\")"
   ]
  },
  {
   "cell_type": "markdown",
   "id": "12b4730b",
   "metadata": {},
   "source": [
    "### b. Check the null values for the Android Ver column."
   ]
  },
  {
   "cell_type": "code",
   "execution_count": 8,
   "id": "3d9687e0",
   "metadata": {},
   "outputs": [
    {
     "name": "stdout",
     "output_type": "stream",
     "text": [
      "Missing values in Android Ver: \t3\n"
     ]
    }
   ],
   "source": [
    "print(f\"Missing values in Android Ver: \\t{data1['Android Ver'].isnull().sum()}\")"
   ]
  },
  {
   "cell_type": "code",
   "execution_count": 9,
   "id": "de6d831c",
   "metadata": {},
   "outputs": [
    {
     "name": "stdout",
     "output_type": "stream",
     "text": [
      "                                           App            Category  Rating  \\\n",
      "15             Learn To Draw Kawaii Characters      ART_AND_DESIGN     3.2   \n",
      "1553                      Market Update Helper  LIBRARIES_AND_DEMO     4.1   \n",
      "4453                    [substratum] Vacuum: P     PERSONALIZATION     4.4   \n",
      "4490                      Pi Dark [substratum]     PERSONALIZATION     4.5   \n",
      "6322                    Virtual DJ Sound Mixer               TOOLS     4.2   \n",
      "7333                               Dots puzzle              FAMILY     4.0   \n",
      "10472  Life Made WI-Fi Touchscreen Photo Frame                 1.9    19.0   \n",
      "\n",
      "      Reviews          Size    Installs  Type     Price Content Rating  \\\n",
      "15         55   2700.000000      5,000+  Free         0       Everyone   \n",
      "1553    20145     11.000000  1,000,000+  Free         0       Everyone   \n",
      "4453      230  11000.000000      1,000+  Paid     $1.49       Everyone   \n",
      "4490      189   2100.000000     10,000+  Free         0       Everyone   \n",
      "6322     4010   8700.000000    500,000+  Free         0       Everyone   \n",
      "7333      179  14000.000000     50,000+  Paid     $0.99       Everyone   \n",
      "10472    3.0M  21516.529524        Free     0  Everyone            NaN   \n",
      "\n",
      "                  Genres       Last Updated Current Ver Android Ver  \n",
      "15          Art & Design       June 6, 2018         NaN  4.2 and up  \n",
      "1553    Libraries & Demo  February 12, 2013         NaN  1.5 and up  \n",
      "4453     Personalization      July 20, 2018         4.4         NaN  \n",
      "4490     Personalization     March 27, 2018         1.1         NaN  \n",
      "6322               Tools       May 10, 2017         NaN  4.0 and up  \n",
      "7333              Puzzle     April 18, 2018         NaN  4.0 and up  \n",
      "10472  February 11, 2018             1.0.19  4.0 and up         NaN  \n"
     ]
    }
   ],
   "source": [
    "print(data1[data1.isna().any(axis=1)])"
   ]
  },
  {
   "cell_type": "markdown",
   "id": "701ccd0d",
   "metadata": {},
   "source": [
    "#### i. Are all 3 record having the same problem ?"
   ]
  },
  {
   "cell_type": "markdown",
   "id": "85f40b73",
   "metadata": {},
   "source": [
    "YES"
   ]
  },
  {
   "cell_type": "markdown",
   "id": "e94dc4a7",
   "metadata": {},
   "source": [
    "#### ii. Drop the 3rd record i.e. record for\"Life made WIFI...\""
   ]
  },
  {
   "cell_type": "code",
   "execution_count": 10,
   "id": "a0246445",
   "metadata": {},
   "outputs": [
    {
     "data": {
      "text/html": [
       "<div>\n",
       "<style scoped>\n",
       "    .dataframe tbody tr th:only-of-type {\n",
       "        vertical-align: middle;\n",
       "    }\n",
       "\n",
       "    .dataframe tbody tr th {\n",
       "        vertical-align: top;\n",
       "    }\n",
       "\n",
       "    .dataframe thead th {\n",
       "        text-align: right;\n",
       "    }\n",
       "</style>\n",
       "<table border=\"1\" class=\"dataframe\">\n",
       "  <thead>\n",
       "    <tr style=\"text-align: right;\">\n",
       "      <th></th>\n",
       "      <th>App</th>\n",
       "      <th>Category</th>\n",
       "      <th>Rating</th>\n",
       "      <th>Reviews</th>\n",
       "      <th>Size</th>\n",
       "      <th>Installs</th>\n",
       "      <th>Type</th>\n",
       "      <th>Price</th>\n",
       "      <th>Content Rating</th>\n",
       "      <th>Genres</th>\n",
       "      <th>Last Updated</th>\n",
       "      <th>Current Ver</th>\n",
       "      <th>Android Ver</th>\n",
       "    </tr>\n",
       "  </thead>\n",
       "  <tbody>\n",
       "  </tbody>\n",
       "</table>\n",
       "</div>"
      ],
      "text/plain": [
       "Empty DataFrame\n",
       "Columns: [App, Category, Rating, Reviews, Size, Installs, Type, Price, Content Rating, Genres, Last Updated, Current Ver, Android Ver]\n",
       "Index: []"
      ]
     },
     "execution_count": 10,
     "metadata": {},
     "output_type": "execute_result"
    }
   ],
   "source": [
    "data2 = data1.drop(10472)\n",
    "#Verifiction for double checking\n",
    "corrected = data2[data2['App']=='Life Made WI-FI Touchscreen Photo Frame']\n",
    "corrected"
   ]
  },
  {
   "cell_type": "markdown",
   "id": "ec18f6c6",
   "metadata": {},
   "source": [
    "SO here we successfully droped 'Life Made WI-FI Touchscreen Photo Frame' as in output we found an empty datadrame."
   ]
  },
  {
   "cell_type": "code",
   "execution_count": 11,
   "id": "24eea495",
   "metadata": {},
   "outputs": [
    {
     "data": {
      "text/html": [
       "<div>\n",
       "<style scoped>\n",
       "    .dataframe tbody tr th:only-of-type {\n",
       "        vertical-align: middle;\n",
       "    }\n",
       "\n",
       "    .dataframe tbody tr th {\n",
       "        vertical-align: top;\n",
       "    }\n",
       "\n",
       "    .dataframe thead th {\n",
       "        text-align: right;\n",
       "    }\n",
       "</style>\n",
       "<table border=\"1\" class=\"dataframe\">\n",
       "  <thead>\n",
       "    <tr style=\"text-align: right;\">\n",
       "      <th></th>\n",
       "      <th>App</th>\n",
       "      <th>Category</th>\n",
       "      <th>Rating</th>\n",
       "      <th>Reviews</th>\n",
       "      <th>Size</th>\n",
       "      <th>Installs</th>\n",
       "      <th>Type</th>\n",
       "      <th>Price</th>\n",
       "      <th>Content Rating</th>\n",
       "      <th>Genres</th>\n",
       "      <th>Last Updated</th>\n",
       "      <th>Current Ver</th>\n",
       "      <th>Android Ver</th>\n",
       "    </tr>\n",
       "  </thead>\n",
       "  <tbody>\n",
       "    <tr>\n",
       "      <th>0</th>\n",
       "      <td>Photo Editor &amp; Candy Camera &amp; Grid &amp; ScrapBook</td>\n",
       "      <td>ART_AND_DESIGN</td>\n",
       "      <td>4.1</td>\n",
       "      <td>159</td>\n",
       "      <td>19000.000000</td>\n",
       "      <td>10,000+</td>\n",
       "      <td>Free</td>\n",
       "      <td>0</td>\n",
       "      <td>Everyone</td>\n",
       "      <td>Art &amp; Design</td>\n",
       "      <td>January 7, 2018</td>\n",
       "      <td>1.0.0</td>\n",
       "      <td>4.0.3 and up</td>\n",
       "    </tr>\n",
       "    <tr>\n",
       "      <th>1</th>\n",
       "      <td>Coloring book moana</td>\n",
       "      <td>ART_AND_DESIGN</td>\n",
       "      <td>3.9</td>\n",
       "      <td>967</td>\n",
       "      <td>14000.000000</td>\n",
       "      <td>500,000+</td>\n",
       "      <td>Free</td>\n",
       "      <td>0</td>\n",
       "      <td>Everyone</td>\n",
       "      <td>Art &amp; Design;Pretend Play</td>\n",
       "      <td>January 15, 2018</td>\n",
       "      <td>2.0.0</td>\n",
       "      <td>4.0.3 and up</td>\n",
       "    </tr>\n",
       "    <tr>\n",
       "      <th>2</th>\n",
       "      <td>U Launcher Lite – FREE Live Cool Themes, Hide ...</td>\n",
       "      <td>ART_AND_DESIGN</td>\n",
       "      <td>4.7</td>\n",
       "      <td>87510</td>\n",
       "      <td>8700.000000</td>\n",
       "      <td>5,000,000+</td>\n",
       "      <td>Free</td>\n",
       "      <td>0</td>\n",
       "      <td>Everyone</td>\n",
       "      <td>Art &amp; Design</td>\n",
       "      <td>August 1, 2018</td>\n",
       "      <td>1.2.4</td>\n",
       "      <td>4.0.3 and up</td>\n",
       "    </tr>\n",
       "    <tr>\n",
       "      <th>3</th>\n",
       "      <td>Sketch - Draw &amp; Paint</td>\n",
       "      <td>ART_AND_DESIGN</td>\n",
       "      <td>4.5</td>\n",
       "      <td>215644</td>\n",
       "      <td>25000.000000</td>\n",
       "      <td>50,000,000+</td>\n",
       "      <td>Free</td>\n",
       "      <td>0</td>\n",
       "      <td>Teen</td>\n",
       "      <td>Art &amp; Design</td>\n",
       "      <td>June 8, 2018</td>\n",
       "      <td>Varies with device</td>\n",
       "      <td>4.2 and up</td>\n",
       "    </tr>\n",
       "    <tr>\n",
       "      <th>4</th>\n",
       "      <td>Pixel Draw - Number Art Coloring Book</td>\n",
       "      <td>ART_AND_DESIGN</td>\n",
       "      <td>4.3</td>\n",
       "      <td>967</td>\n",
       "      <td>2800.000000</td>\n",
       "      <td>100,000+</td>\n",
       "      <td>Free</td>\n",
       "      <td>0</td>\n",
       "      <td>Everyone</td>\n",
       "      <td>Art &amp; Design;Creativity</td>\n",
       "      <td>June 20, 2018</td>\n",
       "      <td>1.1</td>\n",
       "      <td>4.4 and up</td>\n",
       "    </tr>\n",
       "    <tr>\n",
       "      <th>...</th>\n",
       "      <td>...</td>\n",
       "      <td>...</td>\n",
       "      <td>...</td>\n",
       "      <td>...</td>\n",
       "      <td>...</td>\n",
       "      <td>...</td>\n",
       "      <td>...</td>\n",
       "      <td>...</td>\n",
       "      <td>...</td>\n",
       "      <td>...</td>\n",
       "      <td>...</td>\n",
       "      <td>...</td>\n",
       "      <td>...</td>\n",
       "    </tr>\n",
       "    <tr>\n",
       "      <th>10834</th>\n",
       "      <td>FR Calculator</td>\n",
       "      <td>FAMILY</td>\n",
       "      <td>4.0</td>\n",
       "      <td>7</td>\n",
       "      <td>2600.000000</td>\n",
       "      <td>500+</td>\n",
       "      <td>Free</td>\n",
       "      <td>0</td>\n",
       "      <td>Everyone</td>\n",
       "      <td>Education</td>\n",
       "      <td>June 18, 2017</td>\n",
       "      <td>1.0.0</td>\n",
       "      <td>4.1 and up</td>\n",
       "    </tr>\n",
       "    <tr>\n",
       "      <th>10836</th>\n",
       "      <td>Sya9a Maroc - FR</td>\n",
       "      <td>FAMILY</td>\n",
       "      <td>4.5</td>\n",
       "      <td>38</td>\n",
       "      <td>53000.000000</td>\n",
       "      <td>5,000+</td>\n",
       "      <td>Free</td>\n",
       "      <td>0</td>\n",
       "      <td>Everyone</td>\n",
       "      <td>Education</td>\n",
       "      <td>July 25, 2017</td>\n",
       "      <td>1.48</td>\n",
       "      <td>4.1 and up</td>\n",
       "    </tr>\n",
       "    <tr>\n",
       "      <th>10837</th>\n",
       "      <td>Fr. Mike Schmitz Audio Teachings</td>\n",
       "      <td>FAMILY</td>\n",
       "      <td>5.0</td>\n",
       "      <td>4</td>\n",
       "      <td>3600.000000</td>\n",
       "      <td>100+</td>\n",
       "      <td>Free</td>\n",
       "      <td>0</td>\n",
       "      <td>Everyone</td>\n",
       "      <td>Education</td>\n",
       "      <td>July 6, 2018</td>\n",
       "      <td>1.0</td>\n",
       "      <td>4.1 and up</td>\n",
       "    </tr>\n",
       "    <tr>\n",
       "      <th>10839</th>\n",
       "      <td>The SCP Foundation DB fr nn5n</td>\n",
       "      <td>BOOKS_AND_REFERENCE</td>\n",
       "      <td>4.5</td>\n",
       "      <td>114</td>\n",
       "      <td>21516.529524</td>\n",
       "      <td>1,000+</td>\n",
       "      <td>Free</td>\n",
       "      <td>0</td>\n",
       "      <td>Mature 17+</td>\n",
       "      <td>Books &amp; Reference</td>\n",
       "      <td>January 19, 2015</td>\n",
       "      <td>Varies with device</td>\n",
       "      <td>Varies with device</td>\n",
       "    </tr>\n",
       "    <tr>\n",
       "      <th>10840</th>\n",
       "      <td>iHoroscope - 2018 Daily Horoscope &amp; Astrology</td>\n",
       "      <td>LIFESTYLE</td>\n",
       "      <td>4.5</td>\n",
       "      <td>398307</td>\n",
       "      <td>19000.000000</td>\n",
       "      <td>10,000,000+</td>\n",
       "      <td>Free</td>\n",
       "      <td>0</td>\n",
       "      <td>Everyone</td>\n",
       "      <td>Lifestyle</td>\n",
       "      <td>July 25, 2018</td>\n",
       "      <td>Varies with device</td>\n",
       "      <td>Varies with device</td>\n",
       "    </tr>\n",
       "  </tbody>\n",
       "</table>\n",
       "<p>9366 rows × 13 columns</p>\n",
       "</div>"
      ],
      "text/plain": [
       "                                                     App             Category  \\\n",
       "0         Photo Editor & Candy Camera & Grid & ScrapBook       ART_AND_DESIGN   \n",
       "1                                    Coloring book moana       ART_AND_DESIGN   \n",
       "2      U Launcher Lite – FREE Live Cool Themes, Hide ...       ART_AND_DESIGN   \n",
       "3                                  Sketch - Draw & Paint       ART_AND_DESIGN   \n",
       "4                  Pixel Draw - Number Art Coloring Book       ART_AND_DESIGN   \n",
       "...                                                  ...                  ...   \n",
       "10834                                      FR Calculator               FAMILY   \n",
       "10836                                   Sya9a Maroc - FR               FAMILY   \n",
       "10837                   Fr. Mike Schmitz Audio Teachings               FAMILY   \n",
       "10839                      The SCP Foundation DB fr nn5n  BOOKS_AND_REFERENCE   \n",
       "10840      iHoroscope - 2018 Daily Horoscope & Astrology            LIFESTYLE   \n",
       "\n",
       "       Rating Reviews          Size     Installs  Type Price Content Rating  \\\n",
       "0         4.1     159  19000.000000      10,000+  Free     0       Everyone   \n",
       "1         3.9     967  14000.000000     500,000+  Free     0       Everyone   \n",
       "2         4.7   87510   8700.000000   5,000,000+  Free     0       Everyone   \n",
       "3         4.5  215644  25000.000000  50,000,000+  Free     0           Teen   \n",
       "4         4.3     967   2800.000000     100,000+  Free     0       Everyone   \n",
       "...       ...     ...           ...          ...   ...   ...            ...   \n",
       "10834     4.0       7   2600.000000         500+  Free     0       Everyone   \n",
       "10836     4.5      38  53000.000000       5,000+  Free     0       Everyone   \n",
       "10837     5.0       4   3600.000000         100+  Free     0       Everyone   \n",
       "10839     4.5     114  21516.529524       1,000+  Free     0     Mature 17+   \n",
       "10840     4.5  398307  19000.000000  10,000,000+  Free     0       Everyone   \n",
       "\n",
       "                          Genres      Last Updated         Current Ver  \\\n",
       "0                   Art & Design   January 7, 2018               1.0.0   \n",
       "1      Art & Design;Pretend Play  January 15, 2018               2.0.0   \n",
       "2                   Art & Design    August 1, 2018               1.2.4   \n",
       "3                   Art & Design      June 8, 2018  Varies with device   \n",
       "4        Art & Design;Creativity     June 20, 2018                 1.1   \n",
       "...                          ...               ...                 ...   \n",
       "10834                  Education     June 18, 2017               1.0.0   \n",
       "10836                  Education     July 25, 2017                1.48   \n",
       "10837                  Education      July 6, 2018                 1.0   \n",
       "10839          Books & Reference  January 19, 2015  Varies with device   \n",
       "10840                  Lifestyle     July 25, 2018  Varies with device   \n",
       "\n",
       "              Android Ver  \n",
       "0            4.0.3 and up  \n",
       "1            4.0.3 and up  \n",
       "2            4.0.3 and up  \n",
       "3              4.2 and up  \n",
       "4              4.4 and up  \n",
       "...                   ...  \n",
       "10834          4.1 and up  \n",
       "10836          4.1 and up  \n",
       "10837          4.1 and up  \n",
       "10839  Varies with device  \n",
       "10840  Varies with device  \n",
       "\n",
       "[9366 rows x 13 columns]"
      ]
     },
     "execution_count": 11,
     "metadata": {},
     "output_type": "execute_result"
    }
   ],
   "source": [
    "data2"
   ]
  },
  {
   "cell_type": "markdown",
   "id": "f64e594e",
   "metadata": {},
   "source": [
    "#### iii. Replace remaining missing values with the mode."
   ]
  },
  {
   "cell_type": "code",
   "execution_count": 12,
   "id": "1f7cd348",
   "metadata": {
    "scrolled": true
   },
   "outputs": [
    {
     "name": "stdout",
     "output_type": "stream",
     "text": [
      "['4.0.3 and up', '4.0.3 and up', '4.0.3 and up', '4.2 and up', '4.4 and up', '2.3 and up', '4.0.3 and up', '4.2 and up', '3.0 and up', '4.0.3 and up', '4.1 and up', '4.0 and up', '4.1 and up', '4.4 and up', '2.3 and up', '4.2 and up', '4.1 and up', '2.3 and up', '4.0.3 and up', '4.1 and up', '4.1 and up', '4.0.3 and up', '4.0.3 and up', '4.1 and up', '3.0 and up', '4.0.3 and up', '4.0.3 and up', '2.3 and up', '2.3 and up', '4.0.3 and up', '2.3 and up', '4.0 and up', '4.1 and up', '4.1 and up', '4.1 and up', '4.4 and up', '2.3.3 and up', '4.0.3 and up', '4.0 and up', '4.0.3 and up', '4.0.3 and up', 'Varies with device', '4.1 and up', '4.1 and up', '4.1 and up', '4.1 and up', '4.1 and up', '2.3 and up', '4.0.3 and up', '4.1 and up', '4.1 and up', 'Varies with device', '4.1 and up', '4.1 and up', '4.0 and up', '4.4 and up', '4.1 and up', '2.2 and up', '4.4 and up', '4.0.3 and up', '4.2 and up', '4.1 and up', '4.0 and up', '4.2 and up', '4.4 and up', '2.3 and up', 'Varies with device', 'Varies with device', '4.0.3 and up', '4.0.3 and up', '4.2 and up', '5.0 and up', '2.3.3 and up', '4.0 and up', '4.0 and up', '4.1 and up', '4.0 and up', '4.1 and up', '4.1 and up', '6.0 and up', '4.2 and up', '5.0 and up', '4.0.3 and up', '4.4 and up', 'Varies with device', '2.3 and up', '4.0.3 and up', 'Varies with device', 'Varies with device', '4.1 and up', '4.0.3 and up', '4.0.3 and up', '4.0.3 and up', '4.0.3 and up', '4.0 and up', '4.0.3 and up', '4.0 and up', '5.0 and up', '4.1 and up', '4.1 and up', '4.0.3 and up', 'Varies with device', '4.1 and up', '4.0.3 and up', '4.0 and up', '4.2 and up', '5.0 and up', '4.0.3 and up', 'Varies with device', '4.0 and up', '4.0 and up', '4.0.3 and up', '4.0.3 and up', '4.0.3 and up', '4.0.3 and up', 'Varies with device', '4.0 and up', '4.0 and up', '4.0.3 and up', '4.0 and up', '5.0 and up', '4.0.3 and up', '4.0 and up', '4.1 and up', '4.0 and up', '4.0.3 and up', '4.0.3 and up', '1.6 and up', '4.0.3 and up', '4.0 and up', '4.0.3 and up', '4.0.3 and up', 'Varies with device', '4.4 and up', '4.0 and up', 'Varies with device', 'Varies with device', '1.5 and up', 'Varies with device', 'Varies with device', '4.1 and up', '4.0 and up', 'Varies with device', '4.0 and up', '4.0.3 and up', 'Varies with device', '2.3 and up', '4.0.3 and up', '4.1 and up', '4.0.3 and up', 'Varies with device', '4.1 and up', '4.1 and up', '2.3 and up', '4.1 and up', 'Varies with device', '4.0 and up', '4.0 and up', '4.1 and up', '4.0.3 and up', '3.0 and up', '4.0.3 and up', '2.1 and up', '4.4 and up', 'Varies with device', '7.0 and up', '4.0 and up', '4.0.3 and up', '4.0.3 and up', '3.0 and up', '3.0 and up', 'Varies with device', '4.0 and up', '4.2 and up', '4.0.3 and up', '2.2 and up', '4.2 and up', 'Varies with device', 'Varies with device', 'Varies with device', '5.0 and up', 'Varies with device', 'Varies with device', '4.4 and up', '4.1 and up', '4.0.3 and up', '5.0 and up', '4.1 and up', '4.1 and up', '4.0.3 and up', '1.5 and up', 'Varies with device', 'Varies with device', '4.3 and up', 'Varies with device', '4.1 and up', '4.0 and up', 'Varies with device', 'Varies with device', '2.2 and up', '4.1 and up', 'Varies with device', '4.1 and up', '4.0 and up', 'Varies with device', '4.1 and up', '4.0 and up', '4.1 and up', '4.2 and up', '4.0 and up', '4.0 and up', '4.0.3 and up', '4.0.3 and up', '2.2 and up', '4.0.3 and up', '7.0 and up', 'Varies with device', 'Varies with device', '4.0.3 and up', 'Varies with device', '3.0 and up', '4.1 and up', '4.1 and up', '4.0 and up', '3.0 and up', 'Varies with device', '4.1 and up', '4.0.3 and up', '4.4 and up', 'Varies with device', '4.2 and up', '5.0 and up', '4.1 and up', '4.1 and up', 'Varies with device', '5.0 and up', '4.0.3 and up', '5.0 and up', '4.4 and up', '4.0 and up', '4.1 and up', '4.1 and up', '4.4 and up', '4.1 and up', '4.3 and up', '4.0 and up', '5.0 and up', '4.4 and up', 'Varies with device', '4.0.3 and up', '4.4 and up', '4.0 and up', '5.0 and up', 'Varies with device', 'Varies with device', '4.1 and up', '4.0.3 and up', '4.4 and up', 'Varies with device', '4.2 and up', '5.0 and up', '4.1 and up', '4.1 and up', 'Varies with device', '5.0 and up', '4.0.3 and up', '5.0 and up', '4.4 and up', '4.0 and up', '4.1 and up', '4.1 and up', '4.4 and up', '4.1 and up', 'Varies with device', '4.0.3 and up', 'Varies with device', '3.0 and up', '4.1 and up', '4.1 and up', '4.0 and up', '3.0 and up', 'Varies with device', '4.1 and up', 'Varies with device', '5.0 and up', '4.1 and up', 'Varies with device', '4.1 and up', '4.1 and up', '4.0.3 and up', '4.4 and up', '4.1 and up', '4.1 and up', '5.0 and up', '4.0 and up', '2.3 and up', '4.0.3 and up', '4.2 and up', '4.0.3 and up', '4.0.3 and up', '4.0.3 and up', '4.0.3 and up', '4.0.3 and up', '4.1 and up', 'Varies with device', '4.2 and up', '4.4 and up', '4.4 and up', '4.0 and up', 'Varies with device', '4.1 and up', '4.1 and up', '5.0 and up', '4.0.3 and up', '4.1 and up', 'Varies with device', '4.0 and up', '4.0.3 and up', '2.3 and up', '4.0.3 and up', '4.0.3 and up', '4.0 and up', '4.4 and up', 'Varies with device', 'Varies with device', '4.1 and up', 'Varies with device', '2.3 and up', 'Varies with device', 'Varies with device', 'Varies with device', '4.4 and up', 'Varies with device', '4.4 and up', '4.0 and up', '4.0 and up', '5.0 and up', '4.1 and up', '4.0.3 - 7.1.1', 'Varies with device', '4.0.3 - 7.1.1', 'Varies with device', 'Varies with device', '4.1 and up', 'Varies with device', '4.1 and up', '5.0 and up', 'Varies with device', 'Varies with device', 'Varies with device', '4.0.3 and up', 'Varies with device', '4.0.3 and up', 'Varies with device', '4.0 and up', '4.0.3 and up', '5.0 and up', 'Varies with device', 'Varies with device', '4.4 and up', '4.1 and up', 'Varies with device', '4.1 and up', 'Varies with device', 'Varies with device', '4.0.3 and up', '4.0 and up', '4.3 and up', '4.4 and up', 'Varies with device', 'Varies with device', '4.0 and up', '4.0.3 and up', 'Varies with device', 'Varies with device', '4.2 and up', '4.0 and up', '4.4 and up', 'Varies with device', 'Varies with device', 'Varies with device', 'Varies with device', 'Varies with device', '4.0 and up', 'Varies with device', '2.3 and up', '2.3 and up', 'Varies with device', '4.0.3 and up', '4.1 and up', 'Varies with device', 'Varies with device', 'Varies with device', '4.0.3 and up', '4.0.3 and up', 'Varies with device', '5.0 and up', '4.0 and up', '4.1 and up', 'Varies with device', 'Varies with device', '4.0 and up', '4.1 and up', 'Varies with device', '2.3 and up', 'Varies with device', 'Varies with device', '4.0 and up', '4.0 and up', '4.0.3 and up', 'Varies with device', '4.0 and up', '4.0 and up', '4.0 and up', '3.0 and up', '4.1 and up', '4.0.3 and up', '2.1 and up', '4.0 and up', 'Varies with device', '4.0 and up', '4.0 and up', '4.0.3 and up', '5.0 and up', '4.0.3 and up', '5.0 and up', '4.0 and up', '2.1 and up', '4.1 and up', '4.1 and up', 'Varies with device', 'Varies with device', '4.1 and up', 'Varies with device', '4.0.3 and up', '4.1 and up', 'Varies with device', 'Varies with device', '2.3 and up', 'Varies with device', '4.4 and up', '4.0.3 and up', 'Varies with device', '4.1 and up', '4.1 and up', '5.0 and up', '2.0 and up', 'Varies with device', '2.2 and up', '4.0 and up', 'Varies with device', 'Varies with device', 'Varies with device', '4.0 and up', '4.4 and up', 'Varies with device', 'Varies with device', 'Varies with device', '2.3.3 and up', '4.0.3 and up', 'Varies with device', 'Varies with device', 'Varies with device', 'Varies with device', '4.1 and up', '4.0 and up', '4.0 and up', 'Varies with device', '4.1 and up', 'Varies with device', '4.1 and up', '5.0 and up', '4.1 and up', '4.1 and up', '4.1 and up', '4.4 and up', 'Varies with device', '4.1 and up', '4.0 and up', '4.4 and up', '4.1 and up', '4.4 and up', '4.1 and up', '4.1 and up', '4.1 and up', 'Varies with device', '4.2 and up', '4.1 and up', '4.1 and up', '4.4 and up', '4.1 and up', '4.4 and up', '4.1 and up', 'Varies with device', '4.0.3 and up', '4.2 and up', '4.0.3 and up', '4.0.3 and up', '4.4 and up', '4.0 and up', '4.1 and up', '4.0.3 and up', '4.1 and up', '5.0 and up', '4.4 and up', '4.0.3 and up', '4.1 and up', '5.0 and up', '4.1 and up', '4.0 and up', '4.0.3 and up', '4.0 and up', '4.1 and up', '4.0.3 and up', '4.0 and up', '4.0.3 and up', '4.2 and up', 'Varies with device', '4.1 and up', '4.0.3 and up', '4.0.3 and up', '5.0 and up', '4.0 and up', '4.1 and up', '4.1 and up', '4.1 and up', '4.1 and up', '4.1 and up', '4.4 and up', '4.1 and up', '5.0 and up', '4.4 and up', '4.1 and up', '4.1 and up', '4.0.3 and up', '4.1 and up', '4.1 and up', '4.1 and up', 'Varies with device', '5.0 and up', '5.0 and up', '4.1 and up', '4.0.3 and up', '4.0.3 and up', '4.2 and up', '4.4 and up', 'Varies with device', '4.1 and up', '4.2 and up', '4.1 and up', '4.1 and up', '4.1 and up', '4.3 and up', '4.1 and up', '4.0.3 and up', '4.1 and up', '4.1 and up', '4.0.3 and up', '4.1 and up', 'Varies with device', '4.0.3 and up', '4.1 and up', '4.1 and up', '4.2 and up', '4.0.3 and up', '4.1 and up', '4.0.3 and up', '4.1 and up', '4.2 and up', '4.1 and up', '4.1 and up', '4.0.3 and up', '4.1 and up', '4.0.3 and up', '4.1 and up', '4.0 and up', '4.1 and up', '4.0.3 and up', '4.1 and up', '4.1 and up', '4.0.3 and up', '4.0.3 and up', '4.0.3 and up', '4.2 and up', '4.0 and up', '4.1 and up', '4.0 and up', '4.4 and up', '4.3 and up', '4.0.3 and up', '4.0.3 and up', '4.0.3 and up', '4.0.3 and up', '4.0.3 and up', '4.0.3 and up', '4.4 and up', '4.0.3 and up', '4.0.3 and up', '4.4 and up', '4.0.3 and up', '4.0.3 and up', '4.0.3 and up', '4.1 and up', '4.0.3 and up', '4.0.3 and up', '4.0.3 and up', '4.0.3 and up', '4.0.3 and up', '4.0.3 and up', '4.0 and up', '4.1 and up', '4.1 and up', '5.0 and up', '4.0.3 and up', '4.0.3 and up', '4.2 and up', '5.0 and up', '4.1 and up', '4.3 and up', '4.4 and up', '4.4 and up', 'Varies with device', '4.0.3 and up', '4.0.3 and up', '4.0.3 and up', '4.1 and up', '4.0.3 and up', '4.4 and up', '4.1 and up', '4.4 and up', '4.1 and up', '4.0.3 and up', '4.0.3 and up', '4.0.3 and up', '4.1 and up', '4.0.3 and up', '4.0.3 and up', '4.0.3 and up', '4.0.3 and up', '4.0.3 and up', '4.0 and up', '4.4 and up', '4.0.3 and up', '4.0 and up', '4.1 and up', '4.1 and up', '4.2 and up', '4.0.3 and up', 'Varies with device', '4.1 and up', '4.0 and up', '4.1 and up', '4.0 and up', '4.0 and up', '4.0 and up', '4.0.3 and up', '4.0 and up', '4.0 and up', '4.1 and up', '4.1 and up', '4.2 and up', 'Varies with device', 'Varies with device', '4.0 and up', '4.0 and up', '4.4 and up', '4.0 and up', '2.3 and up', '4.1 and up', '5.0 and up', '1.6 and up', '4.4 and up', 'Varies with device', '4.0.3 and up', '2.3 and up', '4.2 and up', '4.4 and up', '2.3 and up', '4.1 and up', '4.1 and up', '2.3 and up', '4.1 and up', 'Varies with device', '4.0.3 and up', '4.1 and up', 'Varies with device', '4.1 and up', '4.1 and up', 'Varies with device', '5.0 and up', 'Varies with device', '4.1 and up', 'Varies with device', '4.0.3 and up', 'Varies with device', '5.0 and up', '4.1 and up', '4.1 and up', 'Varies with device', 'Varies with device', '4.0 and up', '2.3 and up', '2.3 and up', '2.3 and up', '5.0 and up', '5.0 and up', '4.0 and up', 'Varies with device', '4.0 and up', '4.0 and up', '4.0 and up', '4.1 and up', '4.0 and up', '4.4 and up', '4.1 and up', '4.4 and up', '2.2 and up', '2.3.3 and up', '2.1 and up', 'Varies with device', '2.3.3 and up', '4.0 and up', 'Varies with device', '2.1 and up', '4.1 and up', 'Varies with device', '4.0 and up', 'Varies with device', 'Varies with device', 'Varies with device', '4.1 and up', '4.1 and up', 'Varies with device', 'Varies with device', 'Varies with device', '5.0 and up', '5.0 and up', '4.1 and up', '5.0 and up', 'Varies with device', '4.1 and up', 'Varies with device', 'Varies with device', '4.4 and up', '4.4 and up', 'Varies with device', '4.1 and up', 'Varies with device', '4.0 and up', '5.0 and up', '4.4 and up', '4.2 and up', '4.1 and up', '4.0 and up', 'Varies with device', '4.0 and up', '5.0 and up', 'Varies with device', '2.3 and up', '4.0.3 and up', '4.0 and up', '2.3 and up', 'Varies with device', '4.0.3 and up', '2.3 and up', '4.0 and up', 'Varies with device', 'Varies with device', '4.0.3 and up', '3.2 and up', '4.4 and up', 'Varies with device', 'Varies with device', '4.1 and up', 'Varies with device', '3.0 and up', '4.0 and up', '4.1 and up', '4.2 and up', '5.0 and up', 'Varies with device', '4.4 and up', '3.0 and up', '5.0 and up', 'Varies with device', '4.4 and up', 'Varies with device', 'Varies with device', '4.1 and up', '4.0 and up', 'Varies with device', '4.1 and up', '4.1 and up', 'Varies with device', '5.0 and up', '5.0 and up', '4.0.3 and up', '4.1 and up', '4.1 and up', '4.0.3 and up', '4.1 and up', '4.4 and up', '4.4 and up', 'Varies with device', '4.0.3 and up', 'Varies with device', '4.1 and up', '4.1 and up', '5.0 and up', 'Varies with device', '6.0 and up', '4.2 and up', '4.0.3 and up', 'Varies with device', 'Varies with device', 'Varies with device', '4.0 and up', 'Varies with device', '2.3.3 and up', '4.0.3 and up', '4.1 and up', 'Varies with device', '4.1 and up', 'Varies with device', '4.2 and up', '4.2 and up', 'Varies with device', '4.1 and up', '4.1 and up', '4.1 and up', '4.0.3 and up', '4.4 and up', '4.1 and up', 'Varies with device', '4.1 and up', '4.4 and up', 'Varies with device', 'Varies with device', '4.3 and up', '4.1 and up', '4.1 and up', '4.1 and up', 'Varies with device', '4.2 and up', '5.0 and up', 'Varies with device', '4.4 and up', 'Varies with device', '6.0 and up', '4.1 and up', '5.0 and up', 'Varies with device', 'Varies with device', 'Varies with device', 'Varies with device', '4.1 and up', 'Varies with device', '4.4 and up', 'Varies with device', '4.1 and up', 'Varies with device', '4.1 and up', 'Varies with device', '4.4 and up', '4.4 and up', '4.4 and up', '4.4 and up', '4.4 and up', '4.4 and up', '4.4 and up', '4.4 and up', '5.0 and up', 'Varies with device', 'Varies with device', 'Varies with device', '4.4 and up', '4.0.3 and up', '4.4 and up', 'Varies with device', 'Varies with device', '4.1 and up', 'Varies with device', 'Varies with device', 'Varies with device', '4.1 and up', '4.4 and up', '5.0 and up', '4.4 and up', '4.4 and up', '4.4 and up', '4.1 and up', '4.4 and up', 'Varies with device', '4.1 and up', '4.4 and up', '4.4 and up', '4.4 and up', '4.4 and up', '4.4 and up', '4.4 and up', '5.0 and up', '4.1 and up', 'Varies with device', 'Varies with device', '4.4 and up', '4.4 and up', 'Varies with device', '4.1 and up', 'Varies with device', 'Varies with device', 'Varies with device', '4.4 and up', 'Varies with device', '5.0 and up', 'Varies with device', '4.4 and up', '4.4 and up', 'Varies with device', '4.4 and up', 'Varies with device', '4.4 and up', '5.0 and up', 'Varies with device', 'Varies with device', '4.3 and up', '4.4 and up', '4.4 and up', 'Varies with device', '4.4 and up', '4.4 and up', '4.4 and up', '4.4 and up', '4.4 and up', '4.4 and up', '4.4 and up', '4.2 and up', 'Varies with device', 'Varies with device', '6.0 and up', '4.0.3 and up', '4.4 and up', 'Varies with device', '5.0 and up', 'Varies with device', 'Varies with device', '4.0 and up', '2.3.3 and up', '2.3 and up', '5.0 and up', '4.1 and up', '4.0.3 and up', 'Varies with device', '4.0.3 and up', 'Varies with device', '4.1 and up', '4.1 and up', 'Varies with device', '4.1 and up', '4.0 and up', '5.0 and up', '4.2 and up', '5.0 and up', 'Varies with device', '4.2 and up', '4.1 and up', '4.0 and up', '4.0 and up', '5.0 and up', '4.2 and up', 'Varies with device', '2.3.3 and up', 'Varies with device', '2.3.3 and up', '4.4 and up', '4.1 and up', '2.0 and up', '4.1 and up', 'Varies with device', '4.2 and up', '4.0 and up', '4.4 and up', '4.0.3 and up', '5.0 and up', '4.1 and up', '4.2 and up', '4.2 and up', 'Varies with device', '5.0 and up', 'Varies with device', '4.2 and up', '4.0.3 and up', '4.2 and up', '4.1 and up', 'Varies with device', '4.0 and up', 'Varies with device', '4.2 and up', 'Varies with device', 'Varies with device', '4.1 and up', '5.0 and up', '4.0.3 and up', '4.0.3 and up', 'Varies with device', 'Varies with device', 'Varies with device', '4.0.3 and up', '4.0.3 and up', '4.2 and up', '4.4 and up', '5.0 and up', 'Varies with device', '4.1 and up', '4.4 and up', '5.0 and up', '4.0 and up', '4.2 and up', '4.0 and up', '4.1 and up', '4.1 and up', 'Varies with device', '4.0 and up', '4.4 and up', 'Varies with device', 'Varies with device', '4.1 and up', '4.4W and up', 'Varies with device', '5.0 and up', '5.0 and up', '4.1 and up', '4.4 and up', 'Varies with device', 'Varies with device', 'Varies with device', '4.0 and up', 'Varies with device', '5.0 and up', '4.1 and up', '4.0 and up', '5.0 and up', '5.0 and up', 'Varies with device', '4.1 and up', '4.4 and up', '4.4 and up', '4.2 and up', '4.0 and up', '4.4 and up', '4.4 and up', '4.4 and up', 'Varies with device', '5.0 and up', '4.1 and up', 'Varies with device', '4.0.3 and up', '6.0 and up', '4.0.3 and up', '4.4 and up', '4.4 and up', '5.0 and up', '2.3.3 and up', 'Varies with device', 'Varies with device', '4.0 and up', 'Varies with device', '4.1 and up', 'Varies with device', 'Varies with device', 'Varies with device', '2.3 and up', 'Varies with device', '4.4 and up', 'Varies with device', '4.2 and up', 'Varies with device', '2.1 and up', 'Varies with device', '4.0 and up', '4.1 and up', 'Varies with device', 'Varies with device', '4.4 and up', 'Varies with device', '4.4 and up', 'Varies with device', 'Varies with device', '5.0 and up', '4.1 and up', '4.1 and up', '4.4 and up', '4.4 and up', '5.0 and up', '4.4 and up', '4.1 and up', '4.4 and up', '4.4 and up', '4.0.3 and up', '4.2 and up', '5.0 and up', 'Varies with device', '5.0 and up', '4.4 and up', '5.0 and up', '4.1 and up', '5.0 and up', '5.0 and up', '5.0 and up', '4.4 and up', '4.1 and up', '5.0 and up', 'Varies with device', '5.0 and up', '4.4 and up', '5.0 and up', '4.1 and up', '4.0.3 and up', 'Varies with device', '4.0.3 and up', 'Varies with device', '4.4 and up', '4.0.3 and up', '4.0.3 and up', '4.1 and up', '4.4 and up', '4.4 and up', '4.2 and up', '4.0 and up', '5.0 and up', '5.0 and up', '5.0 and up', '4.0.3 and up', '4.4 and up', '4.0.3 and up', 'Varies with device', '4.1 and up', 'Varies with device', '4.0.3 and up', 'Varies with device', 'Varies with device', '4.0.3 and up', '4.4 and up', '4.4 and up', 'Varies with device', '4.1 and up', '4.0.3 and up', '4.1 and up', '4.1 and up', '4.4 and up', '4.1 and up', '4.0 and up', '4.0.3 and up', '4.4 and up', 'Varies with device', '4.0.3 and up', 'Varies with device', '5.1 and up', '4.1 and up', 'Varies with device', '2.3.3 and up', '4.0 and up', 'Varies with device', 'Varies with device', '4.0 and up', '4.4 and up', '5.0 and up', '4.2 and up', '5.0 and up', '5.0 and up', '5.0 and up', '5.0 and up', 'Varies with device', 'Varies with device', '4.4 and up', '5.0 and up', 'Varies with device', '5.0 and up', 'Varies with device', 'Varies with device', 'Varies with device', '5.0 and up', '4.1 and up', '6.0 and up', 'Varies with device', '5.0 and up', '5.0 and up', '5.0 and up', 'Varies with device', '4.1 and up', '4.2 and up', 'Varies with device', 'Varies with device', '4.4 and up', '4.2 and up', '4.1 and up', '4.2 and up', '4.0 and up', '4.0 and up', '4.4 and up', '4.1 and up', '4.1 and up', '4.4 and up', '4.0 and up', '4.0 and up', '4.1 and up', '4.0.3 and up', '4.1 and up', '4.1 and up', '5.0 and up', '4.0.3 and up', 'Varies with device', '4.1 and up', 'Varies with device', '4.1 and up', '4.1 and up', '4.1 and up', '4.4 and up', '3.0 and up', 'Varies with device', '5.0 and up', '4.2 and up', 'Varies with device', '4.1 and up', '4.1 and up', 'Varies with device', '5.0 and up', '4.4 and up', 'Varies with device', '2.3 and up', '2.3.3 and up', '4.4 and up', '5.0 and up', 'Varies with device', '5.0 and up', '4.1 and up', '4.4 and up', '5.0 and up', '4.1 and up', 'Varies with device', 'Varies with device', 'Varies with device', '4.1 and up', 'Varies with device', '5.0 and up', 'Varies with device', '4.1 and up', '5.0 and up', '5.0 and up', '4.4 and up', '4.0.3 and up', '5.0 and up', 'Varies with device', 'Varies with device', '4.1 and up', '4.4 and up', '4.0.3 and up', '5.0 and up', 'Varies with device', 'Varies with device', '5.0 and up', 'Varies with device', '4.0 and up', 'Varies with device', '4.0.3 and up', '2.3.3 and up', '4.0 and up', '4.0.3 and up', '2.3.3 and up', 'Varies with device', '4.0.3 and up', '4.3 and up', '4.2 and up', '4.1 and up', '2.3.3 and up', 'Varies with device', 'Varies with device', 'Varies with device', 'Varies with device', '4.4 and up', '4.2 and up', '4.1 and up', '4.0 and up', 'Varies with device', 'Varies with device', '4.0.3 and up', '4.0.3 and up', '4.3 and up', 'Varies with device', '5.0 and up', '4.1 and up', '4.4 and up', '4.0.3 and up', 'Varies with device', '4.2 and up', 'Varies with device', 'Varies with device', '4.1 and up', 'Varies with device', '4.0.3 and up', 'Varies with device', '5.0 and up', 'Varies with device', '4.4 and up', '4.4 and up', 'Varies with device', 'Varies with device', '4.0.3 and up', '4.1 and up', '4.4 and up', 'Varies with device', 'Varies with device', '4.1 and up', '4.1 and up', 'Varies with device', '4.1 and up', '5.0 and up', 'Varies with device', 'Varies with device', '5.0 and up', '5.0 and up', '4.4 and up', 'Varies with device', 'Varies with device', 'Varies with device', '4.4 and up', 'Varies with device', 'Varies with device', '5.0 and up', '2.3.3 and up', '4.1 and up', '4.0.3 and up', '5.0 and up', 'Varies with device', '4.1 and up', '4.4 and up', '4.0.3 and up', '4.0 and up', 'Varies with device', '4.0 and up', 'Varies with device', 'Varies with device', '5.0 and up', '2.3.3 and up', '4.0 and up', '4.1 and up', '4.1 and up', 'Varies with device', '2.3 and up', '5.0 and up', '4.0.3 and up', '4.4 and up', '4.1 and up', 'Varies with device', '4.0.3 and up', '4.0 and up', '4.0 and up', 'Varies with device', 'Varies with device', '4.0.3 and up', '4.0.3 and up', '4.4 and up', 'Varies with device', 'Varies with device', '4.1 and up', '4.4 and up', '4.0.3 and up', 'Varies with device', '4.0.3 and up', '4.4 and up', '4.1 and up', '4.0 and up', '4.1 and up', 'Varies with device', 'Varies with device', 'Varies with device', '4.1 and up', 'Varies with device', 'Varies with device', '4.4 and up', '4.2 and up', '4.0 and up', '4.4 and up', '5.0 and up', 'Varies with device', '4.0.3 and up', '4.0.3 and up', '4.0.3 and up', '4.1 and up', '4.4 and up', 'Varies with device', 'Varies with device', '4.0 and up', 'Varies with device', '4.2 and up', '5.0 and up', '4.0.3 and up', '4.0.3 and up', 'Varies with device', '4.0 and up', 'Varies with device', '5.0 and up', 'Varies with device', 'Varies with device', '4.1 and up', '4.1 and up', '4.4 and up', '4.0 and up', 'Varies with device', '4.0.3 and up', '5.0 and up', '4.0.3 and up', '4.4 and up', '4.1 and up', 'Varies with device', 'Varies with device', '4.1 and up', '4.0.3 and up', '4.0 and up', '4.0.3 and up', '4.0 and up', '4.0 and up', '4.0.3 and up', '3.0 and up', '3.0 and up', '3.0 and up', '3.0 and up', 'Varies with device', '3.0 and up', '3.0 and up', '3.0 and up', '5.0 and up', '4.1 and up', '4.0 and up', '5.0 and up', '5.0 and up', '4.0.3 and up', 'Varies with device', '4.4 and up', '4.2 and up', 'Varies with device', 'Varies with device', '4.4 and up', 'Varies with device', '4.4 and up', 'Varies with device', '4.0.3 and up', '5.0 and up', '2.3 and up', '2.2 and up', '4.0.3 and up', '2.2 and up', '4.0 and up', '4.0.3 and up', '4.0 and up', '2.2 and up', 'Varies with device', '2.3 and up', '4.0.3 and up', '7.1 and up', '2.3 and up', '4.1 and up', '4.0.3 and up', '4.0.3 and up', '1.5 and up', '4.0.3 and up', '1.6 and up', '4.2 and up', 'Varies with device', '1.6 and up', '4.1 and up', '5.0 and up', '2.3 and up', '4.0 and up', '1.5 and up', '2.3 and up', '2.3 and up', '4.0.3 and up', '3.2 and up', '4.0 and up', '4.4 and up', '4.1 and up', '5.0 and up', '2.3 and up', '4.0 and up', '4.0 and up', '4.0 and up', '4.0.3 and up', '2.3 and up', '4.0.3 and up', '4.0.3 and up', '7.0 - 7.1.1', '2.3 and up', '4.1 and up', '7.0 and up', '2.3.3 and up', '4.4 and up', '4.1 and up', '4.4 and up', '5.0 and up', '4.0 and up', '4.1 and up', '4.4 and up', '4.4 and up', '4.1 and up', '2.3 and up', '2.3 and up', '5.0 and up', '2.3 and up', '4.0.3 and up', '4.4 and up', '4.0.3 and up', '5.0 and up', '4.0 and up', '4.0.3 and up', '4.4 and up', '2.3 and up', '4.0 and up', '4.1 and up', '4.0 and up', '4.3 and up', '4.2 and up', '4.1 and up', '4.3 and up', 'Varies with device', '4.0.3 and up', '4.1 and up', '4.1 and up', '4.4 and up', '4.0.3 and up', '4.1 and up', 'Varies with device', '5.0 and up', 'Varies with device', '4.4 and up', '4.0.3 and up', '4.0 and up', '4.0 and up', '4.0 and up', '4.1 and up', '4.3 and up', '4.1 and up', 'Varies with device', '2.2 and up', '2.3 and up', '4.3 and up', '4.1 and up', '4.1 and up', 'Varies with device', '2.2 and up', '2.3 and up', '4.3 and up', '4.1 and up', '4.0.3 and up', '5.0 and up', '4.2 and up', '2.2 and up', '4.1 and up', '4.4 and up', '4.0.3 and up', 'Varies with device', '4.0 and up', '4.0.3 and up', 'Varies with device', 'Varies with device', '4.0 and up', '4.0.3 and up', 'Varies with device', '4.1 and up', 'Varies with device', 'Varies with device', '4.0.3 and up', '4.1 and up', '4.1 and up', '4.1 and up', '4.1 and up', '4.0.3 and up', '4.1 and up', '2.3 and up', '4.1 and up', '4.0 and up', '4.0 and up', '4.1 and up', '2.3 and up', '4.1 and up', '4.1 and up', '4.1 and up', '4.1 and up', '2.3 and up', '4.1 and up', '4.4 and up', '2.3.3 and up', '4.1 and up', '4.0 and up', '4.0.3 and up', '4.1 and up', '3.0 and up', '3.0 and up', '4.0 and up', '4.1 and up', '4.1 and up', '4.0.3 and up', '4.0.3 and up', '4.1 and up', 'Varies with device', '4.1 and up', '4.1 and up', '4.0 and up', '4.2 and up', '4.0.3 and up', '4.0.3 and up', '4.0.3 and up', '4.1 and up', 'Varies with device', '2.3 and up', '4.0 and up', '4.1 and up', '4.1 and up', 'Varies with device', '4.1 and up', '4.1 and up', '4.0 and up', '4.0.3 and up', '4.1 and up', '4.1 and up', '4.1 and up', '4.0.3 and up', '4.1 and up', '4.4 and up', '4.1 and up', '4.0.3 and up', '4.1 and up', '4.4 and up', '4.1 and up', '3.0 and up', '4.1 and up', '4.0.3 and up', '4.0.3 and up', '2.3 and up', '4.1 and up', '4.1 and up', '4.1 and up', 'Varies with device', '4.0 and up', '4.1 and up', '4.1 and up', '4.1 and up', '2.3 and up', '4.0 and up', 'Varies with device', '4.0.3 and up', '4.0.3 and up', '2.3 and up', '4.0 and up', '2.3 and up', '4.1 and up', '4.1 and up', '4.3 and up', '4.4 and up', '4.1 and up', '4.0.3 and up', '4.1 and up', '4.2 and up', '4.1 and up', '4.0.3 and up', '4.0.3 and up', '4.0.3 and up', '4.1 and up', '4.1 and up', '4.1 and up', '4.1 and up', '4.1 and up', '4.1 and up', '4.0 and up', '4.0.3 and up', 'Varies with device', '2.3 and up', '4.1 and up', '4.0 and up', '4.4 and up', '4.1 and up', '4.1 and up', '4.1 and up', '4.4 and up', '4.1 and up', '5.0 and up', '4.1 and up', '4.1 and up', '4.4 and up', '4.1 and up', '4.1 and up', '4.1 and up', '4.0 and up', '4.1 and up', '4.1 and up', '4.1 and up', '4.1 and up', '4.0.3 and up', '4.3 and up', '4.1 and up', '4.1 and up', '4.4 and up', '5.0 and up', '4.1 and up', '4.3 and up', 'Varies with device', '4.1 and up', '4.1 and up', '5.0 and up', '4.1 and up', '4.1 and up', '4.1 and up', '4.0.3 and up', '4.3 and up', '5.0 and up', '4.1 and up', '4.1 and up', '5.0 and up', '4.1 and up', '4.1 and up', '4.4 and up', '5.0 and up', '4.4 and up', '4.1 and up', '4.1 and up', '6.0 and up', 'Varies with device', '4.0.3 and up', '4.1 and up', '4.0.3 and up', '4.2 and up', '4.4 and up', '4.1 and up', '4.1 and up', 'Varies with device', '4.1 and up', '6.0 and up', '4.0 and up', '2.3 and up', '4.4 and up', '4.1 and up', '4.3 and up', '4.0.3 and up', '4.0.3 and up', '4.4 and up', '4.1 and up', '4.0.3 and up', '4.3 and up', '4.3 and up', '4.4 and up', '4.4 and up', '5.0 and up', '4.4 and up', '2.3 and up', '4.4 and up', '4.0.3 and up', '2.3.3 and up', '4.1 and up', '4.4 and up', '6.0 and up', '4.1 and up', '4.1 and up', '4.1 and up', '4.0.3 and up', '4.1 and up', '4.4 and up', '4.3 and up', '4.0.3 and up', '4.4 and up', 'Varies with device', '4.0.3 and up', '4.4 and up', '4.0.3 and up', '4.0.3 and up', '4.1 and up', '4.0.3 and up', '4.1 and up', '4.4 and up', '6.0 and up', '4.0.3 and up', '4.0.3 and up', '4.0.3 and up', '2.3 and up', '4.0 and up', '4.3 and up', '2.3 and up', '4.0.3 and up', '4.0.3 and up', '4.1 and up', '4.1 and up', '4.0.3 and up', '4.1 and up', '4.1 and up', '2.3 and up', '4.0.3 and up', '4.1 and up', '4.1 and up', '4.1 and up', '4.1 and up', '2.3 and up', '4.1 and up', '3.0 and up', '2.3 and up', '4.0 and up', '4.0 and up', '4.0 and up', '4.1 and up', '4.0.3 and up', '4.1 and up', '4.1 and up', '2.3 and up', '4.0.3 and up', '4.0.3 and up', '4.0.3 and up', '4.0.3 and up', '4.1 and up', '4.4 and up', '4.1 and up', '4.1 and up', '4.0 and up', '4.0 and up', '4.4 and up', '4.1 and up', '4.0.3 and up', '4.1 and up', '4.1 and up', '4.1 and up', '4.1 and up', '4.2 and up', 'Varies with device', '4.3 and up', '4.0.3 and up', '4.0.3 and up', 'Varies with device', '4.0.3 and up', 'Varies with device', '4.1 and up', '4.1 and up', '5.0 and up', '4.0 and up', '2.3 and up', '4.1 and up', '4.1 and up', '4.1 and up', 'Varies with device', '4.1 and up', '2.3.3 and up', '4.4 and up', '4.4 and up', '4.2 and up', '4.0.3 and up', '3.0 and up', '4.0 and up', '3.0 and up', '6.0 and up', 'Varies with device', '4.1 and up', '2.3 and up', '4.1 and up', '4.1 and up', '4.0 and up', '3.0 and up', '2.3 and up', '4.1 and up', '4.1 and up', '2.3.3 and up', '4.0.3 and up', '2.3 and up', '4.0.3 and up', '4.1 and up', '4.1 and up', '5.0 and up', '4.0.3 and up', '4.0.3 and up', 'Varies with device', '4.1 and up', '4.0.3 and up', '4.0 and up', 'Varies with device', '4.1 and up', '4.0 and up', '4.1 and up', '4.2 and up', '4.0.3 and up', '4.0.3 and up', '4.1 and up', '4.1 and up', '2.3 and up', '4.1 and up', '4.0.3 and up', '4.0.3 and up', '4.0.3 and up', 'Varies with device', '4.0.3 and up', '4.0.3 and up', '4.1 and up', '4.2 and up', '2.3.3 and up', '4.1 and up', '4.0.3 and up', '4.1 and up', '4.1 and up', '4.0 and up', '4.1 and up', '4.0 and up', '4.1 and up', '4.0 and up', '4.1 and up', '4.1 and up', '4.1 and up', 'Varies with device', '4.2 and up', '4.0 and up', '4.1 and up', '2.3 and up', '4.1 and up', '4.1 and up', '4.4 and up', '4.1 and up', '4.1 and up', '2.3.3 and up', '4.1 and up', '4.3 and up', '4.4 and up', '2.3 and up', '4.0 and up', '4.1 and up', 'Varies with device', 'Varies with device', 'Varies with device', '2.3 and up', '2.3.3 and up', '4.1 and up', '4.1 and up', '4.0.3 and up', '4.1 and up', '4.0.3 and up', '4.0.3 and up', '4.0.3 and up', '4.1 and up', '4.0.3 and up', '4.1 and up', '2.3 and up', '4.1 and up', '4.0 and up', '4.1 and up', '4.0.3 and up', '4.0.3 and up', '4.1 and up', '2.3 and up', '4.1 and up', '4.1 and up', '4.0.3 and up', '4.0.3 and up', '2.3 and up', 'Varies with device', '4.1 and up', '4.0.3 and up', '4.0.3 and up', 'Varies with device', '2.3 and up', '4.0.3 and up', '4.0.3 and up', '4.0.3 and up', '4.1 and up', '4.0 and up', '4.0.3 and up', '4.0 and up', '4.1 and up', 'Varies with device', '4.0.3 and up', '2.3.3 and up', '4.0 and up', '4.1 and up', '4.0.3 and up', 'Varies with device', '4.4 and up', '4.4 and up', '4.1 and up', '4.1 and up', '5.0 and up', '4.4 and up', '4.4 and up', '4.2 and up', '4.1 and up', '4.1 and up', '4.0.3 and up', '4.1 and up', '4.1 and up', '4.1 and up', '4.4 and up', '4.4 and up', '5.0 and up', '4.1 and up', '4.0.3 and up', 'Varies with device', 'Varies with device', '4.1 and up', '4.0.3 and up', 'Varies with device', '4.1 and up', '4.1 and up', '4.1 and up', '4.1 and up', '4.1 and up', '4.4 and up', '4.1 and up', '4.1 and up', '4.0.3 and up', 'Varies with device', '4.1 and up', '4.0 and up', '4.4 and up', '4.1 and up', '2.3.3 and up', '4.1 and up', '4.1 and up', '4.1 and up', '4.0.3 and up', '4.0.3 and up', '4.4 and up', '4.2 and up', '4.2 and up', '4.1 and up', '4.1 and up', '4.1 and up', '4.0.3 and up', '4.0 and up', '4.1 and up', '4.1 and up', '4.1 and up', '2.3 and up', '4.1 and up', '2.3 and up', '4.3 and up', '2.3 and up', '4.0.3 and up', '2.3.3 and up', '4.1 and up', '4.1 and up', '4.2 and up', '4.0 and up', '4.0 and up', '4.4 and up', '2.3.3 and up', '4.1 and up', '4.1 and up', '4.1 and up', '4.0 and up', '4.2 and up', '4.0 and up', '2.3 and up', '4.0.3 and up', '4.0.3 and up', '4.1 and up', '2.3 and up', '4.2 and up', '4.0.3 and up', '4.1 and up', '4.1 and up', '2.3 and up', '5.1 and up', '4.2 and up', '4.0 and up', '4.1 and up', '4.1 and up', '4.0 and up', '4.1 and up', 'Varies with device', '4.4 and up', '4.0.3 and up', '2.3 and up', '2.3 and up', '4.0.3 and up', '2.3 and up', '2.3 and up', '4.1 and up', '4.1 and up', '3.0 and up', '4.1 and up', '2.3 and up', '4.0.3 and up', '4.1 and up', '4.4 and up', '4.0 and up', '2.3 and up', 'Varies with device', '4.0 and up', '4.0 and up', '4.0 and up', '5.1 and up', '2.3.3 and up', '4.1 and up', '4.1 and up', '4.1 and up', '2.3 and up', '4.0 and up', '2.3 and up', '4.0.3 and up', '4.0 and up', '2.3 and up', '4.0.3 and up', '4.2 and up', '4.0.3 and up', '2.2 and up', '4.4 and up', '4.3 and up', '4.0.3 and up', '2.3 and up', '4.0.3 and up', '4.0 and up', '4.0.3 and up', '4.0 and up', '2.3 and up', '4.0.3 and up', '4.2 and up', '4.0.3 and up', '2.2 and up', '4.4 and up', '4.3 and up', '4.0.3 and up', '2.3 and up', '4.0.3 and up', '4.0 and up', '4.1 and up', 'Varies with device', '4.1 and up', '4.2 and up', '4.1 and up', '4.0.3 and up', '4.2 and up', '4.4 and up', '4.1 and up', '4.1 and up', 'Varies with device', '4.4 and up', '4.1 and up', '4.1 and up', '4.4 and up', '4.0.3 and up', '4.0 and up', '4.2 and up', '2.3 and up', '4.2 and up', '4.4 and up', '4.4 and up', '6.0 and up', '4.0.3 and up', '4.4 and up', '2.3 and up', '4.0.3 and up', '2.3 and up', 'Varies with device', '4.0 and up', '4.0 and up', '4.1 and up', '4.3 and up', '4.1 and up', '5.0 and up', 'Varies with device', '2.3.3 and up', '4.0 and up', '2.2 and up', '4.1 and up', '2.2 and up', 'Varies with device', '4.1 and up', '6.0 and up', '5.0 and up', '5.0 and up', '4.0.3 and up', '4.0.3 and up', '4.4W and up', '4.0.3 and up', '4.0.3 and up', '4.1 and up', '4.0 and up', '5.0 and up', 'Varies with device', '4.0 and up', '4.1 and up', '4.0.3 and up', '4.0.3 and up', '4.0 and up', '2.1 and up', '4.1 and up', '3.0 and up', '4.0 and up', '4.0 and up', '3.0 and up', '3.0 and up', '4.4 and up', '4.1 and up', 'Varies with device', '4.4 and up', '2.1 and up', '1.6 and up', '3.0 and up', 'Varies with device', '2.3 and up', '4.1 and up', '2.3.3 and up', '4.1 and up', 'Varies with device', '4.1 and up', '4.4W and up', 'Varies with device', 'Varies with device', '4.2 and up', '4.1 and up', '2.3.3 and up', '2.1 and up', '4.1 and up', '2.2 and up', '4.0.3 and up', '2.3.3 and up', '4.0 and up', '3.2 and up', '4.1 and up', 'Varies with device', '4.4 and up', 'Varies with device', '4.3 and up', '4.3 and up', '5.0 and up', '4.1 and up', '4.1 and up', '4.4 and up', '4.4 and up', '5.1 and up', 'Varies with device', '4.3 and up', '4.4 and up', '4.1 and up', '4.1 and up', '6.0 and up', '4.3 and up', '5.0 and up', '4.0 and up', '4.1 and up', '4.3 and up', '4.0 and up', '4.0.3 and up', '4.4 and up', '4.0 and up', '4.4 and up', '5.0 and up', '4.1 and up', '4.1 and up', '4.0.3 and up', '5.0 and up', '4.4 and up', '5.0 and up', '4.4 and up', '5.0 and up', '4.1 and up', '4.4 and up', '4.1 and up', '4.0.3 and up', '4.1 and up', '4.1 and up', '4.1 and up', '4.1 and up', '4.4 and up', '4.1 and up', '4.1 and up', '4.4 and up', 'Varies with device', '5.0 and up', '4.0 and up', '4.4 and up', '4.0 and up', '4.1 and up', '4.0 and up', '6.0 and up', '4.4 and up', '5.0 and up', '4.1 and up', '4.4 and up', '4.0.3 and up', '4.0 and up', '5.0 and up', '4.1 and up', '4.4 and up', '4.4 and up', '4.4 and up', '5.0 and up', '4.1 and up', 'Varies with device', '4.1 and up', '4.4 and up', '4.1 and up', '2.2 and up', '4.4 and up', '4.1 and up', '4.2 and up', '7.0 and up', '4.1 and up', '2.2 and up', '4.0.3 and up', '4.0.3 and up', '4.0 and up', '4.1 and up', '4.0 and up', '7.0 and up', '3.0 and up', 'Varies with device', '4.0.3 and up', '4.4W and up', '4.4 and up', '4.4 and up', 'Varies with device', '4.1 and up', '3.0 and up', '5.0 and up', '4.0 and up', '4.2 and up', '4.4 and up', '4.1 and up', '2.2 and up', '4.4 and up', '4.1 and up', '3.0 and up', '4.4 and up', '4.0 and up', '4.1 and up', '5.0 and up', '4.1 and up', '4.1 and up', '5.0 and up', '4.4 and up', '4.0 and up', '4.1 and up', 'Varies with device', '4.0.3 and up', '5.0 and up', '4.4 and up', '5.0 and up', '4.1 and up', '4.2 and up', '4.1 and up', '4.1 and up', '4.1 and up', '4.0.3 and up', '4.0.3 and up', '4.1 and up', '5.0 and up', '4.0 and up', '4.1 and up', '4.4 and up', '4.0.3 and up', '4.0.3 and up', '4.1 and up', '4.1 and up', '4.4 and up', '8.0 and up', '4.3 and up', '4.4 and up', '4.4 and up', '4.3 and up', '4.0.3 and up', '5.0 and up', '3.0 and up', '6.0 and up', '5.0 and up', '4.1 and up', '4.2 and up', '3.0 and up', '4.4 and up', '4.0.3 and up', '4.0.3 and up', '4.0.3 and up', '3.0 and up', '4.4 and up', '3.0 and up', '4.0.3 and up', '4.0.3 and up', '4.3 and up', '4.0.3 and up', '5.0 and up', '5.0 and up', '4.4 and up', '5.0 and up', '5.0 and up', 'Varies with device', '4.0 and up', '4.1 and up', '2.2 and up', '4.0 and up', '4.4 and up', '4.3 and up', '4.4 and up', '5.0 and up', '4.0.3 and up', '2.3.3 and up', '4.0.3 and up', '4.1 and up', '4.0 and up', '4.0.3 and up', '4.0.3 and up', '4.0 and up', '4.1 and up', '3.0 and up', '4.0.3 and up', '4.0.3 and up', '5.0 and up', 'Varies with device', 'Varies with device', 'Varies with device', '4.1 and up', 'Varies with device', '4.0 and up', 'Varies with device', '4.0 and up', 'Varies with device', 'Varies with device', 'Varies with device', '4.1 and up', '4.1 and up', '4.3 and up', 'Varies with device', '4.1 and up', '5.0 and up', '4.0.3 and up', '4.1 and up', '4.0 and up', '4.0.3 and up', 'Varies with device', '4.1 and up', '2.3 and up', '4.0.3 and up', '4.3 and up', '4.1 and up', '4.0.3 and up', '4.1 and up', '4.3 and up', 'Varies with device', '4.0.3 and up', '4.0 and up', '4.4 and up', '4.4 and up', 'Varies with device', '2.2 and up', '4.0.3 and up', '5.0 and up', '4.4 and up', 'Varies with device', '4.4 and up', 'Varies with device', 'Varies with device', 'Varies with device', 'Varies with device', '4.1 and up', '4.1 and up', 'Varies with device', '4.1 and up', 'Varies with device', '4.3 and up', 'Varies with device', 'Varies with device', 'Varies with device', 'Varies with device', '2.1 and up', 'Varies with device', '4.0.3 and up', 'Varies with device', 'Varies with device', 'Varies with device', 'Varies with device', '4.1 and up', '4.4 and up', '4.1 and up', 'Varies with device', 'Varies with device', 'Varies with device', '5.0 and up', 'Varies with device', '2.3 and up', 'Varies with device', '4.1 and up', '4.3 and up', '4.1 and up', '4.0.3 and up', '5.0 and up', 'Varies with device', 'Varies with device', 'Varies with device', 'Varies with device', '2.3 and up', 'Varies with device', '5.0 and up', 'Varies with device', '4.1 and up', '4.2 and up', '4.1 and up', '5.0 and up', '4.4 and up', 'Varies with device', 'Varies with device', '4.1 and up', '2.3 and up', 'Varies with device', '4.4 and up', '4.4 and up', 'Varies with device', '4.1 and up', 'Varies with device', '4.2 and up', 'Varies with device', 'Varies with device', '4.1 and up', '4.3 and up', 'Varies with device', 'Varies with device', '2.3 and up', '4.4 and up', '4.4 and up', '4.1 and up', 'Varies with device', '4.1 and up', '4.1 and up', '5.0 and up', 'Varies with device', 'Varies with device', 'Varies with device', '4.1 and up', '4.4 and up', '4.2 and up', '4.1 and up', '4.1 and up', 'Varies with device', '4.1 and up', '4.0.3 and up', '4.0 and up', '4.0.3 and up', '4.1 and up', 'Varies with device', '4.1 and up', '4.1 and up', '4.1 and up', '4.1 and up', '4.1 and up', '4.0.3 and up', '4.0.3 and up', '4.1 and up', '4.4 and up', 'Varies with device', 'Varies with device', '4.2 and up', '4.3 and up', 'Varies with device', '4.1 and up', '4.1 and up', '4.2 and up', '4.1 and up', '4.1 and up', '4.0 and up', '4.0.3 and up', '4.0.3 and up', '5.0 and up', 'Varies with device', 'Varies with device', '4.2 and up', '4.0.3 and up', '4.0 and up', '4.3 and up', 'Varies with device', '4.3 and up', 'Varies with device', '4.0.3 and up', '4.4 and up', '4.0 and up', 'Varies with device', '4.4 and up', '4.1 and up', '4.1 and up', '4.1 and up', 'Varies with device', 'Varies with device', '4.4 and up', '4.1 and up', '4.4 and up', '4.4 and up', '5.0 and up', '4.4 and up', '4.3 and up', 'Varies with device', 'Varies with device', 'Varies with device', 'Varies with device', '4.4 and up', 'Varies with device', '4.4 and up', 'Varies with device', 'Varies with device', 'Varies with device', '4.1 and up', '4.1 and up', '4.4 and up', 'Varies with device', 'Varies with device', 'Varies with device', '4.4 and up', '4.1 and up', '4.0 and up', '4.4 and up', '2.3 and up', '4.4 and up', '4.0.3 and up', 'Varies with device', 'Varies with device', '4.1 and up', 'Varies with device', '4.1 and up', 'Varies with device', '4.4 and up', '4.0.3 and up', '4.1 and up', 'Varies with device', '4.4 and up', 'Varies with device', 'Varies with device', '4.4 and up', '4.0.3 and up', '4.4 and up', '4.4 and up', '4.4 and up', '4.4 and up', '4.4 and up', 'Varies with device', '4.1 and up', '4.4 and up', '5.0 and up', '4.4 and up', 'Varies with device', '4.1 and up', 'Varies with device', '4.0 and up', '4.1 and up', '4.4 and up', '4.0.3 and up', '4.4 and up', '4.4 and up', '4.4 and up', '4.1 and up', 'Varies with device', 'Varies with device', '4.1 and up', '4.1 and up', '4.0.3 and up', '2.3.3 and up', '4.0.3 and up', 'Varies with device', '4.4 and up', '4.1 and up', '4.4 and up', '5.0 and up', '4.4 and up', '4.1 and up', '4.0 and up', 'Varies with device', '5.0 and up', '4.4 and up', '4.4 and up', '5.0 and up', '4.1 and up', '4.0.3 and up', '4.1 and up', '4.1 and up', '4.4 and up', 'Varies with device', 'Varies with device', '4.2 and up', '4.4 and up', '4.1 and up', '4.0.3 and up', '4.4 and up', '4.2 and up', '4.3 and up', '2.3 and up', '4.0.3 and up', '5.0 and up', '4.0 and up', '4.2 and up', '4.1 and up', '4.0 and up', '7.0 and up', '4.0.3 and up', '4.0.3 and up', '4.0 and up', '4.1 and up', 'Varies with device', '4.0.3 and up', '4.2 and up', '4.0.3 and up', 'Varies with device', '4.4 and up', '4.1 and up', 'Varies with device', '2.3 and up', '4.0.3 and up', '4.1 and up', '4.1 and up', '5.0 - 8.0', '4.0.3 and up', '2.3 and up', 'Varies with device', '4.4 and up', '4.0 and up', '4.0.3 and up', '4.0.3 and up', 'Varies with device', '4.0.3 and up', '4.0 and up', '4.1 and up', 'Varies with device', '4.0 and up', '4.0 and up', '4.4 and up', '5.0 and up', '4.0.3 and up', '4.3 and up', '4.0 and up', 'Varies with device', '4.1 and up', '2.3.3 and up', 'Varies with device', 'Varies with device', '2.3 and up', 'Varies with device', '4.0.3 and up', 'Varies with device', '4.4 and up', '4.0 and up', '4.0.3 and up', '4.0.3 and up', '4.0 and up', '2.3 and up', '4.0 and up', '4.0.3 and up', '4.0.3 and up', '4.1 and up', '3.0 and up', '4.1 and up', '4.0.3 and up', '4.1 and up', 'Varies with device', '4.0 and up', '4.0 and up', '4.4 and up', '5.0 and up', 'Varies with device', '4.0 and up', 'Varies with device', '4.0 and up', '2.3 and up', '2.1 and up', '4.2 and up', '5.0 and up', 'Varies with device', '4.0.3 and up', '4.0 and up', 'Varies with device', '4.2 and up', '4.0 and up', '4.0.3 and up', 'Varies with device', 'Varies with device', '2.2 and up', '4.0.3 and up', 'Varies with device', '4.0.3 and up', '4.4 and up', '4.0.3 and up', '4.1 and up', 'Varies with device', '4.2 and up', '3.1 and up', 'Varies with device', '4.0 and up', '2.3.3 and up', '4.2 and up', '4.0 and up', 'Varies with device', 'Varies with device', '4.0 and up', 'Varies with device', '4.0 and up', 'Varies with device', '5.1 and up', 'Varies with device', 'Varies with device', '4.1 and up', 'Varies with device', '4.0.3 and up', '4.1 and up', 'Varies with device', 'Varies with device', '4.4 and up', '4.1 and up', '4.0.3 and up', 'Varies with device', '4.1 and up', '4.4 and up', '4.1 and up', 'Varies with device', '4.0.3 and up', 'Varies with device', '4.3 and up', 'Varies with device', '4.4 and up', '4.0.3 and up', '4.1 and up', '4.0 and up', '2.3 and up', '4.0.3 and up', '2.3.3 and up', '5.0 and up', '4.0 and up', '4.1 and up', '4.3 and up', '5.0 and up', '4.0.3 and up', '4.1 and up', 'Varies with device', 'Varies with device', '4.4 and up', '4.4 and up', '4.1 and up', '4.4 and up', 'Varies with device', '5.0 and up', '4.0 and up', '4.0.3 and up', 'Varies with device', 'Varies with device', 'Varies with device', 'Varies with device', '5.0 and up', 'Varies with device', '4.1 and up', 'Varies with device', 'Varies with device', '4.1 and up', '4.1 and up', '4.1 and up', 'Varies with device', '4.1 and up', '4.4 and up', '4.1 and up', '4.2 and up', '4.1 and up', 'Varies with device', 'Varies with device', '4.1 and up', '2.3 and up', '4.1 and up', '4.0 and up', '4.0.3 and up', '4.0.3 and up', '4.1 and up', '4.0.3 and up', '4.4 and up', 'Varies with device', '4.4 and up', 'Varies with device', '4.1 and up', '4.2 and up', '4.1 and up', '5.0 and up', 'Varies with device', 'Varies with device', '5.0 and up', 'Varies with device', 'Varies with device', '4.4 and up', '4.4 and up', '5.0 and up', '4.4 and up', '5.0 and up', '5.0 and up', 'Varies with device', '5.0 and up', '4.1 and up', '4.4 and up', '4.1 and up', 'Varies with device', '4.1 and up', '4.1 and up', '4.1 and up', '4.1 and up', 'Varies with device', '4.4 and up', '5.0 and up', '4.0 and up', '4.1 and up', '4.2 and up', 'Varies with device', '2.3 and up', 'Varies with device', '4.0.3 and up', '4.1 and up', '5.0 and up', '5.0 and up', 'Varies with device', '4.4 and up', '4.1 and up', '4.4 and up', '5.0 and up', '5.0 and up', '5.0 and up', '5.0 and up', 'Varies with device', '4.0.3 and up', '2.3 and up', 'Varies with device', '4.4 and up', '4.4 and up', '5.0 and up', '4.1 and up', '5.1 and up', '4.1 and up', '5.0 and up', 'Varies with device', 'Varies with device', '4.4 and up', '5.0 and up', '4.2 and up', '5.1 and up', '4.4 and up', '5.0 and up', 'Varies with device', 'Varies with device', 'Varies with device', '5.0 and up', '5.0 and up', 'Varies with device', '4.0.3 and up', '2.3 and up', '4.1 and up', 'Varies with device', '5.0 and up', 'Varies with device', 'Varies with device', '4.4 and up', '4.1 and up', 'Varies with device', '4.4 and up', '2.3.3 and up', '4.4 and up', '4.1 and up', 'Varies with device', '5.0 and up', '5.1 and up', '4.2 and up', '4.4 and up', '4.4 and up', '4.2 and up', 'Varies with device', '5.0 and up', '5.0 and up', '5.0 and up', 'Varies with device', 'Varies with device', '5.0 and up', 'Varies with device', '5.0 and up', '5.0 and up', 'Varies with device', '5.0 and up', 'Varies with device', '4.4 and up', '4.0.3 and up', 'Varies with device', 'Varies with device', '4.1 and up', '4.1 and up', 'Varies with device', 'Varies with device', 'Varies with device', 'Varies with device', '4.0 and up', '4.0.3 and up', '4.1 and up', '4.4 and up', '6.0 and up', '4.1 and up', '4.2 and up', 'Varies with device', 'Varies with device', '4.4 and up', '5.0 and up', '4.3 and up', '4.4 and up', '5.0 and up', '4.0.3 and up', '4.1 and up', '4.2 and up', 'Varies with device', '5.0 and up', 'Varies with device', '4.2 and up', '4.4 and up', '5.0 and up', 'Varies with device', '5.0 and up', 'Varies with device', '4.1 and up', 'Varies with device', '5.0 and up', '4.4 and up', '4.1 and up', '4.1 and up', 'Varies with device', '4.1 and up', '4.0 and up', '4.4 and up', 'Varies with device', 'Varies with device', '4.1 and up', 'Varies with device', '4.4 and up', '5.0 and up', '4.1 and up', '4.0.3 and up', '4.4 and up', 'Varies with device', 'Varies with device', '4.0.3 and up', '4.1 and up', '4.0.3 and up', 'Varies with device', 'Varies with device', '4.1 and up', '5.0 and up', '4.4 and up', '5.0 and up', '5.0 and up', 'Varies with device', '4.4 and up', '4.4 and up', '6.0 and up', '4.4 and up', 'Varies with device', '4.4 and up', '5.0 and up', '4.1 and up', '5.0 and up', '5.0 and up', 'Varies with device', 'Varies with device', 'Varies with device', '4.1 and up', 'Varies with device', '4.4 and up', '4.1 and up', '4.2 and up', '4.0.3 and up', '4.1 and up', 'Varies with device', 'Varies with device', 'Varies with device', '4.4 and up', '4.1 and up', 'Varies with device', '5.0 and up', 'Varies with device', 'Varies with device', 'Varies with device', '4.4 and up', '4.4 and up', '4.4 and up', 'Varies with device', 'Varies with device', 'Varies with device', '4.1 and up', 'Varies with device', 'Varies with device', '4.1 and up', 'Varies with device', '5.0 and up', '4.4 and up', 'Varies with device', '4.4 and up', 'Varies with device', 'Varies with device', '4.0 and up', '4.0 and up', '4.0.3 and up', '4.1 and up', 'Varies with device', '5.0 and up', 'Varies with device', '4.0 and up', 'Varies with device', '5.0 and up', 'Varies with device', 'Varies with device', 'Varies with device', '4.4 and up', 'Varies with device', '4.0 and up', '8.0 and up', 'Varies with device', 'Varies with device', 'Varies with device', 'Varies with device', '4.0 and up', 'Varies with device', '4.1 and up', '4.2 and up', 'Varies with device', 'Varies with device', 'Varies with device', 'Varies with device', '4.2 and up', '4.1 and up', 'Varies with device', '5.0 and up', '7.0 and up', '5.0 and up', '7.0 and up', '4.1 and up', 'Varies with device', 'Varies with device', 'Varies with device', '7.1 and up', '4.1 and up', 'Varies with device', '5.0 and up', 'Varies with device', 'Varies with device', 'Varies with device', 'Varies with device', '4.0.3 and up', '8.0 and up', '4.2 and up', '6.0 and up', '4.1 and up', '4.1 and up', '4.1 and up', '4.4 and up', '4.0 and up', '4.4 and up', 'Varies with device', '4.0 and up', 'Varies with device', '4.0.3 and up', '3.0 and up', 'Varies with device', 'Varies with device', 'Varies with device', 'Varies with device', '2.3 and up', 'Varies with device', '4.1 and up', '3.0 and up', 'Varies with device', '4.2 and up', 'Varies with device', 'Varies with device', '4.1 and up', 'Varies with device', '4.1 and up', '2.3 and up', '4.0 and up', '4.4 and up', 'Varies with device', '4.2 and up', 'Varies with device', '3.0 and up', 'Varies with device', '2.3 and up', '4.0.3 and up', '5.0 and up', '4.0.3 and up', '4.0 and up', '4.1 and up', '4.1 and up', '4.1 and up', '4.1 and up', '4.1 and up', '4.0.3 and up', '4.0.3 and up', '4.1 and up', '4.1 and up', 'Varies with device', '2.3 and up', '4.1 and up', 'Varies with device', 'Varies with device', '6.0 and up', '4.2 and up', 'Varies with device', '4.4 and up', '4.2 and up', '4.0.3 and up', 'Varies with device', '2.3 and up', 'Varies with device', '2.2 and up', '4.0 and up', '4.0 and up', 'Varies with device', '4.2 and up', '3.2 and up', '4.0 and up', '2.3 and up', 'Varies with device', 'Varies with device', '2.2 and up', '4.0 and up', 'Varies with device', '4.0 and up', 'Varies with device', '4.4 and up', '4.0.3 and up', '4.4 and up', '4.2 and up', '5.0 and up', '4.0.3 and up', '4.0.3 and up', 'Varies with device', '4.0 and up', '4.0.3 and up', 'Varies with device', '4.0 and up', '4.2 and up', '4.1 and up', '4.1 and up', '4.0.3 and up', '4.0 and up', 'Varies with device', '4.2 and up', '4.0.3 and up', '5.0 and up', '4.0 and up', '4.0.3 and up', 'Varies with device', '4.2 and up', '4.1 and up', '4.0 and up', 'Varies with device', '4.0.3 and up', '5.0 and up', '4.0 and up', '5.0 and up', '4.0.3 and up', '4.0.3 and up', '4.4 and up', '4.0 and up', '4.0 and up', '4.0.3 and up', '5.0 and up', '2.3 and up', '4.0.3 and up', '4.0 and up', '4.1 and up', 'Varies with device', '4.1 and up', 'Varies with device', 'Varies with device', '3.2 and up', '2.3 and up', '2.3 and up', '4.4 and up', '4.2 and up', '1.6 and up', '4.0.3 and up', 'Varies with device', 'Varies with device', '4.0.3 and up', '4.0.3 and up', '4.1 and up', '2.3.3 and up', '2.1 and up', '4.1 and up', '4.2 and up', '2.1 and up', '4.0.3 and up', '4.4 and up', '4.0 and up', '3.0 and up', '4.0 and up', 'Varies with device', 'Varies with device', '4.1 and up', '4.1 and up', '2.1 and up', '4.1 and up', '4.1 and up', '4.1 and up', '4.1 and up', '4.1 and up', '4.1 and up', 'Varies with device', 'Varies with device', 'Varies with device', '4.0.3 and up', 'Varies with device', 'Varies with device', '2.1 and up', 'Varies with device', '4.1 and up', '4.0.3 and up', 'Varies with device', 'Varies with device', '4.0.3 and up', '4.1 and up', '4.0 and up', '4.4 and up', 'Varies with device', 'Varies with device', '4.1 and up', 'Varies with device', '4.4 and up', 'Varies with device', '4.4 and up', 'Varies with device', '4.4 and up', '4.4 and up', '4.1 and up', '5.0 and up', 'Varies with device', 'Varies with device', '4.4 and up', 'Varies with device', 'Varies with device', '4.1 and up', '4.0 and up', 'Varies with device', 'Varies with device', '4.0 and up', 'Varies with device', '5.0 - 8.0', 'Varies with device', 'Varies with device', 'Varies with device', 'Varies with device', '4.4 and up', 'Varies with device', '4.0.3 and up', 'Varies with device', 'Varies with device', '2.3.3 and up', 'Varies with device', '4.4 and up', '4.3 and up', '4.2 and up', 'Varies with device', 'Varies with device', '4.4 and up', '5.0 and up', 'Varies with device', '2.2 and up', 'Varies with device', '4.1 and up', '4.1 and up', '4.0.3 and up', 'Varies with device', '4.4 and up', '4.1 and up', 'Varies with device', '4.0 and up', '4.4 and up', '4.1 and up', 'Varies with device', 'Varies with device', 'Varies with device', '5.0 and up', 'Varies with device', '4.1 and up', '5.0 and up', 'Varies with device', '4.0 and up', '2.3 and up', '4.0 and up', '2.2 and up', '2.3 and up', 'Varies with device', '4.1 and up', '4.0 and up', '4.4 and up', 'Varies with device', 'Varies with device', 'Varies with device', 'Varies with device', '4.4 and up', 'Varies with device', '4.1 and up', '4.4 and up', '4.0 and up', '4.4 and up', 'Varies with device', 'Varies with device', 'Varies with device', 'Varies with device', '2.3 and up', '2.3.3 and up', '4.0 and up', '2.3 and up', '4.0 and up', 'Varies with device', '2.3.3 and up', '4.2 and up', 'Varies with device', 'Varies with device', 'Varies with device', 'Varies with device', '4.4 and up', '4.4 and up', 'Varies with device', '4.0.3 and up', '4.1 and up', 'Varies with device', '4.0.3 and up', '4.0 and up', '4.0.3 and up', 'Varies with device', 'Varies with device', 'Varies with device', '4.1 and up', 'Varies with device', 'Varies with device', 'Varies with device', 'Varies with device', 'Varies with device', 'Varies with device', '4.1 and up', 'Varies with device', '4.2 and up', '2.3.3 and up', 'Varies with device', '4.1 and up', 'Varies with device', '4.0.3 and up', 'Varies with device', '4.0 and up', '4.1 and up', '4.2 and up', '4.0.3 and up', '4.2 and up', '4.1 and up', '4.0 and up', '4.0.3 and up', '4.0 and up', '4.0 and up', '4.1 and up', '4.0.3 and up', '4.1 and up', '4.4 and up', 'Varies with device', '4.2 and up', '4.0 and up', '5.0 and up', '4.1 and up', '2.3 and up', '4.0.3 and up', '4.0.3 and up', '5.0 and up', '4.4 and up', '4.0.3 and up', '4.0.3 and up', '4.0.3 and up', '4.0.3 and up', '4.0.3 and up', '4.1 and up', '4.2 and up', '4.1 and up', '4.0.3 and up', '4.1 and up', '4.4 and up', '4.0.3 and up', '4.4 and up', '4.0 and up', '4.1 and up', 'Varies with device', '4.4 and up', 'Varies with device', '4.4 and up', 'Varies with device', '4.0 and up', 'Varies with device', 'Varies with device', '4.1 and up', '3.0 and up', '5.0 and up', '4.1 and up', '4.0 and up', 'Varies with device', '5.0 and up', '4.1 and up', '5.0 and up', '4.1 and up', '4.4 and up', 'Varies with device', 'Varies with device', 'Varies with device', '4.4 and up', 'Varies with device', '4.4 and up', 'Varies with device', 'Varies with device', 'Varies with device', 'Varies with device', '4.2 and up', '4.1 and up', '4.4 and up', '4.4 and up', '2.3 and up', '4.1 and up', '4.1 and up', 'Varies with device', '4.1 and up', '4.1 and up', 'Varies with device', '4.4 and up', '4.4 and up', '4.1 and up', '4.0 and up', 'Varies with device', '4.3 and up', 'Varies with device', '4.0.3 and up', '4.0.3 and up', '2.3 and up', '5.0 and up', '4.0.3 and up', '4.0.3 and up', '4.0 and up', '4.0.3 and up', '4.0.3 and up', '4.3 and up', '4.4 and up', 'Varies with device', '2.3 and up', '4.0.3 and up', 'Varies with device', '5.0 and up', 'Varies with device', 'Varies with device', '7.0 and up', '7.1 and up', '4.0 and up', '5.0 and up', '4.1 and up', 'Varies with device', '4.1 and up', 'Varies with device', '4.3 and up', '4.4 and up', '4.3 and up', 'Varies with device', 'Varies with device', '4.1 and up', 'Varies with device', 'Varies with device', '3.0 and up', '2.3 and up', '4.1 and up', 'Varies with device', '4.3 and up', '4.3 and up', '4.4 and up', 'Varies with device', 'Varies with device', '4.0 and up', '4.1 and up', 'Varies with device', '4.1 and up', 'Varies with device', 'Varies with device', '4.4 and up', '4.4 and up', 'Varies with device', '4.0 and up', '4.0.3 and up', '4.1 and up', 'Varies with device', '4.0 and up', '4.1 and up', '4.1 and up', '4.1 and up', 'Varies with device', '4.0.3 and up', '4.4 and up', 'Varies with device', '4.0 and up', 'Varies with device', '4.1 and up', '4.0.3 and up', '4.1 and up', 'Varies with device', '4.1 and up', '5.0 and up', 'Varies with device', '4.0.3 and up', '4.1 and up', '4.1 and up', '4.4 and up', '4.0 and up', '4.1 and up', '4.4 and up', 'Varies with device', 'Varies with device', '4.1 and up', 'Varies with device', '4.1 and up', 'Varies with device', '4.0 and up', '4.4 and up', 'Varies with device', '4.2 and up', '4.0.3 and up', '4.4 and up', '4.4 and up', 'Varies with device', 'Varies with device', '4.2 and up', 'Varies with device', '4.1 and up', 'Varies with device', '4.1 and up', '4.1 and up', '4.4 and up', '4.1 and up', '4.4 and up', 'Varies with device', 'Varies with device', 'Varies with device', '4.0.3 and up', 'Varies with device', '4.1 and up', '4.4 and up', 'Varies with device', 'Varies with device', '5.0 and up', 'Varies with device', '4.1 and up', 'Varies with device', '4.0 and up', '4.4 and up', '4.4 and up', '4.0 and up', 'Varies with device', 'Varies with device', '2.2 and up', 'Varies with device', '4.1 and up', 'Varies with device', 'Varies with device', 'Varies with device', '4.1 and up', 'Varies with device', '5.0 and up', '5.0 and up', 'Varies with device', 'Varies with device', '4.1 and up', '4.1 and up', '4.4 and up', '4.0.3 and up', 'Varies with device', '4.4 and up', 'Varies with device', '4.4 and up', 'Varies with device', '4.4 and up', 'Varies with device', 'Varies with device', 'Varies with device', 'Varies with device', '4.0 and up', 'Varies with device', 'Varies with device', '4.1 and up', 'Varies with device', '4.0.3 and up', '4.1 and up', '4.1 and up', '5.0 and up', '4.0.3 and up', 'Varies with device', '2.3 and up', 'Varies with device', '4.1 and up', 'Varies with device', 'Varies with device', 'Varies with device', '4.4 and up', '4.0.3 and up', '5.0 and up', '4.4 and up', '4.0 and up', 'Varies with device', '4.1 and up', '4.0.3 and up', '4.1 and up', '4.0.3 and up', '4.1 and up', '4.0.3 and up', '4.1 and up', 'Varies with device', '4.0 and up', '4.0 and up', '4.2 and up', '4.1 and up', '4.1 and up', '4.0 and up', '4.0 and up', '4.1 and up', 'Varies with device', 'Varies with device', '4.2 and up', 'Varies with device', '4.0 and up', '4.0.3 and up', '4.0.3 and up', 'Varies with device', 'Varies with device', '4.0 and up', '4.1 and up', '4.0.3 and up', '2.3 and up', '4.0 and up', '4.0 and up', '4.4 and up', '4.0 and up', '4.0 and up', '4.0.3 and up', '4.1 and up', '4.4 and up', '4.1 and up', '4.1 and up', 'Varies with device', '4.1 and up', '4.4 and up', '4.1 and up', 'Varies with device', '4.1 and up', '2.3 and up', 'Varies with device', 'Varies with device', '2.3 and up', 'Varies with device', '4.1 and up', '4.2 and up', '2.1 and up', '4.0.3 and up', '4.0.3 and up', '4.0 and up', '4.1 and up', '4.2 and up', 'Varies with device', 'Varies with device', '4.1 and up', 'Varies with device', '4.4 and up', 'Varies with device', '4.1 and up', '4.1 and up', '4.0.3 and up', '4.1 and up', '4.0.3 and up', 'Varies with device', '4.1 and up', '3.2 and up', '4.0.3 and up', '4.1 and up', '4.1 and up', '4.0.3 and up', '4.4 and up', '4.1 and up', 'Varies with device', '4.1 and up', '5.0 and up', '1.5 and up', 'Varies with device', '4.1 and up', '4.1 and up', '5.0 and up', '4.4 and up', '4.0 and up', '4.4 and up', '4.0 and up', '4.0 and up', '4.4 and up', '4.0.3 and up', '3.0 and up', 'Varies with device', 'Varies with device', '4.0 and up', 'Varies with device', '2.3 and up', '4.1 and up', '4.3 and up', '4.2 and up', '2.3 and up', '4.1 and up', '4.4 and up', '4.0 and up', '4.0.3 and up', '4.0.3 and up', '5.0 and up', '4.0 and up', '4.1 and up', '4.4 and up', '4.0 and up', '4.1 and up', '4.1 and up', 'Varies with device', '5.0 and up', '2.0 and up', '2.1 and up', '2.2 and up', '4.0.3 and up', '2.3 and up', '2.1 and up', '4.4 and up', '4.0 and up', '4.4 and up', '4.1 and up', 'Varies with device', '4.0.3 and up', '4.1 and up', '3.2 and up', '4.0.3 and up', '4.3 and up', '4.1 and up', '4.0 and up', '4.0 and up', '4.0.3 and up', '4.0.3 and up', '4.1 and up', '4.1 and up', '2.3 and up', 'Varies with device', '4.0 and up', '4.0.3 and up', '4.4 and up', 'Varies with device', '4.1 and up', '4.1 and up', 'Varies with device', '4.1 and up', '2.1 and up', '4.0 and up', 'Varies with device', '4.0.3 and up', '4.1 and up', '4.0.3 and up', '4.1 and up', 'Varies with device', '4.3 and up', '4.1 and up', '4.0 and up', '4.1 and up', '6.0 and up', '4.4 and up', '4.4 and up', '4.0 and up', '4.1 and up', '4.0.3 and up', '5.0 and up', '4.2 and up', '4.0.3 and up', '4.4 and up', '4.0 and up', '4.0 and up', '4.0.3 and up', '4.1 and up', '3.0 and up', '4.1 and up', '4.0.3 and up', '3.0 and up', '4.0 and up', '3.0 and up', '4.0 and up', 'Varies with device', '4.1 and up', '4.1 and up', '4.1 and up', '2.1 and up', 'Varies with device', '4.1 and up', '5.0 and up', '4.4 and up', '5.0 and up', '4.0 and up', '4.0.3 and up', '4.0 and up', '4.0.3 and up', '4.1 and up', '4.0 and up', '2.2 and up', 'Varies with device', '4.1 and up', '4.0 and up', 'Varies with device', '4.2 and up', '4.1 and up', '2.0.1 and up', '4.1 and up', '4.4 and up', '2.3 and up', '4.0.3 and up', '2.3 and up', '4.1 and up', '4.0 and up', '4.0 and up', '2.3.3 and up', 'Varies with device', '4.0 and up', '4.4 and up', '4.4 and up', 'Varies with device', '5.0 and up', '4.3 and up', '5.0 and up', '4.0 and up', '4.0 and up', 'Varies with device', '4.4 and up', '4.1 and up', '2.3 and up', '4.2 and up', 'Varies with device', '4.4 and up', '4.1 and up', 'Varies with device', 'Varies with device', 'Varies with device', 'Varies with device', '4.4 and up', '4.4 and up', 'Varies with device', '4.1 and up', 'Varies with device', '4.1 and up', '4.0 and up', '3.0 and up', 'Varies with device', '4.0 and up', 'Varies with device', 'Varies with device', 'Varies with device', 'Varies with device', '4.0 and up', 'Varies with device', '4.1 and up', '2.2 and up', 'Varies with device', 'Varies with device', '2.3 and up', '4.0 and up', '2.2 and up', '2.3 and up', '4.1 and up', '4.1 and up', '5.0 and up', '5.0 and up', '4.2 and up', 'Varies with device', '4.0 and up', '5.0 and up', '4.0.3 and up', '5.0 and up', '3.2 and up', '4.0.3 and up', 'Varies with device', '4.0 and up', '5.0 and up', '4.0 and up', 'Varies with device', '2.3.3 and up', '4.4 and up', '4.0 and up', '2.3 and up', 'Varies with device', 'Varies with device', '4.4 and up', '4.0.3 and up', '4.0.3 and up', '4.4 and up', '4.0 and up', '4.0 and up', '4.0 and up', 'Varies with device', '4.3 and up', 'Varies with device', 'Varies with device', '4.0 and up', '2.3.3 and up', 'Varies with device', '4.1 - 7.1.1', '2.3.3 and up', 'Varies with device', '2.3 and up', '3.0 and up', '2.2 and up', '4.0.3 and up', '2.2 and up', '4.0 and up', 'Varies with device', '4.0.3 and up', '2.3 and up', '4.1 and up', 'Varies with device', '3.2 and up', '2.3.3 and up', '4.1 and up', '5.0 and up', '4.0.3 and up', 'Varies with device', '4.0 and up', '4.0 and up', '7.0 and up', '2.3 and up', '4.3 and up', '4.1 and up', '4.0 and up', '4.0.3 and up', '4.0 and up', '4.0 and up', '4.1 and up', '2.3 and up', '2.3 and up', '4.4 and up', '4.0 and up', '4.4 and up', '4.0 and up', '4.0 and up', '4.0.3 and up', '4.4 and up', '2.2 and up', '4.0.3 and up', '4.4 and up', '5.0 and up', '4.4 and up', '7.0 and up', '2.3 and up', '4.1 and up', '2.3.3 and up', '4.4 and up', '4.0 and up', '4.1 and up', 'Varies with device', '4.4 and up', '4.0 and up', '4.1 and up', '4.1 and up', '4.0.3 and up', '4.1 and up', '4.0 and up', '2.3 and up', '5.0 and up', '4.0 and up', 'Varies with device', '4.1 and up', '2.3.3 and up', '4.0 and up', '4.0 and up', '4.0 and up', '3.1 and up', '4.4 and up', '4.1 and up', '4.0 and up', '2.3 and up', '4.3 and up', '4.1 and up', '3.0 and up', '4.1 and up', 'Varies with device', '2.3 and up', 'Varies with device', '4.1 and up', '4.1 and up', '2.3.3 and up', 'Varies with device', '4.2 and up', '4.4 and up', 'Varies with device', '4.1 and up', '4.1 and up', '4.1 and up', '4.1 and up', '2.3.3 and up', '4.1 and up', '2.1 and up', '4.1 and up', '4.1 and up', '4.1 and up', '2.3 and up', '4.3 and up', '4.0 and up', '4.1 and up', '4.1 and up', '4.1 and up', '4.0.3 and up', '4.1 and up', '2.3.3 and up', '4.2 and up', '4.1 and up', '4.0.3 and up', '4.0.3 and up', '4.1 and up', '4.4 and up', '2.2 and up', '2.3.3 and up', '4.0.3 and up', '6.0 and up', '4.0 and up', '4.0.3 and up', 'Varies with device', '4.1 and up', '4.4 and up', 'Varies with device', 'Varies with device', '4.4 and up', '4.0 and up', '4.1 and up', '4.2 and up', '7.0 and up', '4.0.3 and up', '4.1 and up', '4.1 and up', '4.0.3 and up', '4.2 and up', '4.1 and up', '4.0 and up', '4.1 and up', '4.1 and up', '4.1 and up', '2.2 and up', '4.3 and up', '4.1 and up', 'Varies with device', '4.1 and up', '4.0 and up', '2.2 and up', '4.4 and up', '4.0.3 and up', '4.0 and up', '5.0 and up', '4.0.3 and up', '4.0 and up', '4.0.3 and up', '2.3 and up', '2.3 and up', '4.1 and up', 'Varies with device', '4.1 and up', '4.1 and up', '4.1 and up', '4.1 and up', '4.1 and up', '2.3.3 and up', '4.1 and up', '2.3 and up', '4.1 and up', '2.2 and up', '4.0.3 and up', '4.0.3 and up', '4.3 and up', '4.1 and up', '4.0 and up', '2.3 and up', '4.0.3 and up', '4.0.3 and up', '4.1 and up', '4.0 and up', '4.0.3 and up', '4.4 and up', '4.4 and up', '4.1 and up', '4.0.3 and up', '4.4 and up', 'Varies with device', 'Varies with device', '4.4 and up', '4.4 and up', '4.1 and up', '4.4 and up', '4.0.3 and up', '4.0 and up', 'Varies with device', '4.0.3 and up', '4.1 and up', '2.2 and up', '5.0 and up', '4.0.3 and up', '4.0 and up', '4.4 and up', '2.3 and up', '1.6 and up', 'Varies with device', '2.2 and up', '4.1 and up', '4.0.3 and up', '4.1 and up', '4.0 and up', '3.0 and up', '4.0.3 and up', '3.0 and up', 'Varies with device', '4.4 and up', '6.0 and up', '2.3 and up', '4.1 and up', '4.1 and up', '4.1 and up', '4.1 and up', '4.1 and up', '4.1 and up', '4.1 and up', '4.1 and up', '4.4 and up', '2.3 and up', '4.1 and up', '2.3.3 and up', '4.4 and up', '4.0.3 and up', '4.1 and up', '4.1 and up', '4.1 and up', '2.3.3 and up', '4.1 and up', '2.3.3 and up', '4.0 and up', '4.0 and up', '4.1 and up', '4.1 and up', '2.3 and up', '7.0 and up', '4.0.3 and up', 'Varies with device', '4.0 and up', '4.0.3 and up', '4.0.3 and up', '2.3.3 and up', '4.0.3 and up', '1.5 and up', '4.1 and up', '4.0 and up', '4.1 and up', '4.3 and up', '4.1 and up', '4.1 and up', '2.1 and up', '5.0 and up', '4.0.3 and up', 'Varies with device', 'Varies with device', '4.1 and up', '4.3 and up', '4.4 and up', 'Varies with device', '2.3.3 and up', '4.1 and up', '5.0 and up', '4.0.3 and up', '4.2 and up', '3.0 and up', '4.0.3 and up', '2.1 and up', '5.0 and up', '5.1 and up', '4.0 and up', '2.1 and up', '5.0 and up', '4.3 and up', '4.1 and up', '2.1 and up', '4.0.3 and up', '4.1 and up', '2.3 and up', 'Varies with device', '4.0.3 and up', '4.1 and up', '6.0 and up', '5.0 and up', nan, '4.0 and up', '4.4 and up', '7.0 and up', '7.0 and up', '8.0 and up', '4.1 and up', '5.0 and up', 'Varies with device', '7.0 and up', '4.0 and up', '7.0 and up', '4.1 and up', '4.0.3 and up', '4.0.3 and up', '4.4 and up', '4.0.3 and up', '4.1 and up', '4.1 and up', '5.0 and up', '4.4 and up', '4.4 and up', '4.4 and up', '5.0 and up', '5.0 and up', '5.0 and up', '4.0.3 and up', '5.0 and up', nan, '4.1 and up', '5.0 and up', '4.4 and up', '4.0 and up', 'Varies with device', '2.3.3 and up', 'Varies with device', '4.4 and up', '2.3.3 and up', '4.4 and up', 'Varies with device', '2.3 and up', '3.0 and up', '4.4 and up', '2.3 and up', '4.0.3 and up', '2.3 and up', '4.0.3 and up', '4.1 and up', '4.0.3 and up', '4.0 and up', '2.3 and up', '4.3 and up', '4.0.3 and up', '4.0.3 and up', '2.3.3 and up', '4.4 and up', '4.3 and up', '4.3 and up', '4.4 and up', '5.0 and up', '2.3 and up', '4.0.3 and up', '5.0 and up', '4.1 and up', '4.1 and up', '4.0 and up', '2.2 and up', '4.2 and up', '4.3 and up', '3.0 and up', '2.3 and up', '2.3 and up', '4.1 and up', '4.0.3 and up', '1.5 and up', '2.3.3 and up', '4.0 and up', '4.0.3 and up', '4.0 and up', '3.1 and up', '4.4 and up', '2.3.3 and up', '4.0.3 and up', '4.0.3 and up', '4.0.3 and up', '5.0 and up', '4.1 and up', '4.3 and up', '4.0.3 and up', '2.1 and up', '4.1 and up', '4.1 and up', 'Varies with device', '2.3 and up', '2.3 and up', '4.1 and up', '4.3 and up', '6.0 and up', '4.1 and up', '4.2 and up', '4.2 and up', '7.0 and up', '4.0 and up', '4.1 and up', '2.3 and up', '2.3 and up', '4.0.3 and up', '4.1 and up', '4.1 and up', '4.1 and up', 'Varies with device', '4.4 and up', '4.0 and up', 'Varies with device', 'Varies with device', '4.1 and up', 'Varies with device', '5.0 and up', '4.1 and up', 'Varies with device', '4.0 and up', '4.4 and up', '4.3 and up', '6.0 and up', 'Varies with device', '5.0 and up', 'Varies with device', '4.4 and up', '4.0 and up', 'Varies with device', '4.0 and up', '4.0.3 and up', '4.4 and up', '2.3 and up', 'Varies with device', '5.0 and up', '5.0 and up', '2.3 and up', '4.1 and up', '4.2 and up', '4.4 and up', 'Varies with device', '2.3 and up', '5.0 and up', '2.3.3 and up', '2.0.1 and up', '5.0 and up', '4.1 and up', '4.1 and up', '6.0 and up', '4.1 and up', '4.4 and up', '4.0.3 and up', '4.1 and up', '4.0.3 and up', '4.0.3 and up', '4.1 and up', '4.0 and up', 'Varies with device', '2.1 and up', '4.1 and up', '4.0.3 and up', '4.4 and up', '4.0 and up', '2.1 and up', '2.2 and up', '4.3 and up', '4.1 and up', '4.1 and up', '4.1 and up', '1.6 and up', '5.0 and up', '4.0 and up', '4.0 and up', '2.3 and up', '2.3 and up', '4.1 and up', '5.0 and up', '4.1 and up', '2.3 and up', '5.0 and up', '4.1 and up', '2.3 and up', '4.4 and up', '4.0.3 and up', '4.0.3 and up', '4.0.3 and up', 'Varies with device', '2.3 and up', '4.1 and up', '4.2 and up', '4.0.3 and up', '5.0 and up', '4.2 and up', '4.2 and up', 'Varies with device', '4.1 and up', '4.0.3 and up', '4.0.3 and up', '3.0 and up', 'Varies with device', '6.0 and up', '4.0.3 and up', '4.1 and up', 'Varies with device', '2.3 and up', '4.0 and up', 'Varies with device', '4.1 and up', '4.1 and up', '4.0.3 and up', '4.0 and up', '4.1 and up', '4.0.3 and up', '5.0 and up', '2.3 and up', '4.1 and up', '4.4 and up', '4.0 and up', '4.0.3 and up', 'Varies with device', '4.0.3 and up', '2.3 and up', 'Varies with device', '4.0.3 and up', '2.1 and up', '4.0 and up', '2.1 and up', '4.4 and up', '3.0 and up', '4.2 and up', '4.2 and up', '4.1 and up', '4.0 and up', '2.3 and up', 'Varies with device', '2.1 and up', '4.0 and up', 'Varies with device', '4.1 and up', 'Varies with device', 'Varies with device', '4.1 and up', '4.0 and up', '7.0 and up', 'Varies with device', '4.1 and up', 'Varies with device', '4.0.3 and up', '2.3.3 and up', '4.0.3 and up', '3.0 and up', '5.0 and up', '4.0 and up', '2.2 and up', 'Varies with device', '5.0 and up', '2.3.3 and up', '4.1 and up', '4.0.3 and up', '4.4 and up', '4.1 and up', '4.0 and up', 'Varies with device', '2.3.3 and up', 'Varies with device', '2.1 and up', 'Varies with device', '4.4 and up', '4.1 and up', 'Varies with device', 'Varies with device', '4.1 and up', '4.1 and up', '4.3 and up', '4.1 and up', '4.4 and up', '4.0 and up', '4.1 and up', '4.3 and up', '4.0 and up', '4.1 and up', '4.1 and up', '4.1 and up', '4.0.3 and up', '4.0 and up', '2.3 and up', '4.1 and up', '5.0 and up', '2.3.3 and up', '4.0 and up', '4.1 and up', '4.1 and up', 'Varies with device', '4.1 and up', '4.0 and up', '4.4 and up', '4.4 and up', '4.1 and up', '2.2 and up', '4.0 and up', '4.1 and up', '3.0 and up', '4.1 and up', 'Varies with device', '2.3 and up', '4.1 and up', '4.4 and up', '4.1 and up', '2.1 and up', '2.3 and up', '4.3 and up', '4.3 and up', '1.6 and up', '5.0 and up', 'Varies with device', '4.0.3 and up', '4.0 and up', 'Varies with device', '4.1 and up', '4.1 and up', '4.1 and up', '4.4 and up', '4.0 and up', '4.0 and up', '4.0 and up', 'Varies with device', '4.1 and up', '2.3 and up', '2.3 and up', '4.1 and up', 'Varies with device', 'Varies with device', 'Varies with device', 'Varies with device', '2.2 and up', 'Varies with device', '4.0.3 and up', '4.1 and up', '2.3.3 and up', '4.0.3 and up', '4.0.3 and up', '4.0 and up', 'Varies with device', '2.2 and up', '4.0 and up', '4.1 and up', '4.0.3 and up', '4.0.3 and up', '4.0.3 and up', '5.0 and up', '4.0.3 and up', '4.1 and up', '4.4 and up', '4.4 and up', '4.0 and up', '4.0.3 and up', '4.4 and up', '4.2 and up', '4.0 and up', '4.0 and up', '4.4 and up', '4.0.3 and up', '4.0 and up', '2.3 and up', '4.0 and up', 'Varies with device', '1.6 and up', '4.0 and up', '2.3 and up', '4.4 and up', '5.0 and up', '4.0 and up', '2.3 and up', '4.2 and up', '4.0 and up', '4.4 and up', '4.0 and up', '4.0 and up', '5.0 and up', '5.0 and up', '4.1 and up', '4.2 and up', 'Varies with device', '4.1 and up', '4.4 and up', '4.1 and up', '4.0.3 and up', 'Varies with device', '4.1 and up', '4.4 and up', '3.0 and up', 'Varies with device', 'Varies with device', '4.1 and up', 'Varies with device', '4.1 and up', '4.1 and up', '4.0.3 and up', '2.3 and up', '4.0.3 and up', '4.1 and up', '4.0.3 and up', '4.1 and up', '4.1 and up', '4.1 and up', '5.0 and up', '3.0 and up', '4.1 and up', '4.0.3 and up', '4.0 and up', '4.1 and up', '4.1 and up', '2.1 and up', '4.1 and up', '4.0.3 and up', 'Varies with device', '2.2 and up', '4.1 and up', '4.1 and up', '2.3 and up', '2.2 and up', '2.2 and up', '4.4 and up', '2.3 and up', '3.0 and up', '2.2 and up', '4.0 and up', '3.0 and up', '4.0.3 and up', '4.3 and up', '4.0.3 and up', '4.0 and up', '4.2 and up', '2.3.3 and up', '4.2 and up', '3.0 and up', '4.2 and up', '4.0 and up', '4.0 and up', '4.2 and up', '2.3 and up', '4.1 and up', '4.0.3 and up', '4.1 and up', '4.1 and up', '4.0.3 and up', '4.2 and up', '4.1 and up', '2.2 and up', '4.0 and up', '4.0 and up', '4.4 and up', '4.2 and up', '4.2 and up', '4.1 and up', '4.2 and up', '4.0.3 and up', '4.0.3 and up', 'Varies with device', '2.3 and up', '4.1 and up', 'Varies with device', 'Varies with device', '5.0 and up', '4.1 and up', '4.0 and up', 'Varies with device', '4.1 and up', '4.4 and up', '2.3 and up', '5.0 and up', '4.0.3 and up', '4.0 and up', '5.0 and up', '3.0 and up', '4.0.3 and up', '4.1 and up', '4.1 and up', '4.4 and up', '4.1 and up', '4.4 and up', '4.0 and up', '4.2 and up', '5.0 and up', '4.1 and up', '4.0 and up', '2.2 and up', '4.1 and up', '3.2 and up', '2.2 and up', '4.1 and up', '4.1 and up', '4.1 and up', '2.2 and up', '2.3 and up', '4.0.3 and up', '4.1 and up', '3.0 and up', '4.1 and up', 'Varies with device', '4.0.3 and up', '5.0 and up', '1.6 and up', 'Varies with device', '4.0 and up', 'Varies with device', '4.4 and up', '4.4 and up', '4.4 and up', '2.3 and up', '2.2 and up', '3.0 and up', '2.3 and up', 'Varies with device', 'Varies with device', '2.3.3 and up', '3.0 and up', 'Varies with device', '4.0.3 and up', '2.3 and up', '2.0 and up', '2.0 and up', '2.3 and up', '2.3 and up', '4.0.3 and up', 'Varies with device', '2.3 and up', '2.2 and up', '2.3 and up', '4.4 and up', 'Varies with device', '4.1 and up', '4.0.3 and up', 'Varies with device', '2.3 and up', '2.3 and up', '4.0 and up', '2.1 and up', '2.1 and up', '4.2 and up', '4.0.3 and up', '2.1 and up', '2.3 and up', '3.1 and up', '2.2 and up', 'Varies with device', '3.0 and up', '4.3 and up', '2.3 and up', '4.1 and up', '4.0.3 and up', '4.4 and up', '4.4 and up', '2.3.3 and up', '4.1 and up', '4.0 and up', '4.0 and up', '3.0 and up', '4.0.3 and up', '2.1 and up', '4.1 and up', '5.0 and up', 'Varies with device', '4.0 and up', '4.0.3 and up', '4.0 and up', 'Varies with device', 'Varies with device', '2.2 and up', '4.0.3 and up', '4.0 and up', '4.0 and up', '4.0 and up', '4.1 and up', '3.2 and up', '4.0 and up', '4.0.3 and up', 'Varies with device', '5.0 and up', '2.3 and up', '4.1 and up', '4.4 and up', 'Varies with device', '4.0.3 and up', '4.0 and up', '4.0.3 and up', '4.3 and up', '4.4 and up', '4.0.3 and up', '2.3 and up', '2.3.3 and up', '4.0.3 and up', '4.1 and up', '4.0.3 and up', '5.0 and up', '4.1 and up', '4.1 and up', '3.0 and up', '4.4 and up', '5.0 and up', '4.1 and up', '4.0.3 and up', '4.1 and up', '4.4 and up', '4.0.3 and up', '4.0.3 and up', '4.0 and up', '4.0.3 and up', '4.0 and up', '4.2 and up', '4.4 and up', 'Varies with device', '4.4 and up', '4.0.3 and up', '4.0 and up', '1.5 and up', '4.0.3 and up', '4.0 and up', '4.0.3 and up', '2.3 and up', '5.0 and up', '4.0.3 and up', '4.0.3 and up', '4.0.3 and up', '4.3 and up', '4.3 and up', '4.0.3 and up', '2.3 and up', '4.4 and up', '5.0 and up', '4.0 and up', '2.3 and up', '4.0 and up', '4.0 and up', '4.0 and up', '4.1 and up', '4.1 and up', '4.0.3 and up', 'Varies with device', '6.0 and up', '1.6 and up', '5.0 and up', '4.1 and up', '4.1 and up', '4.1 and up', '4.1 and up', '4.4 and up', '4.0.3 and up', '4.0.3 and up', '4.1 and up', '4.0 and up', '5.0 and up', '6.0 and up', '4.0 and up', '4.0.3 and up', '2.3 and up', '4.0.3 and up', '4.1 and up', '5.0 and up', '4.4 and up', '5.0 and up', '2.2 and up', '4.1 and up', '5.0 and up', '4.0.3 and up', '4.0.3 and up', '2.3 and up', '4.0 and up', '2.1 and up', '4.1 and up', '4.0 and up', '4.1 and up', '4.3 and up', '4.0.3 and up', '4.1 and up', '4.1 and up', '4.4 and up', '2.3 and up', '4.4 and up', '2.2 and up', '3.2 and up', '2.3 and up', '2.3.3 and up', '4.1 and up', '5.0 and up', '2.2 and up', '2.3 and up', '2.2 and up', '4.1 and up', '4.3 and up', '4.1 and up', '4.1 and up', '4.0 and up', '4.1 and up', '4.0.3 and up', '4.1 and up', '4.0.3 and up', '4.1 and up', '4.0.3 and up', '3.0 and up', '2.3.3 and up', '4.1 and up', '4.4 and up', '4.0 and up', '4.0 and up', '4.1 and up', '2.3 and up', '4.0.3 and up', '4.1 and up', '2.3 and up', '4.0.3 and up', '4.1 and up', '4.0.3 and up', '4.1 and up', '2.3 and up', '4.0 and up', '2.2 and up', '4.1 and up', '4.0.3 and up', '2.2 and up', '4.4 and up', '2.3 and up', '4.0 and up', '4.1 and up', '2.3 and up', '2.3.3 and up', '4.0 and up', '4.1 and up', '4.1 and up', '4.2 and up', '4.1 and up', '4.0 and up', '4.4 and up', '4.0 and up', '4.4 and up', '4.0 and up', 'Varies with device', '4.0 and up', '2.3 and up', '2.2 and up', '4.0.3 and up', 'Varies with device', '4.1 and up', '2.3 and up', '4.0 and up', '3.0 and up', '4.0 and up', '2.2 and up', 'Varies with device', '4.1 and up', '2.2 and up', 'Varies with device', '2.3 and up', '4.0.3 and up', '4.0.3 and up', '2.2 and up', '4.1 and up', '2.3.3 and up', '4.1 and up', 'Varies with device', '2.2 and up', '2.3.3 and up', '2.3.3 and up', 'Varies with device', '4.1 and up', '4.0.3 and up', '2.3 and up', '4.4 and up', '4.4 and up', '4.3 and up', '4.0 and up', '4.0 and up', '4.1 and up', '4.4 and up', '4.0.3 and up', '4.0.3 and up', '1.6 and up', '4.0.3 and up', '4.0.3 and up', '4.0 and up', '4.2 and up', '4.4 and up', '4.1 and up', '4.2 and up', '4.0.3 and up', '4.1 and up', '4.4 and up', '4.1 and up', 'Varies with device', '4.1 and up', '4.0.3 and up', '4.0.3 and up', '4.1 and up', '4.1 and up', '4.3 and up', '4.1 and up', '4.1 and up', 'Varies with device', '4.0.3 and up', '4.1 and up', '4.1 and up', '2.3.3 and up', '2.3.3 and up', '4.1 and up', '4.4 and up', '4.0.3 and up', 'Varies with device', '4.0.3 and up', '4.2 and up', 'Varies with device', 'Varies with device', '4.2 and up', '4.4 and up', 'Varies with device', '4.0.3 and up', '4.0 and up', '4.0 and up', '5.0 and up', '4.4 and up', '4.1 and up', '4.0 and up', '4.0.3 and up', '4.0 and up', '4.1 and up', '4.0.3 and up', '4.0 and up', '4.0.3 and up', '4.1 and up', '5.0 and up', '4.0.3 and up', 'Varies with device', '4.1 and up', '4.1 and up', '4.0.3 and up', '4.0 and up', '4.1 and up', 'Varies with device', 'Varies with device', '3.0 and up', '4.0.3 and up', '4.0 and up', '4.1 and up', '4.0.3 and up', '4.1 and up', '4.1 and up', '3.0 and up', '4.1 and up', '2.3 and up', '4.0.3 and up', '4.1 and up', '2.1 and up', '4.0.3 and up', '4.1 and up', '2.3 and up', '4.1 and up', '2.3 and up', '4.0 and up', '4.4 and up', '4.1 and up', '2.3 and up', '4.0 and up', '4.4 and up', '4.0.3 and up', '2.3 and up', '6.0 and up', '2.3 and up', '4.0 and up', '3.0 and up', '4.1 and up', '2.1 and up', '4.3 and up', '3.2 and up', '4.0.3 and up', '4.1 and up', '4.0.3 and up', '4.0.3 and up', '4.4 and up', '2.3 and up', '4.1 and up', '3.1 and up', '4.1 and up', '2.3.3 and up', '4.1 and up', '4.1 and up', '4.1 and up', '1.6 and up', '4.4 and up', '4.1 and up', '4.1 and up', '4.0.3 and up', '4.1 and up', '2.0.1 and up', '4.1 and up', '2.3 and up', '4.1 and up', '4.1 and up', '4.0 and up', '4.0.3 and up', '4.1 and up', '4.4 and up', '4.0 and up', 'Varies with device', '2.3 and up', '4.0.3 and up', '4.0.3 and up', '2.3.3 and up', '4.1 and up', '4.1 and up', '4.1 and up', '4.0 and up', '4.0.3 and up', 'Varies with device', '4.4 and up', '1.6 and up', 'Varies with device', '4.0.3 and up', 'Varies with device', 'Varies with device', '4.0.3 and up', '4.1 and up', '4.0.3 and up', '4.0 and up', '4.0.3 and up', '4.0.3 and up', '4.2 and up', '4.2 and up', '7.0 and up', '2.3 and up', '5.0 and up', '4.4 and up', '4.0.3 and up', '4.4 and up', '4.0 and up', '4.2 and up', '4.0.3 and up', 'Varies with device', '7.0 and up', '7.0 and up', '4.1 and up', 'Varies with device', '5.0 and up', '4.1 and up', '4.4 and up', 'Varies with device', '4.0 and up', '7.0 and up', '4.3 and up', '7.0 and up', '4.0 and up', '7.0 and up', '4.0 and up', '7.0 and up', '5.0 and up', '4.1 and up', '7.0 and up', '7.0 and up', '7.0 and up', '4.0 and up', '4.0.3 and up', '2.1 and up', '7.0 and up', '4.0 and up', '7.0 and up', '7.0 and up', '4.1 and up', '7.0 and up', '4.2 and up', '7.0 and up', '4.4 and up', '4.1 and up', '4.1 and up', '4.1 and up', 'Varies with device', '4.1 and up', '4.0 and up', '4.0 and up', '2.3 and up', 'Varies with device', '4.2 and up', '4.0 and up', '2.3 and up', '4.0.3 and up', '4.0 and up', '4.2 and up', 'Varies with device', '4.1 and up', '4.0.3 and up', 'Varies with device', 'Varies with device', 'Varies with device', 'Varies with device', '4.0.3 and up', '5.0 and up', '2.3.3 and up', '4.2 and up', '4.1 and up', 'Varies with device', 'Varies with device', 'Varies with device', 'Varies with device', '4.1 and up', '4.1 and up', 'Varies with device', '2.1 and up', '4.1 and up', '4.1 and up', '4.1 and up', 'Varies with device', 'Varies with device', 'Varies with device', '5.0 and up', '3.0 and up', '4.0.3 and up', '2.3 and up', '2.3 and up', '4.4 and up', 'Varies with device', '4.3 and up', '4.1 and up', 'Varies with device', '2.3 and up', '3.0 and up', '4.4 and up', '2.3 and up', '2.3 and up', '3.0 and up', '4.0.3 and up', '2.3 and up', '4.2 and up', '4.4 and up', '4.2 and up', '4.1 and up', '2.3 and up', '4.1 and up', '4.4 and up', '4.2 and up', '4.1 and up', '2.3 and up', '4.1 and up', '4.1 and up', '2.3 and up', '2.3 and up', '2.3.3 and up', '4.2 and up', '2.3 and up', '4.0.3 and up', '4.0 and up', 'Varies with device', '4.0.3 and up', '2.3 and up', '5.0 and up', '5.0 and up', '2.3 and up', '4.1 and up', '4.1 and up', '2.3 and up', '2.3.3 and up', '4.4 and up', '4.1 and up', '4.1 and up', 'Varies with device', '4.3 and up', '4.1 and up', '4.1 and up', '4.0 and up', '4.0 and up', '4.2 and up', '4.1 and up', '5.0 and up', '4.0.3 and up', '4.0.3 and up', '4.0 and up', '4.0.3 and up', '4.0 and up', '4.3 and up', '4.2 and up', '4.0.3 and up', '4.0 and up', '4.0 and up', '4.0 and up', '4.1 and up', 'Varies with device', 'Varies with device', '4.1 and up', '4.0 and up', '4.1 and up', '4.4 and up', 'Varies with device', '4.1 and up', '4.1 and up', '4.3 and up', '4.1 and up', '2.3 and up', '4.0 and up', '4.3 and up', '2.3.3 and up', '4.0 and up', '4.1 and up', '2.3.3 and up', '4.1 and up', '4.0 and up', '4.1 and up', '4.0 and up', '4.1 and up', '4.1 and up', '4.1 and up', '4.3 and up', '1.6 and up', '2.2 and up', '4.0.3 and up', '4.2 and up', '4.1 and up', '4.0.3 and up', '3.0 and up', '2.3.3 and up', '4.1 and up', '4.0.3 and up', '4.0 and up', '5.0 and up', '4.1 and up', 'Varies with device', '2.3 and up', '4.3 and up', '4.3 and up', '5.0 and up', '4.3 and up', '4.1 and up', '2.3 and up', '4.0.3 and up', '4.3 and up', '4.3 and up', '4.3 and up', 'Varies with device', '6.0 and up', '4.3 and up', '4.3 and up', 'Varies with device', '4.0 and up', '2.3 and up', '4.0.3 and up', '4.3 and up', '4.1 and up', 'Varies with device', '4.1 and up', '3.0 and up', '4.0 and up', 'Varies with device', 'Varies with device', '4.3 and up', '3.0 and up', '4.1 and up', '4.3 and up', 'Varies with device', 'Varies with device', '5.0 and up', '2.3.3 and up', '4.1 and up', '2.3.3 and up', '2.2 and up', '4.4 and up', '4.1 and up', '4.0 and up', '4.1 and up', '3.0 and up', '3.0 and up', '4.2 and up', '4.1 and up', '4.1 and up', '4.4 and up', '3.1 and up', '4.1 and up', '4.1 and up', '2.1 and up', '4.0.3 and up', '4.3 and up', '2.3.3 and up', '4.1 and up', '2.3 and up', '4.0.3 and up', '4.1 and up', '4.0 and up', '4.2 and up', '4.0 and up', '4.2 and up', '4.0.3 and up', '4.0 and up', '2.3 and up', '2.3 and up', '4.1 and up', '4.1 and up', '2.1 and up', '5.0 and up', '2.3 and up', '2.3 and up', '4.0 and up', 'Varies with device', '2.2 and up', 'Varies with device', '4.0 and up', '4.2 and up', 'Varies with device', '4.1 and up', '4.2 and up', '4.1 and up', '4.0.3 and up', '4.0 and up', 'Varies with device', '4.0 and up', '4.0 and up', '2.2 and up', '4.1 and up', '4.0.3 and up', '5.0 and up', '4.4 and up', '4.0.3 and up', '5.0 and up', '4.4 and up', '5.0 and up', '4.1 and up', '5.0 and up', '4.1 and up', '2.2 and up', '4.1 and up', '4.2 and up', '4.1 and up', '3.2 and up', 'Varies with device', '4.1 and up', '4.2 and up', '4.1 and up', '4.1 and up', '4.4 and up', '4.0 and up', '4.0 and up', '4.1 and up', '4.2 and up', '4.1 and up', '4.4 and up', '2.3 and up', '4.4 and up', '4.1 and up', '3.0 and up', '2.3.3 and up', '4.1 and up', '4.0 and up', '4.1 and up', '4.0.3 and up', '4.1 and up', '4.0.3 and up', '3.2 and up', '4.1 and up', '4.4 and up', '2.1 and up', '3.0 and up', '4.0 and up', '2.3 and up', '4.0.3 and up', '4.0 and up', '2.3 and up', '2.3 and up', '4.0.3 and up', '4.1 and up', '2.3 and up', '2.3 and up', '2.3 and up', '4.0.3 and up', '4.4 and up', '4.1 and up', '1.6 and up', '2.3 and up', '5.0 and up', '2.2 and up', '2.3 and up', '4.2 and up', '4.0 and up', '4.2 and up', '4.0.3 and up', '2.3 and up', '4.1 and up', '4.0 and up', '4.1 and up', '5.0 and up', '4.0.3 and up', 'Varies with device', '4.1 and up', '4.1 and up', '4.0.3 and up', '2.3 and up', '4.0.3 and up', '4.4 and up', '2.3 and up', '4.1 and up', '2.0 and up', '4.0.3 and up', '4.0.3 and up', 'Varies with device', '2.2 and up', '4.1 and up', '4.1 and up', '4.0 and up', '4.4W and up', '3.2 and up', '4.0 and up', '4.0.3 and up', '5.0 and up', '4.0 and up', '2.1 and up', '5.0 and up', '4.0.3 and up', '4.0 and up', 'Varies with device', '4.0 and up', '4.1 and up', '4.4 and up', '4.4 and up', '4.1 and up', '4.4 and up', '4.0 and up', '4.4 and up', 'Varies with device', '4.2 and up', '2.2 and up', '4.1 and up', '4.0.3 and up', '4.1 and up', '4.1 and up', '5.0 and up', '4.0 and up', 'Varies with device', '4.1 and up', '4.0 and up', '4.2 and up', '4.1 and up', '4.0 and up', '4.2 and up', '4.0.3 and up', '4.1 and up', '4.1 and up', '2.3 and up', '3.0 and up', '4.0.3 and up', '3.0 and up', '4.3 and up', '4.1 and up', '4.1 and up', '4.0.3 and up', '4.2 and up', '4.3 and up', '4.0.3 and up', '4.0.3 and up', '4.0.3 and up', '4.0 and up', '4.0 and up', '2.0 and up', '4.1 and up', 'Varies with device', '4.0 and up', '4.0 and up', '3.0 and up', '4.4 and up', '4.0 and up', '2.3.3 and up', '4.3 and up', '4.1 and up', '4.3 and up', '4.3 and up', '3.2 and up', '2.0 and up', '4.0.3 and up', '4.1 and up', '4.1 and up', '4.0.3 and up', '4.1 and up', '2.3 and up', 'Varies with device', '4.4 and up', '4.0.3 and up', '4.1 and up', '4.4 and up', '4.0.3 and up', '4.1 and up', '2.3 and up', '4.0 and up', '4.2 and up', '4.0 and up', '4.0 and up', '4.0 and up', '2.2 and up', '4.1 and up', '3.2 and up', '4.1 and up', 'Varies with device', '4.0 and up', '4.0 and up', '5.0 and up', '2.3 and up', '4.0.3 and up', '2.3 and up', '4.0.3 and up', '4.1 and up', '4.1 and up', '4.3 and up', '4.1 and up', '4.4 and up', '4.0.3 and up', '4.3 and up', '4.0 and up', '4.0 and up', '4.4 and up', '4.0 and up', '4.0 and up', '2.3.3 and up', '2.3.3 and up', '4.0.3 and up', '4.0 and up', '4.0.3 and up', '4.0.3 and up', '3.0 and up', '4.0 and up', '4.2 and up', '4.1 and up', '4.3 and up', '2.3.3 and up', '3.0 and up', '2.3.3 and up', '4.1 and up', '2.3 and up', '4.1 and up', '2.3 and up', '3.0 and up', '3.0 and up', '4.2 and up', '2.3 and up', '2.3 and up', '3.0 and up', '3.0 and up', '2.2 and up', 'Varies with device', '2.2 and up', '2.3.3 and up', '2.3 and up', '4.0 and up', '4.4 and up', '4.0.3 and up', '4.0.3 and up', '5.0 and up', '4.1 and up', '4.4 and up', '4.4 and up', '4.1 and up', '4.1 and up', '4.1 and up', '4.4 and up', '5.0 and up', '4.1 and up', '4.1 and up', '4.1 and up', '2.3 and up', '4.1 and up', '4.0 and up', '4.0.3 and up', 'Varies with device', '4.1 and up', '4.4 and up', 'Varies with device', '3.2 and up', '2.3 and up', '2.3 and up', 'Varies with device', '2.3.3 and up', '4.0.3 and up', '3.0 and up', '4.0.3 and up', '3.0 and up', '4.1 and up', '4.0 and up', '4.0 and up', '4.1 and up', '2.3 and up', '4.2 and up', '4.0 and up', '4.1 and up', '4.0 and up', '5.0 and up', '4.1 and up', 'Varies with device', '4.3 and up', '2.3.3 and up', '4.4 and up', '4.0.3 and up', '4.0.3 and up', 'Varies with device', '4.4 and up', '3.0 and up', '4.1 and up', 'Varies with device', '4.4 and up', '4.1 and up', '2.1 and up', '4.1 and up', '4.0.3 and up', 'Varies with device', 'Varies with device', '4.0.3 and up', 'Varies with device', '5.0 and up', '4.0 and up', '4.4 and up', '4.1 and up', '4.0 and up', '5.0 and up', '4.0 and up', '4.4 and up', '4.2 and up', '2.3 and up', '4.0.3 and up', '4.0 and up', '4.0.3 and up', '4.2 and up', '4.2 and up', '2.3 and up', '4.1 and up', '4.0.3 and up', '4.0 and up', '4.0 and up', '4.4 and up', '4.1 and up', '4.4 and up', '4.0 and up', '2.2 and up', '4.0.3 and up', '4.4 and up', '2.3 and up', '5.0 and up', '4.4 and up', '4.1 and up', '5.1 and up', '4.1 and up', '4.3 and up', '4.1 and up', '4.1 and up', '4.4 and up', '3.0 and up', 'Varies with device', '4.0 and up', '6.0 and up', '2.0 and up', '4.0.3 and up', '4.3 and up', '4.1 and up', '4.0 and up', '4.0.3 and up', '4.1 and up', '4.1 and up', '4.1 and up', 'Varies with device', 'Varies with device', 'Varies with device', '4.1 and up', '4.1 and up', '4.1 and up', '4.2 and up', 'Varies with device', 'Varies with device', '2.3 and up', '2.3.3 and up', '4.0.3 and up', '4.1 and up', '4.0.3 and up', 'Varies with device', '4.0 and up', '4.1 and up', '4.1 and up', '4.4 and up', '4.3 and up', '4.0 and up', '4.0 and up', '4.0 and up', '2.3.3 and up', '5.0 and up', '4.4 and up', '4.0 and up', '3.0 and up', '4.0 and up', '4.1 and up', '4.0 and up', '2.3.3 and up', '4.0 and up', '4.0 and up', '4.0 and up', '4.3 and up', '2.3.3 and up', '4.0.3 and up', '4.1 and up', '2.3.3 and up', '3.0 and up', '4.1 and up', '2.3 and up', '5.0 and up', '2.3 and up', '2.2 and up', '4.0 and up', '2.3.3 and up', '4.0.3 and up', '4.0 and up', '4.0.3 and up', '2.3 and up', '2.3 and up', '4.1 and up', 'Varies with device', '4.0.3 and up', '4.4 and up', '2.2 and up', '4.0.3 and up', '4.1 and up', '4.4 and up', '4.0 and up', '2.3 and up', '4.0.3 and up', '5.0 and up', '4.2 and up', 'Varies with device', '2.3 and up', '4.1 and up', '4.0.3 and up', '3.0 and up', '4.0 and up', '3.0 and up', '4.1 and up', '4.0.3 and up', '2.3 and up', '4.0 and up', '4.0 and up', '2.2 and up', '4.4 and up', '2.3 and up', '4.0 and up', '4.1 and up', '4.4 and up', '2.2 and up', '4.1 and up', '2.1 and up', '4.4 and up', '4.0.3 and up', '2.3.3 and up', '4.1 and up', '2.2 and up', '4.0.3 and up', '4.0 and up', '2.3.3 and up', '4.1 and up', 'Varies with device', '2.3.3 and up', '4.1 and up', '4.0.3 and up', '4.0.3 and up', '2.3.3 and up', '4.0.3 and up', '4.0 and up', '4.1 and up', '2.3.3 and up', '2.3 and up', '4.0 and up', '3.0 and up', '2.3.3 and up', '4.2 and up', '2.3 and up', 'Varies with device', '4.1 and up', '4.3 and up', '2.3 and up', '2.3.3 and up', '2.1 and up', '2.1 and up', '5.0 and up', '4.0 and up', 'Varies with device', '4.0.3 and up', '2.3 and up', '2.1 and up', '2.3.3 and up', '4.0.3 and up', 'Varies with device', '4.2 and up', '2.3 and up', '4.0 and up', '4.0.3 and up', '4.0.3 and up', '4.4 and up', '4.1 and up', '5.0 and up', '6.0 and up', '4.0 and up', '4.4 and up', '4.1 and up', 'Varies with device', '4.1 and up', '5.0 and up', '4.4 and up', '4.1 and up', '4.0.3 and up', '4.1 and up', '4.1 and up', '4.1 and up', '4.0.3 and up', 'Varies with device', '4.4 and up', '4.3 and up', '4.1 and up', '4.1 and up', '4.4 and up', '4.4 and up', '4.1 and up', 'Varies with device', '4.4 and up', '4.1 and up', '4.1 and up', '1.5 and up', '5.0 and up', '1.6 and up', '4.0.3 and up', '1.6 and up', 'Varies with device', '1.6 and up', '4.0 and up', '1.6 and up', '4.3 and up', '1.6 and up', '1.6 and up', '4.4 and up', '1.6 and up', '1.6 and up', '4.0.3 and up', '1.6 and up', '1.6 and up', '1.6 and up', '1.6 and up', '1.6 and up', '4.0 and up', '1.6 and up', 'Varies with device', '1.6 and up', '4.0 and up', '1.6 and up', '1.6 and up', '1.6 and up', '4.0 and up', '1.6 and up', '1.6 and up', '1.6 and up', '4.1 and up', 'Varies with device', '4.1 and up', '4.1 and up', '4.0.3 and up', '4.0 and up', '4.0.3 and up', '4.0.3 and up', '4.0.3 and up', '4.1 and up', '4.1 and up', '5.0 and up', '2.3 and up', '2.1 and up', '4.1 and up', '2.3.3 and up', '4.0 and up', '4.0.3 and up', '5.0 and up', '4.1 and up', '4.0.3 and up', '4.0.3 and up', '4.2 and up', '4.0.3 and up', '4.1 and up', '4.0.3 and up', '4.0.3 and up', '4.0 and up', '4.0.3 and up', '4.2 and up', '2.3 and up', '5.0 and up', '8.0 and up', '4.1 and up', '2.2 and up', '4.1 and up', '2.2 and up', '4.0 and up', '2.3.3 and up', '2.3.3 and up', '4.0.3 and up', '4.1 and up', '4.0 and up', '4.4 and up', '4.4 and up', '4.1 and up', '4.2 and up', '4.4 and up', '2.1 and up', '4.0 and up', '4.3 and up', '5.0 and up', '2.2 and up', '5.0 and up', '4.0 and up', 'Varies with device', '4.0.3 and up', '3.0 and up', '4.4 and up', '3.0 and up', '4.0 and up', '4.0.3 and up', '4.0.3 and up', '4.1 and up', 'Varies with device', '4.3 and up', '4.1 and up', '4.4 and up', '5.0 and up', '4.0 and up', '4.0.3 and up', 'Varies with device', 'Varies with device', '4.1 and up', '2.3.3 and up', '4.0 and up', '4.0 and up', '4.0 and up', '2.3 and up', '2.3.3 and up', '4.4 and up', '4.4 and up', '2.3.3 and up', '4.0 and up', '7.0 and up', '4.0.3 and up', '4.0 and up', '4.0 and up', 'Varies with device', 'Varies with device', '4.1 and up', '5.0 and up', '4.0.3 and up', '2.3 and up', 'Varies with device', '4.1 and up', '3.0 and up', '4.0.3 and up', 'Varies with device', '4.1 and up', '2.3 and up', '4.4 and up', '2.2 and up', '5.0 and up', '4.1 and up', '4.1 and up', '3.0 and up', '4.1 and up', '5.0 and up', '4.0 and up', '5.0 and up', 'Varies with device', '2.2 and up', '4.1 and up', '2.1 and up', '4.0.3 and up', '4.1 and up', '2.3 and up', '4.1 and up', '4.1 and up', '4.0.3 and up', '4.1 and up', '2.0 and up', '2.3 and up', '4.1 and up', '4.0.3 and up', '4.1 and up', '4.1 and up', '4.1 and up', 'Varies with device', '4.1 and up', '4.1 and up', '4.0.3 and up', '4.0 and up', 'Varies with device', '4.1 and up', '2.1 and up', '4.3 and up', '4.0.3 and up', '2.3 and up', '2.2 and up', 'Varies with device', '4.0.3 and up', '4.4 and up', '2.2 and up', '4.0.3 and up', '4.0 and up', '4.0.3 and up', '2.0 and up', '4.0 and up', '4.4 and up', '4.1 and up', '4.4 and up', '4.0.3 and up', '4.4 and up', '2.3 and up', 'Varies with device', '4.1 and up', '2.3 and up', '4.1 and up', '2.2 and up', '4.0.3 and up', '4.3 and up', '4.0 and up', '4.2 and up', '4.3 and up', '4.2 and up', '6.0 and up', '1.6 and up', '2.3.3 and up', '1.6 and up', '2.2 and up', '3.0 and up', '2.3 and up', '2.2 and up', '4.1 and up', '4.1 and up', '2.2 and up', '5.0 and up', '4.4 and up', '3.0 and up', '4.0.3 and up', '4.4 and up', '4.2 and up', '4.1 and up', '4.0 and up', '4.1 and up', '4.1 and up', '4.3 and up', '3.0 and up', '4.1 and up', '4.3 and up', '2.3.3 and up', '1.6 and up', 'Varies with device', '1.6 and up', '4.1 and up', '4.1 and up', '4.0 and up', '4.2 and up', '2.2 and up', '4.1 and up', '4.4 and up', '4.1 and up', '3.0 and up', '4.0.3 and up', '4.1 and up', '2.3.3 and up', '4.0.3 and up', '4.1 and up', '4.0 and up', '4.0.3 and up', '4.0.3 and up', '4.4 and up', '4.3 and up', '3.0 and up', '4.0 and up', '4.4 and up', '4.0 and up', '4.1 and up', 'Varies with device', '4.0.3 and up', '4.2 and up', '3.0 and up', '3.0 and up', '4.0 and up', '3.0 and up', '4.1 and up', '4.0.3 and up', '4.1 and up', '4.1 and up', '5.0 and up', '2.1 and up', '4.0.3 and up', 'Varies with device', '4.1 and up', '4.1 and up', '4.1 and up', '4.0 and up', '4.1 and up', '4.3 and up', '5.0 and up', '4.0.3 and up', '4.2 and up', '2.3 and up', '4.0 and up', '4.3 and up', '2.3 and up', '4.0 and up', '4.4 and up', '4.0.3 and up', '4.0 and up', '4.0 and up', '2.2 and up', '4.0 and up', '4.4 and up', '4.0 and up', '5.0 and up', '2.2 and up', '2.3 and up', '4.0 and up', '2.3 and up', '4.4 and up', '4.0 and up', '4.4 and up', '4.0 and up', '2.3 and up', '5.0 and up', '4.0 and up', '4.1 and up', '3.0 and up', '4.4 and up', '4.0 and up', '4.0.3 and up', '2.1 and up', '4.0 and up', '2.3.3 and up', '4.0 and up', '2.2 and up', '7.0 and up', '7.0 and up', '4.0.3 and up', '4.2 and up', '2.2 and up', '4.0.3 and up', '5.0 and up', '4.0.3 and up', '4.2 and up', '4.4 and up', '4.4 and up', '4.1 and up', '5.0 and up', '2.3 and up', '4.0.3 and up', '2.3 and up', '4.1 and up', '2.2 and up', '4.0 and up', '2.3 and up', '4.1 and up', '4.2 and up', '4.0.3 and up', '5.0 and up', '4.0 and up', '4.1 and up', '4.1 and up', '3.0 and up', '2.3.3 and up', '4.1 and up', 'Varies with device', '4.0.3 and up', '2.3 and up', '2.3 and up', '4.1 and up', 'Varies with device', '4.0 and up', '4.1 and up', '2.3 and up', '4.4 and up', '4.0 and up', '4.4 and up', '4.1 and up', '4.0.3 and up', '4.2 and up', '4.4 and up', '4.3 and up', '2.3 and up', '4.0.3 and up', '4.1 and up', '4.1 and up', '4.1 and up', '4.1 and up', '4.0.3 and up', '4.1 and up', '4.3 and up', '4.1 and up', '4.3 and up', '4.0 and up', '4.4 and up', '5.1 and up', '4.1 and up', '2.3 and up', '3.0 and up', '4.4 and up', '2.3 and up', '4.1 and up', '4.4 and up', '4.1 and up', '4.0 and up', '4.1 and up', '5.0 and up', '4.1 and up', '4.0.3 and up', '4.1 and up', '4.4 and up', '4.0.3 and up', '2.3.3 and up', '2.3 and up', '4.1 and up', '4.1 and up', '4.1 and up', '4.1 and up', '4.0 and up', '4.1 and up', '4.1 and up', '2.3.3 and up', '4.4 and up', '4.1 and up', '4.1 and up', '4.1 and up', '4.0.3 and up', '5.0 and up', '4.1 and up', '4.1 and up', '4.4 and up', '4.1 and up', '2.3.3 and up', '4.0.3 and up', '4.0 and up', '4.1 and up', '4.0 and up', '4.0 and up', '4.1 and up', '4.0 and up', '4.0 and up', '5.0 and up', '4.0 and up', '4.0 and up', '4.1 and up', '4.0 and up', 'Varies with device', '4.1 and up', 'Varies with device', '1.6 and up', '5.0 and up', '2.3.3 and up', '4.4 and up', '4.0 and up', '4.0 and up', '2.2 and up', '1.6 and up', '2.3.3 and up', '5.0 and up', '4.1 and up', '4.1 and up', '2.2 and up', '4.4 and up', '4.0.3 and up', '3.0 and up', '4.0 and up', '4.0.3 and up', '4.0.3 and up', '4.0 and up', 'Varies with device', '4.0.3 and up', '2.3 and up', '4.0.3 and up', '4.1 and up', '4.0.3 and up', '4.4 and up', '3.0 and up', '2.2 and up', '3.2 and up', '4.0 and up', '4.1 and up', '4.1 and up', '4.4 and up', '4.2 and up', '4.1 and up', '4.0 and up', '4.4 and up', '4.0 and up', '4.0.3 and up', '4.1 and up', '4.4 and up', '4.1 and up', '4.0 and up', '4.1 and up', '4.0 and up', '4.0.3 and up', '4.0.3 and up', '5.0 and up', '4.0.3 and up', '4.0 and up', '2.1 and up', '4.2 and up', '7.0 and up', '3.0 and up', '4.0 and up', '4.0 and up', '4.1 and up', '4.1 and up', '4.0 and up', '4.0 and up', '4.0 and up', '4.0 and up', '4.1 and up', '2.3 and up', '4.0 and up', '4.1 and up', '2.3.3 and up', '4.0 and up', '4.4 and up', '4.1 and up', '4.0.3 and up', '5.0 and up', '2.0.1 and up', '4.4 and up', '4.1 and up', '4.1 and up', '4.0.3 and up', '2.3.3 and up', '2.3 and up', '4.0.3 and up', '2.3.3 and up', '4.4 and up', '4.0 and up', '2.3 and up', '4.1 and up', '4.0 and up', '4.1 and up', '1.6 and up', '5.0 and up', '4.0 and up', '5.0 and up', '1.6 and up', '4.4 and up', '4.1 and up', 'Varies with device', '2.1 and up', '4.1 and up', '4.0.3 and up', '2.2 and up', '4.1 and up', '2.3 and up', '4.1 and up', '2.3.3 and up', '4.0 and up', '2.3 and up', '4.0 and up', '4.0 and up', '4.0 and up', '4.3 and up', '4.0 and up', '4.1 and up', '5.0 and up', '4.1 and up', '4.1 and up', '4.0.3 and up', '2.3 and up', '4.0.3 and up', '4.0 and up', '4.0 and up', '2.3 and up', '2.3 and up', '2.3 and up', '4.0 and up', '4.3 and up', '2.3 and up', '2.3 and up', '4.1 and up', '4.0.3 and up', '4.0.3 and up', 'Varies with device', '4.0.3 and up', '4.0 and up', '2.3 and up', '5.0 and up', '4.1 and up', '3.0 and up', '4.1 and up', '3.0 and up', '2.3 and up', '4.4 and up', '4.0.3 and up', '4.0.3 and up', '4.0.3 and up', '4.2 and up', '2.3 and up', '4.1 and up', '3.0 and up', '4.1 and up', '4.0 and up', '4.4 and up', 'Varies with device', 'Varies with device', '4.1 and up', '4.0 and up', '4.4 and up', '5.0 and up', '4.0.3 and up', 'Varies with device', '4.1 and up', '4.2 and up', 'Varies with device', '4.2 and up', '2.0 and up', '4.0 and up', '5.0 and up', '4.1 and up', '4.0 and up', 'Varies with device', '4.1 and up', 'Varies with device', 'Varies with device', '2.3 and up', '4.4 and up', 'Varies with device', 'Varies with device', '4.1 and up', '4.0 and up', '5.0 and up', '4.1 and up', '4.1 and up', '4.4 and up', '4.0 and up', '5.0 and up', 'Varies with device', '5.0 and up', '4.0 and up', '4.1 and up', '4.1 and up', '4.0.3 and up', '2.3 and up', '4.1 and up', '4.0.3 and up', '4.0 and up', '4.0.3 and up', '2.0 and up', '5.0 and up', '2.3.3 and up', '2.3 and up', '4.4 and up', '4.0 and up', '1.6 and up', '2.3 and up', '4.4 and up', '5.0 and up', '4.2 and up', '4.1 and up', '2.0.1 and up', '2.3 and up', '3.0 and up', '3.0 and up', '4.4 and up', '2.3.3 and up', '4.0 and up', '4.1 and up', '4.1 and up', '4.0 and up', '4.0.3 and up', '2.3 and up', '2.1 and up', '4.1 and up', '4.1 and up', '2.3 and up', '1.6 and up', '2.3.3 and up', '4.1 and up', '4.0.3 and up', '4.0.3 and up', '4.0.3 and up', '4.1 and up', '4.0.3 and up', 'Varies with device', '4.0 and up', '4.0.3 and up', '4.0.3 and up', '4.1 and up', '4.0.3 and up', '5.0 and up', '4.4 and up', '4.1 and up', '2.3 and up', '4.0 and up', 'Varies with device', '2.3.3 and up', '4.1 and up', '2.3 and up', '4.1 and up', '4.1 and up', '4.1 and up', '2.1 and up', '4.3 and up', '2.3 and up', '4.1 and up', '2.1 and up', '5.0 and up', '2.3 and up', '5.0 and up', '3.0 and up', '4.1 and up', '2.1 and up', '4.1 and up', '2.2 and up', '4.1 and up', '1.5 and up', '2.2 and up', '4.0.3 and up', '4.0.3 and up', '4.3 and up', '2.1 and up', '4.1 and up', '4.0 and up', 'Varies with device', '2.0 and up', '4.2 and up', '4.1 and up', '4.1 and up', '4.1 and up', '4.1 and up', '4.0 and up', '4.1 and up', '4.1 and up', '4.0 and up', 'Varies with device', '4.1 and up', '4.1 and up', '2.3.3 and up', '5.0 and up', '4.0.3 and up', '4.3 and up', '2.3.3 and up', '4.0 and up', '4.1 and up', '4.1 and up', '4.1 and up', '4.1 and up', '5.0 and up', '2.3.3 and up', '4.0 and up', '4.2 and up', '4.0.3 and up', '4.1 and up', '4.0 and up', 'Varies with device', '4.0.3 and up', '4.0 and up', 'Varies with device', '4.0 and up', '4.0.3 and up', '2.3 and up', '4.0 and up', '2.3 and up', '4.2 and up', '4.0 and up', '2.3 and up', '4.0 and up', '4.0 and up', '4.0 and up', '2.3.3 and up', '2.3 and up', 'Varies with device', '4.0 and up', '5.0 and up', 'Varies with device', '2.2 and up', '4.0 and up', '4.2 and up', '2.2 and up', '4.0.3 and up', '4.3 and up', '4.0 and up', '4.0 and up', '2.3 and up', '4.0 and up', '4.0 and up', '4.0 and up', '4.1 and up', '4.1 and up', '5.0 - 6.0', '4.0 and up', '4.1 and up', '1.6 and up', '2.3.3 and up', '4.0 and up', 'Varies with device', '1.6 and up', '4.0 and up', '5.0 and up', 'Varies with device', '4.4 and up', '5.1 and up', '4.1 and up', '4.1 and up', '4.4 and up', '5.1 and up', '4.0.3 and up', '4.3 and up', '4.0.3 and up', '4.3 and up', '4.0 and up', '2.3 and up', '2.3.3 and up', '4.1 and up', '5.0 and up', '4.4 and up', '4.1 and up', '5.1 and up', '4.1 and up', '4.4 and up', '4.1 and up', '2.3.3 and up', '4.1 and up', '5.0 and up', '5.0 and up', '4.1 and up', '4.4 and up', '2.3 and up', '4.0.3 and up', '5.1 and up', '4.4 and up', '2.3.3 and up', 'Varies with device', '4.4 and up', '4.0 and up', '4.1 and up', '4.0 and up', '2.3.3 and up', '4.1 and up', '4.1 and up', '4.0 and up', '5.0 and up', '5.0 and up', '2.3 and up', '4.0 and up', '4.1 and up', '4.4 and up', '4.4 and up', '4.3 and up', '4.1 and up', '4.2 and up', '4.1 and up', '4.0.3 and up', '4.2 and up', '2.0 and up', 'Varies with device', '5.0 and up', '4.1 and up', '4.4 and up', '4.1 and up', '5.0 and up', '4.0.3 and up', '2.3 and up', '6.0 and up', '2.3 and up', '5.0 and up', '4.1 and up', '4.1 and up', '5.0 and up', '4.0.3 and up', 'Varies with device', '4.0 and up', '4.0 and up', '2.3.3 and up', '1.6 and up', '4.0.3 and up', '4.1 and up', '4.1 and up', '2.3 and up', '4.1 and up', '4.1 and up', '4.0.3 and up', '4.1 and up', '4.2 and up', '4.0.3 and up', '4.1 and up', '4.1 and up', '4.4 and up', '4.0.3 and up', '4.3 and up', '3.0 and up', '4.0 and up', '2.3.3 and up', '3.0 and up', '4.0.3 and up', '5.0 and up', '4.2 and up', '4.0 and up', '4.1 and up', '4.0.3 and up', '3.0 and up', '4.0.3 and up', '4.1 and up', '4.0.3 and up', '4.1 and up', '4.1 and up', '5.0 and up', '4.0 and up', '4.1 and up', '4.4 and up', '5.0 and up', '4.2 and up', '3.0 and up', '4.2 and up', '5.0 and up', '4.0 and up', '4.1 and up', '4.1 and up', '4.4 and up', '4.0.3 and up', '4.0.3 and up', '2.3.3 and up', 'Varies with device', '2.3 and up', '4.4 and up', '4.4 and up', '4.1 and up', '4.1 and up', '4.4 and up', '2.3.3 and up', '3.0 and up', '2.1 and up', '4.0.3 and up', '2.3 and up', '4.0.3 and up', '4.4 and up', '4.0.3 and up', '2.3 and up', 'Varies with device', '2.3.3 and up', '4.1 and up', '4.0 and up', '4.0.3 and up', '4.3 and up', '4.0.3 and up', '5.0 and up', '4.4 and up', '4.1 and up', '4.0 and up', '4.0 and up', '2.3 and up', '4.1 and up', '4.1 and up', '4.1 and up', '4.0.3 and up', '4.1 and up', '4.1 and up', '4.0.3 and up', '4.1 and up', '2.3.3 and up', '4.1 and up', '4.0 and up', '3.0 and up', '4.1 and up', '4.2 and up', '4.0.3 and up', '4.2 and up', '4.1 and up', '4.0 and up', '4.0.3 and up', '4.1 and up', '2.3 and up', '3.0 and up', '4.0.3 and up', '4.1 and up', '4.0 and up', '3.0 and up', '2.3.3 and up', '4.4 and up', '4.1 and up', '4.0.3 and up', '4.1 and up', '4.4 and up', '4.1 and up', '4.1 and up', '4.0 and up', '4.0 and up', '4.1 and up', '2.3.3 and up', '2.3 and up', 'Varies with device', '4.1 and up', '2.0 and up', '2.3 and up', '4.1 and up', '4.1 and up', '3.0 and up', '4.1 and up', '5.0 and up', '4.1 and up', '2.3 and up', '4.0 and up', '3.0 and up', '2.2 and up', '4.0.3 and up', '4.1 and up', '4.0.3 and up', '2.3 and up', '2.2 and up', '4.4 and up', '2.3.3 and up', '2.3 and up', '4.1 and up', '2.3 and up', '1.5 and up', '3.0 and up', '4.4 and up', '4.1 and up', '2.3 and up', '4.1 and up', '4.1 and up', '4.0 and up', '4.2 and up', '4.0.3 and up', '4.1 and up', '4.2 and up', '4.4 and up', '2.2 and up', '4.0 and up', '4.0.3 and up', '4.0.3 and up', '4.0 and up', '4.0 and up', '4.0 and up', '4.0 and up', '2.3 and up', '4.1 and up', '4.0 and up', '4.0 and up', '4.0 and up', '4.4 and up', '4.4 and up', '4.0 and up', '4.0 and up', '2.3 and up', '3.0 and up', '4.0.3 and up', '2.2 and up', '4.0.3 and up', '4.0 and up', '2.3.3 and up', '4.0 and up', '4.1 and up', '4.0.3 and up', '4.0 and up', '4.0.3 and up', '4.0.3 and up', '4.1 and up', '4.4 and up', '2.3 and up', '4.1 and up', '3.0 and up', '4.1 and up', '2.2 and up', '4.0 and up', '4.2 and up', '4.0 and up', '4.0 and up', '4.2 and up', '4.1 and up', '4.1 and up', '4.1 and up', '5.0 and up', '4.0 and up', '4.4 and up', '5.0 and up', '4.0.3 and up', '5.0 and up', '4.4 and up', '4.0.3 and up', '4.2 and up', '4.2 and up', '5.0 and up', '5.0 and up', '4.0 and up', '4.0.3 and up', '4.0.3 and up', '4.4 and up', '5.0 and up', '2.3 and up', '5.0 and up', '2.3 and up', '4.0 and up', '4.0 and up', '2.2 and up', '5.0 and up', 'Varies with device', 'Varies with device', '4.0 and up', '4.3 and up', '2.2 and up', '4.1 and up', '4.0 and up', '3.0 and up', '2.1 and up', '4.1 and up', 'Varies with device', '5.0 and up', '4.0.3 and up', '2.3.3 and up', '4.1 and up', '4.4 and up', '4.0 and up', '4.4 and up', '5.0 and up', '4.0 and up', '4.0.3 and up', '4.1 and up', '4.4 and up', '4.0.3 and up', '4.0.3 and up', '4.0.3 and up', '4.0.3 and up', '4.0 and up', '4.1 and up', '4.0 and up', '2.3.3 and up', '4.0 and up', '2.3 and up', '4.4 and up', 'Varies with device', '2.3 and up', '4.1 and up', '4.0.3 and up', '4.0.3 and up', '4.0 and up', '4.0.3 and up', '3.0 and up', '4.0 and up', '4.2 and up', '4.0 and up', '4.0.3 and up', '4.0.3 and up', '4.0.3 and up', '4.1 and up', '4.1 and up', '4.0.3 and up', '4.0.3 and up', '2.3.3 and up', '4.4 and up', '4.0.3 and up', '4.0.3 and up', '4.4 and up', '4.4 and up', '3.2 and up', '4.0 and up', '3.2 and up', '4.3 and up', '1.6 and up', '2.3 and up', '4.4 and up', '1.6 and up', '2.1 and up', '2.3 and up', '4.0 and up', '2.3.3 and up', '4.0.3 and up', '2.3.3 and up', '2.1 and up', '2.3 and up', '4.1 and up', 'Varies with device', '2.0 and up', 'Varies with device', '3.0 and up', '4.4 and up', '4.1 and up', '2.1 and up', '4.1 and up', '2.2 and up', '1.6 and up', '4.0 and up', 'Varies with device', '2.1 and up', '4.4 and up', '3.0 and up', '4.3 and up', '5.0 and up', '2.2 and up', '4.4 and up', '4.0.3 and up', '4.4 and up', '2.3 and up', '5.0 and up', '4.4 and up', '4.0 and up', '4.3 and up', '2.2 and up', '4.3 and up', '4.3 and up', '5.0 and up', '2.2 and up', '2.2 and up', '2.3 and up', '4.0 and up', '4.0 and up', '4.0 and up', '3.0 and up', '5.0 and up', '4.1 and up', '4.0 and up', '4.1 and up', '4.0 and up', '4.0 and up', '4.1 and up', '4.0 and up', '4.4 and up', '4.0 and up', '2.2 and up', '2.2 and up', '2.1 and up', '4.1 and up', '2.2 and up', '2.2 and up', 'Varies with device', 'Varies with device', '1.6 and up', '4.4 and up', '4.2 and up', '5.0 and up', '2.3 and up', '4.1 and up', '3.2 and up', '4.0 and up', '4.3 and up', '2.3.3 and up', '1.6 and up', '3.0 and up', '2.2 and up', '4.0 and up', '4.1 and up', '4.1 and up', '4.1 and up', '4.0 and up', 'Varies with device', 'Varies with device', '4.1 and up', '2.3 and up', '4.0 and up', '4.1 and up', 'Varies with device', '2.2 and up', '2.2 and up', '4.0.3 and up', '2.3 and up', '4.1 and up', '4.1 and up', '2.3 and up', '4.3 and up', '4.0.3 and up', '4.2 and up', '4.1 and up', '4.0 and up', 'Varies with device', '4.0.3 and up', '4.3 and up', '4.1 and up', '4.0.3 and up', '2.3.3 and up', '4.1 and up', '4.1 and up', '4.4 and up', '2.2 and up', '5.0 and up', '4.2 and up', 'Varies with device', '3.0 and up', 'Varies with device', '4.0 and up', '4.1 and up', '4.1 and up', '4.3 and up', '4.0 and up', '4.0 and up', '4.4 and up', '4.4 and up', '4.1 and up', '4.1 and up', '4.0 and up', '4.4 and up', '4.0.3 and up', '2.2 and up', '4.0.3 and up', '4.0.3 and up', '4.4 and up', 'Varies with device', '5.0 and up', '4.4 and up', '2.3 and up', 'Varies with device', '4.0 and up', '2.3 and up', '4.1 and up', '4.1 and up', '4.1 and up', 'Varies with device', '2.3 and up', 'Varies with device', '4.1 and up', '4.1 and up', '4.0.3 and up', '4.1 and up', '4.4 and up', '4.0.3 and up', '4.0 and up', '2.1 and up', '2.3 and up', '6.0 and up', '3.0 and up', '4.0 and up', '4.0.3 and up', '3.0 and up', '4.1 and up', '4.0 and up', '4.3 and up', '3.0 and up', '2.2 and up', '4.4 and up', '4.4 and up', '2.1 and up', '4.0 and up', '4.1 and up', '4.0 and up', '4.0 and up', '4.1 and up', '4.1 and up', '4.4 and up', '4.1 and up', '4.0 and up', '5.0 and up', '2.2 and up', '4.1 and up', '4.0 and up', '4.2 and up', '4.0.3 and up', '4.1 and up', '2.3 and up', '4.0 and up', '4.1 and up', '4.4 and up', 'Varies with device', '4.4 and up', '4.0 and up', '4.4 and up', '4.0 and up', '4.0.3 and up', '4.0.3 and up', '4.1 and up', '4.3 and up', '4.1 and up', '4.0.3 and up', 'Varies with device', '4.1 and up', '4.0 and up', '5.0 and up', '4.0.3 and up', '4.0.3 and up', '4.0.3 and up', '4.4 and up', '2.3.3 and up', '1.6 and up', '4.4 and up', '4.0.3 and up', '4.0.3 and up', '4.0 and up', '4.0 and up', '4.0.3 and up', '4.1 and up', '4.4 and up', '4.1 and up', '4.0 and up', '4.1 and up', '4.1 and up', '1.5 and up', '4.0.3 and up', '4.1 and up', '2.3 and up', '4.4W and up', '4.2 and up', 'Varies with device', 'Varies with device', '4.0 and up', 'Varies with device', 'Varies with device', '4.0 and up', '4.2 and up', '4.4 and up', 'Varies with device', '4.0.3 and up', '2.3.3 and up', '4.0 and up', '2.3 and up', '4.1 and up', '2.3 and up', '4.1 and up', '4.0.3 and up', 'Varies with device', '4.1 and up', '2.3.3 and up', '4.1 and up', '2.1 and up', '1.6 and up', '4.1 and up', '4.1 and up', '4.1 and up', '4.1 and up', '2.3.3 and up', 'Varies with device', '2.3.3 and up', '3.2 and up', '4.0 and up', '4.1 and up', '4.1 and up', '4.1 and up', '4.2 and up', '4.4 and up', '4.0.3 and up', '4.4 and up', '4.0.3 and up', '4.1 and up', '4.0 and up', 'Varies with device', 'Varies with device', '4.0 and up', '4.1 and up', '4.0 and up', '4.0.3 and up', '4.1 and up', '4.4 and up', '4.0.3 and up', '4.0 and up', '2.3 and up', '4.0 and up', 'Varies with device', '4.0.3 and up', '5.0 and up', 'Varies with device', '4.4 and up', '2.2 and up', '4.4 and up', '4.0.3 and up', '4.1 and up', '4.0.3 and up', '4.0 and up', '4.1 and up', '4.4 and up', '3.0 and up', '4.0.3 and up', '4.1 and up', '4.4 and up', '4.0 and up', '4.0.3 and up', '4.0 and up', '4.1 and up', 'Varies with device', '4.1 and up', 'Varies with device', '3.0 and up', '2.1 and up', '3.0 and up', '4.1 and up', '3.0 and up', '3.0 and up', '2.3.3 and up', '2.3 and up', '4.0.3 and up', '3.0 and up', '4.1 and up', '4.2 and up', '4.4 and up', '4.0.3 and up', '4.0 and up', '3.0 and up', '4.0.3 and up', '2.2 and up', '2.0 and up', '2.3 and up', '4.4 and up', '2.3.3 and up', '4.0.3 and up', '4.0 and up', 'Varies with device', '4.4 and up', '4.0.3 and up', '2.3 and up', '4.0.3 and up', '4.1 and up', '4.0.3 and up', '2.3 and up', '4.0.3 and up', '2.3.3 and up', '2.3 and up', '3.0 and up', 'Varies with device', '4.1 and up', 'Varies with device', '4.0 and up', '4.1 and up', '4.1 and up', '4.1 and up', '4.0 and up', '4.1 and up', '4.0.3 and up', '4.0 and up', '4.1 and up', '4.1 and up', '2.3 and up', '4.1 and up', 'Varies with device', '4.1 and up', '4.1 and up', '4.1 and up', 'Varies with device', '4.1 and up', '4.1 and up', 'Varies with device', '5.0 and up', '4.1 and up', '4.1 and up', '5.0 and up', '4.1 and up', '4.1 and up', '4.0.3 and up', '4.0.3 and up', '2.3 and up', '4.1 and up', '2.3 and up', '5.0 and up', '4.1 and up', '4.1 and up', '4.4 and up', '4.4 and up', '4.2 and up', '4.2 and up', '4.0.3 and up', '4.1 and up', '4.0 and up', '2.2 and up', '4.1 and up', '4.0.3 and up', '3.0 and up', '4.4 and up', '3.0 and up', '2.3 and up', '4.1 and up', '2.3 and up', '3.0 and up', '4.2 and up', '4.0.3 and up', '4.0 and up', '4.1 and up', '4.1 and up', '4.3 and up', '4.0 and up', 'Varies with device', '4.0 and up', 'Varies with device', '4.1 and up', '4.1 and up', 'Varies with device', '2.3 and up', '4.1 and up', '2.3 and up', '4.1 and up', '4.0.3 and up', '5.0 and up', '5.0 and up', '4.1 and up', '4.0 and up', '3.0 and up', '4.4 and up', '4.0.3 and up', '4.2 and up', '4.0 and up', '4.1 and up', '4.0 and up', '4.1 and up', '4.4 and up', '2.2 and up', '4.0 and up', '2.3.3 and up', '4.2 and up', '4.1 and up', '4.2 and up', '2.3 and up', '4.0.3 and up', '4.0 and up', '4.4 and up', '4.4 and up', '3.0 and up', '3.0 and up', '4.3 and up', '4.1 and up', '4.0.3 and up', '4.1 and up', '2.1 and up', '2.3 and up', '4.0.3 and up', '2.2 and up', '4.1 and up', '2.3.3 and up', '4.1 and up', '4.3 and up', '6.0 and up', '4.0.3 and up', '4.1 and up', '2.3.3 and up', '4.1 and up', '4.0 and up', '4.4 and up', '5.0 and up', '4.1 and up', '2.3.3 and up', '4.0 and up', '4.4 and up', '2.1 and up', '4.0 and up', '4.4 and up', '5.0 and up', '4.1 and up', '4.4 and up', '3.0 and up', '4.0.3 and up', '4.0 and up', 'Varies with device', '4.3 and up', 'Varies with device', '4.1 and up', '2.3 and up', '4.0 and up', '4.0 and up', '4.1 and up', '4.0.3 and up', '4.1 and up', '4.1 and up', '3.1 and up', '4.4 and up', '4.4 and up', '4.4 and up', '4.0 and up', 'Varies with device', '4.4 and up', 'Varies with device', 'Varies with device', '2.3.3 and up', '4.0 and up', '5.0 and up', '4.1 and up', 'Varies with device', '4.0 and up', '2.3 and up', 'Varies with device', '4.4 and up', '4.0 and up', 'Varies with device', 'Varies with device', '4.0 and up', '4.4 and up', 'Varies with device', '4.1 and up', '2.1 and up', '6.0 and up', '1.5 and up', '4.0 and up', '4.1 and up', '5.0 and up', 'Varies with device', '4.1 and up', '4.0 and up', 'Varies with device', 'Varies with device', '4.0 and up', '4.1 and up', '4.4 and up', '4.0 and up', '2.3 and up', '5.0 and up', '4.1 and up', '2.3 and up', 'Varies with device', '5.0 and up', '4.1 and up', '4.0.3 and up', '4.0.3 and up', '4.1 and up', '4.3 and up', '4.0 and up', '4.0.3 and up', '4.0.3 and up', '4.1 and up', '4.1 and up', '4.0.3 and up', '4.1 and up', '4.1 and up', '4.0.3 and up', '4.3 and up', '3.0 and up', '4.0.3 and up', '4.0.3 and up', '2.2 and up', '4.1 and up', '4.0 and up', '4.0.3 and up', '4.0.3 and up', '4.1 and up', '4.1 and up', '4.2 and up', '2.3.3 and up', '4.1 and up', '4.0.3 and up', '4.0.3 and up', '4.0 and up', '4.1 and up', '4.0.3 and up', '4.2 and up', '4.1 and up', '4.0.3 and up', '4.1 and up', '4.3 and up', '4.0.3 and up', '4.4 and up', '4.0 and up', '4.1 and up', '4.1 and up', '4.1 and up', '4.1 and up', '4.0 and up', '4.1 and up', '5.0 and up', '4.0 and up', '4.1 and up', '4.0 and up', '3.2 and up', '2.3 and up', '4.0 and up', '4.4 and up', '2.3 and up', '4.4 and up', '4.2 and up', '4.3 and up', '4.2 and up', '3.2 and up', '4.2 and up', '2.2 and up', '4.2 and up', '2.3.3 and up', '4.4 and up', '4.1 and up', '2.2 and up', '2.3 and up', '2.1 and up', '4.1 and up', '4.3 and up', '4.4 and up', 'Varies with device', '4.4 and up', '4.4 and up', '4.1 and up', '4.1 and up', '4.0 and up', '5.0 and up', '4.1 and up', '4.4 and up', '3.2 and up', '4.0.3 and up', '4.0.3 and up', 'Varies with device', '2.3 and up', '4.1 and up', '4.0.3 and up', 'Varies with device', '4.0 and up', '4.0 and up', '4.0 and up', '4.1 and up', '4.4 and up', '4.1 and up', '4.1 and up', '4.1 and up', '4.0.3 and up', '4.1 and up', '4.1 and up', 'Varies with device', '4.1 and up', '4.0.3 and up', '4.0 and up', '4.1 and up', '4.0 and up', '4.0 and up', '4.0 and up', '4.0.3 and up', '4.1 and up', '4.0 and up', '4.0 and up', '4.4 and up', '7.0 and up', '4.0.3 and up', '4.0 and up', '4.0.3 and up', '4.1 and up', '2.2 and up', '4.0.3 and up', '4.1 and up', '2.0.1 and up', '4.0 and up', '4.1 and up', '2.3 and up', '4.1 and up', '4.0 and up', '4.0 and up', '4.1 and up', '2.3 and up', '2.3 and up', '4.0.3 and up', '4.0.3 and up', '2.3.3 and up', '4.0 and up', '4.1 and up', '5.0 and up', '4.1 and up', '4.0 and up', 'Varies with device', 'Varies with device', '4.4 and up', '4.1 and up', '4.1 and up', '4.1 and up', '5.0 and up', '4.0 and up', '2.3 and up', 'Varies with device', '2.3 and up', '4.2 and up', '2.3.3 and up', '5.0 and up', '1.5 and up', '2.2 and up', '2.3 and up', '2.3.3 and up', '2.0 and up', '4.1 and up', '4.0 and up', '4.1 and up', '4.1 and up', '2.3 and up', '4.0 and up', '4.1 and up', '4.1 and up', '2.2 and up', '2.2 and up', '2.3 and up', '4.2 and up', '4.1 and up', '4.0.3 and up', '4.1 and up', '2.3 and up', '2.2 and up', '2.3.3 and up', '2.3.3 and up', '2.3.3 and up', '5.0 and up', '4.4 and up', '2.2 and up', '4.0 and up', '2.1 and up', '4.1 and up', '4.1 and up', '2.2 and up', '4.2 and up', '4.1 and up', '4.1 and up', '4.3 and up', '4.0 and up', '4.0.3 and up', '4.0.3 and up', '4.0 and up', '4.2 and up', '5.0 and up', '2.3 and up', '4.1 and up', '4.1 and up', '4.0 and up', '4.2 and up', '4.0 and up', '4.0.3 and up', '4.0 and up', '4.0 and up', '4.0 and up', '4.0 and up', '4.0.3 and up', '4.0 and up', '4.2 and up', '4.0 and up', '4.3 and up', '4.0.3 and up', '4.3 and up', 'Varies with device', '2.3.3 and up', '4.0 and up', '4.0 and up', '4.0 and up', '4.0 and up', '4.1 and up', '4.1 and up', '4.0 and up', 'Varies with device', '1.0 and up', '2.3.3 and up', '4.1 and up', '2.2 and up', '4.1 and up', 'Varies with device', '4.0.3 and up', '2.3 and up', 'Varies with device', '4.1 and up', '4.2 and up', '4.3 and up', '4.4 and up', '4.0 and up', '4.0 and up', '4.0 and up', '4.0 and up', '4.0.3 and up', '4.1 and up', '4.1 and up', '4.0.3 and up', '4.0.3 and up', '2.3 and up', '4.0 and up', '4.0.3 and up', '3.0 and up', '4.2 and up', '2.3 and up', '4.0 and up', '4.0 and up', '4.0 and up', '4.0 and up', '4.4 and up', '2.2 and up', '4.1 and up', '4.1 and up', '4.0.3 and up', '4.2 and up', '4.1 and up', '4.0 and up', '4.0.3 and up', '4.4 and up', '4.0.3 and up', '2.2 and up', '2.2 and up', '2.3.3 and up', '4.0 and up', '3.0 and up', '2.2 and up', '4.1 and up', '4.2 and up', '4.4 and up', 'Varies with device', '4.1 and up', '4.1 and up', '2.2 and up', '4.1 and up', 'Varies with device', '4.1 and up', '2.3 and up', '4.1 and up', '2.2 and up', '4.1 and up', '2.1 and up', '4.1 and up', '2.3.3 and up', '4.1 and up', '4.1 and up', '5.0 and up', '4.0.3 and up', '4.1 and up', '4.1 and up', '4.0 and up', '4.1 and up', '5.0 and up', '1.6 and up', '2.3 and up', '2.3 and up', '2.3.3 and up', '2.0 and up', '4.0 and up', '4.0 and up', '4.0 and up', '4.0 and up', '2.2 and up', '2.2 and up', '2.1 and up', '4.1 and up', '4.0.3 and up', '4.0 and up', '2.3 and up', '4.1 and up', '4.0 and up', '4.0.3 and up', '3.2 and up', '2.3 and up', '4.1 and up', '4.1 and up', 'Varies with device', '4.0 and up', '4.1 and up', '1.5 and up', '4.0.3 and up', '2.2 and up', '4.0.3 and up', '4.1 and up', '4.1 and up', '6.0 and up', '2.2 and up', '3.0 and up', '2.3.3 and up', '4.0.3 and up', '4.4 and up', '4.1 and up', '2.0.1 and up', 'Varies with device', '2.3 and up', '4.4 and up', '2.1 and up', '4.1 and up', '2.3 and up', 'Varies with device', '4.1 and up', '4.1 and up', '4.1 and up', '4.0 and up', '2.2 and up', '2.3 and up', '2.3.3 and up', '4.1 and up', '4.0.3 and up', '4.1 and up', '4.0.3 and up', '4.0.3 and up', '4.1 and up', '4.0 and up', '4.0.3 and up', '4.0.3 and up', '2.3 and up', '4.2 and up', '4.0 and up', '3.0 and up', '4.0 and up', 'Varies with device', '4.0 and up', '2.1 and up', '2.3 and up', '4.1 and up', '4.0.3 and up', '2.3 and up', '4.0 and up', '5.0 and up', '4.4 and up', '1.6 and up', '4.1 and up', '4.1 and up', '4.0 and up', 'Varies with device', '4.1 and up', '4.0.3 and up', '4.0.3 and up', '4.2 and up', '4.1 and up', '4.0 and up', '4.1 and up', '4.2 and up', '4.0 and up', '2.3 and up', '2.1 and up', '2.3.3 and up', '4.0 and up', '4.1 and up', '4.1 and up', '4.0 and up', '4.4 and up', '4.0.3 and up', '4.1 and up', '4.1 and up', '4.1 and up', '3.0 and up', '3.0 and up', '4.1 and up', '2.3 and up', '4.0.3 and up', '4.1 and up', '4.1 and up', '4.0 and up', '4.0.3 and up', '4.0.3 and up', '2.3.3 and up', '4.1 and up', '4.0.3 and up', '4.4 and up', '2.3 and up', '4.0 and up', '4.1 and up', '4.1 and up', '4.4 and up', '4.1 and up', '4.3 and up', '4.3 and up', '4.3 and up', '4.0.3 and up', '4.0 and up', '4.1 and up', '4.0 and up', '4.1 and up', '4.2 and up', '5.0 and up', '4.4 and up', '4.0.3 and up', '4.0 and up', '4.1 and up', '4.0.3 and up', 'Varies with device', '4.0 and up', '4.0 and up', '4.0 and up', '4.0.3 and up', '4.0.3 and up', '4.1 and up', '3.0 and up', '2.2 and up', '4.0.3 and up', '2.2 and up', '5.0 and up', '4.1 and up', '2.3 and up', '1.0 and up', '5.0 and up', '4.0 and up', '4.0 and up', '4.2 and up', '4.1 and up', '4.4 and up', '2.3 and up', '1.6 and up', '4.1 and up', 'Varies with device', '4.0.3 and up', '2.3 and up', '4.4 and up', '3.0 and up', '2.3.3 and up', '3.0 and up', '2.3 and up', '2.3 and up', '4.0 and up', '4.4 and up', '2.3.3 and up', '4.0.3 and up', '4.0 and up', '4.1 and up', '4.0 and up', '3.0 and up', '4.1 and up', '2.3.3 and up', '2.3.3 and up', '4.0 and up', '4.0 and up', '4.0.3 and up', '4.4 and up', '2.3.3 and up', '4.0 and up', '2.3.3 and up', '4.0.3 and up', '4.4 and up', '4.0.3 and up', '4.1 and up', '4.2 and up', '4.1 and up', '4.4 and up', '4.4 and up', '4.4 and up', '5.0 and up', '5.0 and up', '4.4 and up', '4.4 and up', '4.4 and up', '4.1 and up', '4.1 and up', '4.0 and up', '4.0 and up', 'Varies with device', '4.4 and up', 'Varies with device', '4.0 and up', '4.3 and up', '5.0 and up', '4.3 and up', '4.4 and up', '3.0 and up', '4.4 and up', '4.4 and up', '4.1 and up', '4.1 and up', '2.1 and up', '4.1 and up', 'Varies with device', '4.0.3 and up', '4.2 and up', '4.1 and up', '4.0 and up', '4.0 and up', '4.1 and up', '2.3 and up', '2.2 and up', '2.3.3 and up', '4.0 and up', '2.3 and up', '2.3 and up', '4.1 and up', '3.2 and up', '2.2 and up', '2.2 and up', '4.0.3 and up', '4.3 and up', '2.2 and up', '4.1 and up', '2.2 and up', '4.0.3 and up', '4.0 and up', '2.3 and up', '4.0 and up', 'Varies with device', '2.3 and up', '2.3 and up', '3.0 and up', '4.0 and up', '4.0.3 and up', '4.4 and up', '2.3 and up', '4.0.3 and up', '4.0 and up', '4.0 and up', '4.3 and up', '4.4 and up', '4.4 and up', '4.0 and up', '4.1 and up', '4.0 and up', '4.0 and up', '2.2 and up', '4.1 and up', '4.1 and up', '4.0.3 and up', '2.3 and up', '2.2 and up', '4.1 and up', '4.0.3 and up', '4.2 and up', '4.0.3 and up', '4.0 and up', '2.1 and up', '4.1 and up', '4.0 and up', '4.0 and up', '2.3 and up', '3.0 and up', '2.3.3 and up', '2.3 and up', '4.1 and up', '2.0 and up', '2.3 and up', '2.3 and up', '4.0.3 and up', '4.1 and up', '4.2 and up', '2.3 and up', '4.1 and up', '4.2 and up', '4.4 and up', '4.0.3 and up', '4.0 and up', '3.0 and up', '4.4 and up', '2.3 and up', '4.0 and up', '2.3 and up', '4.2 and up', '2.3.3 and up', '4.0 and up', 'Varies with device', '4.4 and up', '2.3 and up', '4.0 and up', '2.2 and up', '1.6 and up', '2.3.3 and up', '4.1 and up', '2.3 and up', '2.3 and up', '2.3 and up', '4.1 and up', '4.0 and up', '4.0.3 and up', '4.4 and up', '2.1 and up', '2.3 and up', '2.3 and up', '4.1 and up', '4.0 and up', '2.3.3 and up', 'Varies with device', '4.0.3 and up', 'Varies with device', '2.3 and up', '4.0 and up', '4.0.3 and up', '4.0 and up', '4.0 and up', '2.3 and up', '4.1 and up', '2.3.3 and up', '4.0 and up', '2.3 and up', '4.1 and up', '4.0 and up', '2.3 and up', '2.3 and up', '2.3.3 and up', '5.0 and up', '4.1 and up', '2.3.3 and up', 'Varies with device', '4.0 and up', '4.0.3 and up', '4.0 and up', '2.2 and up', '2.3.3 and up', '2.3 and up', '2.3 and up', '4.1 and up', '2.3 and up', '4.0 and up', '2.2 and up', '4.0.3 and up', '4.1 and up', '2.1 and up', '3.0 and up', '4.1 and up', '2.3 and up', '4.0 and up', '4.0.3 and up', '4.0.3 and up', '4.1 and up', '4.1 and up', '1.6 and up', '4.0.3 and up', '4.1 and up', '4.1 and up', '5.0 and up', '4.0 and up', '4.4 and up', '4.0 and up', '5.1 and up', '2.2 and up', '4.0 and up', '3.0 and up', '4.3 and up', '2.2 and up', '4.1 and up', '2.1 and up', '4.0.3 and up', '5.0 and up', '4.0 and up', '5.0 and up', '5.0 and up', '4.0 and up', '4.0.3 and up', '4.1 and up', '4.1 and up', '4.0 and up', '5.0 and up', '4.1 and up', '4.0 and up', '4.1 and up', '4.0.3 and up', '4.0 and up', '4.0 and up', '4.0 and up', '4.1 and up', '2.2 and up', '4.0 and up', '4.4 and up', '4.1 and up', '2.3.3 and up', '4.2 and up', '4.1 and up', '2.3 and up', '4.2 and up', '4.0 and up', '2.3.3 and up', '4.1 and up', '4.1 and up', 'Varies with device', '2.3 and up', '4.1 and up', '2.3 and up', '4.0 and up', '4.0.3 and up', '4.2 and up', '4.0 and up', '4.1 and up', '4.0.3 and up', '4.0.3 and up', '4.0.3 and up', 'Varies with device', '4.0 and up', '5.0 and up', '4.0 and up', '1.5 and up', 'Varies with device', '4.4 and up', 'Varies with device', '1.6 and up', '4.1 and up', '4.0 and up', '5.0 and up', 'Varies with device', '4.0.3 and up', '4.0.3 and up', '4.1 and up', 'Varies with device', '2.3 and up', '2.0 and up', '4.0.3 and up', '4.1 and up', '4.0.3 and up', 'Varies with device', '4.1 and up', '4.1 and up', '2.3 and up', '2.3 and up', '4.1 and up', '4.1 and up', '5.0 and up', '4.0.3 and up', '5.0 and up', '4.0.3 and up', '4.0.3 and up', 'Varies with device', '4.1 and up', '4.1 and up', '4.1 and up', '4.1 and up', '2.0 and up', 'Varies with device', '3.0 and up', '4.1 and up', '4.1 and up', '4.0.3 and up', '4.0.3 and up', '3.0 and up', '4.1 and up', 'Varies with device', '5.0 and up', '4.0.3 and up', '4.1 and up', '2.3 and up', '2.3 and up', '4.1 and up', '2.3 and up', 'Varies with device', 'Varies with device', '4.1 and up', 'Varies with device', 'Varies with device', 'Varies with device', '2.3 and up', '4.1 and up', '4.0.3 and up', '4.0 and up', '4.0.3 and up', '4.1 and up', 'Varies with device', '2.3 and up', '5.0 and up', '5.0 and up', 'Varies with device', '4.1 and up', '4.1 and up', '2.3 and up', 'Varies with device', '4.1 and up', '4.1 and up', 'Varies with device', '4.0.3 and up', '4.0.3 and up', '4.4 and up', '4.1 and up', '4.1 and up', '4.1 and up', '4.1 and up', '4.0.3 and up', '4.3 and up', '4.1 and up', '4.0 and up', '4.1 and up', '4.0 and up', '4.0.3 and up', '4.1 and up', '4.2 and up', '4.2 and up', '2.3 and up', '4.1 and up', '4.1 and up', '4.0.3 and up', '4.1 and up', '4.1 and up', '4.1 and up', '4.1 and up', 'Varies with device', '4.2 and up', '4.3 and up', '4.0 and up', '4.0.3 and up', '4.2 and up', '4.1 and up', '4.0.3 and up', '3.0 and up', '4.1 and up', '4.1 and up', '2.3 and up', '4.1 and up', '4.1 and up', '4.0 and up', '4.1 and up', '4.3 and up', '2.3 and up', '2.2 and up', '5.0 and up', '2.3 and up', '2.3 and up', '2.3 and up', '2.2 and up', '2.3 and up', '4.4 and up', '4.0 and up', '4.1 and up', '4.1 and up', '4.1 and up', '4.1 and up', '4.1 and up', '4.0.3 and up', '4.0.3 and up', '4.1 and up', '5.1 and up', '4.1 and up', '4.1 and up', 'Varies with device', '4.4 and up', '4.0 and up', '4.0.3 and up', '4.1 and up', '4.0.3 and up', '2.3 and up', '4.3 and up', '4.1 and up', '4.0.3 and up', '2.3 and up', '4.1 and up', '4.3 and up', '4.0 and up', '4.0 and up', '4.1 and up', '4.1 and up', '4.1 and up', '4.0 and up', '4.0.3 and up', '4.1 and up', '2.3 and up', '4.0 and up', '4.1 and up', '4.1 and up', '4.1 and up', '4.0.3 and up', '4.0.3 and up', '2.3 and up', '4.0 and up', '4.1 and up', '4.1 and up', 'Varies with device', '1.6 and up', '2.3 and up', 'Varies with device', '4.0 and up', '2.1 and up', '2.2 and up', '4.0 and up', '2.1 and up', '4.0 and up', '2.2 and up', '2.0 and up', '4.0 and up', '4.0 and up', '2.1 and up', '1.6 and up', '2.0 and up', '4.2 and up', '4.0 and up', '4.2 and up', '4.0 and up', '4.2 and up', '4.3 and up', '4.1 and up', '1.6 and up', '4.1 and up', '4.2 and up', '5.0 and up', '2.2 and up', '4.1 and up', '4.0.3 and up', '4.3 and up', 'Varies with device', '4.0 and up', '4.1 and up', '4.4 and up', '4.0.3 and up', '4.1 and up', '3.0 and up', '5.0 and up', '4.0 and up', '4.1 and up', 'Varies with device', '4.1 and up', 'Varies with device', '4.1 and up', '5.0 and up', '4.1 and up', '4.1 and up', '2.2 and up', '4.0 and up', '4.0.3 and up', '4.1 and up', '4.0 and up', '4.0.3 and up', 'Varies with device', 'Varies with device', 'Varies with device', '4.1 and up', 'Varies with device', 'Varies with device', '4.4 and up', '4.1 and up', '4.2 and up', 'Varies with device', 'Varies with device', '4.1 and up', '4.0.3 and up', 'Varies with device', 'Varies with device', '4.0.3 and up', '5.0 and up', '4.1 and up', '4.0.3 and up', '4.1 and up', 'Varies with device', '4.0.3 and up', '4.1 and up', '4.1 and up', 'Varies with device', '4.0 and up', '4.0.3 and up', '4.0 and up', '2.1 and up', '4.0 and up', '2.2 and up', '4.2 and up', '2.3.3 and up', '4.0.3 and up', '4.0.3 and up', '4.1 and up', '2.1 and up', '4.1 and up', '4.0.3 and up', '4.0.3 and up', '4.0.3 and up', '4.1 and up', '2.2 and up', '4.4 and up', '4.4 and up', 'Varies with device', '4.3 and up', '4.4 and up', '4.1 and up', '4.1 and up', '2.3.3 and up', '4.4 and up', '4.1 and up', '4.1 and up', '4.1 and up', '2.3 and up', '4.1 and up', '1.6 and up', '4.4 and up', 'Varies with device', '4.3 and up', '4.0 and up', '4.0 and up', '4.1 and up', '4.1 and up', '4.1 and up', '4.0 and up', '4.0 and up', 'Varies with device', '4.4 and up', '4.0.3 and up', '4.0.3 and up', '4.1 and up', '4.4 and up', '5.0 and up', '2.3 and up', '4.1 and up', '6.0 and up', '4.1 and up', '4.0 and up', '4.1 and up', '4.1 and up', '4.4 and up', '4.1 and up', '4.0.3 and up', '5.0 and up', '4.1 and up', '4.4 and up', '2.3 and up', '4.0.3 and up', '4.0 and up', '2.3.3 and up', '4.1 and up', '2.3 and up', '4.4 and up', '2.1 and up', '4.4 and up', 'Varies with device', 'Varies with device', '4.0 and up', '4.1 and up', '4.0 and up', '4.1 and up', 'Varies with device', '4.0 and up', '2.3 and up', '4.1 and up', '4.1 and up', '4.1 and up', '4.2 and up', '4.1 and up', 'Varies with device', '2.3 and up', '4.0.3 and up', '4.1 and up', '4.4 and up', '4.0 and up', 'Varies with device', '4.1 and up', '4.0.3 and up', 'Varies with device', '4.1 and up', '4.4 and up', '4.0 and up', '4.0.3 and up', 'Varies with device', 'Varies with device', '5.0 and up', '4.0.3 and up', '4.2 and up', '4.0.3 and up', 'Varies with device', '2.3 and up', 'Varies with device', '4.0 and up', '4.1 and up', '2.3 and up', '4.0 and up', '4.0 and up', '4.1 and up', '2.3 and up', '2.1 and up', 'Varies with device', '4.2 and up', '1.6 and up', 'Varies with device', '2.0 and up', '2.1 and up', '2.2 and up', '1.6 and up', '1.6 and up', '3.0 and up', 'Varies with device', '4.0.3 and up', '1.6 and up', '1.6 and up', 'Varies with device', '5.0 and up', '1.6 and up', '1.6 and up', '1.6 and up', '2.2 and up', '5.0 and up', '2.1 and up', '1.6 and up', '2.2 and up', '2.3 and up', '4.0.3 and up', '3.0 and up', '4.0 and up', 'Varies with device', '4.1 and up', '4.1 and up', '1.6 and up', '1.6 and up', '2.3 and up', '2.3.3 and up', '4.0.3 and up', '2.1 and up', '4.0 and up', '3.0 and up', '2.3 and up', '4.1 and up', '2.2 and up', '6.0 and up', '4.1 and up', '4.0.3 and up', '4.1 and up', '2.1 and up', '2.1 and up', '4.0.3 and up', '4.0.3 and up', '2.3 and up', '4.0.3 and up', '4.1 and up', '4.0.3 and up', '4.0 and up', '2.1 and up', '4.0.3 and up', '2.3 and up', '4.4 and up', '3.0 and up', '4.1 and up', '4.0 and up', '5.0 and up', '2.1 and up', '4.0 and up', '4.0.3 and up', 'Varies with device', '4.0.3 and up', '2.3 and up', 'Varies with device', 'Varies with device', '4.2 and up', '4.3 and up', '4.0 and up', '4.4 and up', '2.3 and up', '3.2 and up', '2.2 and up', '5.0 and up', '4.3 and up', '4.0 and up', '4.0 and up', 'Varies with device', '3.0 and up', '2.1 and up', '5.0 and up', '4.3 and up', '5.0 and up', '4.3 and up', '4.0 and up', '2.1 and up', '2.3 and up', 'Varies with device', '4.0 and up', '4.4 and up', '2.2 and up', '4.0.3 and up', '2.2 and up', '3.0 and up', '4.3 and up', '4.1 and up', '4.0 and up', '4.4 and up', '4.1 and up', '5.0 and up', '6.0 and up', '4.1 and up', '5.0 and up', '4.0.3 and up', '5.0 and up', '4.1 and up', '4.1 and up', '4.0 and up', '4.1 and up', '4.0 and up', '4.0.3 and up', '4.0 and up', '4.0 and up', '4.1 and up', '4.0.3 and up', '4.0.3 and up', '4.1 and up', '2.3 and up', '4.4 and up', '4.0.3 and up', '4.1 and up', '4.0.3 and up', '4.0.3 and up', '4.0.3 and up', '4.3 and up', '4.0.3 and up', 'Varies with device', '4.4 and up', 'Varies with device', '4.4 and up', 'Varies with device', '2.3 and up', '4.1 and up', '4.1 and up', '4.0.3 and up', '4.1 and up', 'Varies with device', '4.1 and up', '4.1 and up', '4.0.3 and up', '4.1 and up', '4.1 and up', '2.3 and up', '4.0.3 and up', '2.2 and up', '2.3 and up', '4.2 and up', '4.4 and up', '5.0 and up', '5.0 and up', '4.3 and up', '4.2 and up', '4.0.3 and up', '4.4 and up', '3.0 and up', '4.0 and up', '4.0.3 and up', '4.0 and up', '4.2 and up', '4.4 and up', '3.0 and up', '4.1 and up', '2.3 and up', '4.0.3 and up', '4.0.3 and up', '4.0 and up', '4.0.3 and up', '2.3 and up', '4.1 and up', '4.2 and up', '4.1 and up', '4.0.3 and up', '4.1 and up', '4.1 and up', '4.1 and up', '4.0 and up', '4.0 and up', '4.1 and up', '4.1 and up', '4.4 and up', '4.1 and up', '4.0.3 and up', '2.3 and up', '5.0 and up', '4.4 and up', '4.4 and up', '4.1 and up', '4.1 and up', '4.4 and up', '5.0 and up', 'Varies with device', '4.4 and up', '4.3 and up', '4.4 and up', '4.4 and up', '2.3 and up', '5.0 and up', '4.1 and up', '4.2 and up', '4.0 and up', '4.0.3 and up', '4.1 and up', '4.2 and up', '5.0 and up', '4.1 and up', '4.0.3 and up', 'Varies with device', '1.6 and up', '4.0.3 and up', '4.4 and up', '4.0.3 and up', '4.0.3 and up', '4.4 and up', '5.0 and up', '4.0.3 and up', '4.4 and up', '4.4 and up', '4.4 and up', '4.4 and up', '4.4 and up', '4.0.3 and up', '4.4 and up', '1.6 and up', '5.0 and up', '4.0 and up', '4.1 and up', '4.4 and up', '4.1 and up', '4.4 and up', '4.0.3 and up', '4.4 and up', '4.4 and up', '4.0.3 and up', '3.0 and up', '3.0 and up', '2.3 and up', '4.1 and up', '3.0 and up', '4.0.3 and up', '4.0.3 and up', '4.1 and up', '4.2 and up', '4.0 and up', '4.0.3 and up', '5.0 and up', '4.1 and up', '5.0 and up', '4.1 and up', '4.1 and up', '4.0.3 and up', '4.0 and up', '4.1 and up', '4.0 and up', '4.0 and up', '5.0 and up', '4.0 and up', '4.1 and up', '2.3.3 and up', '4.1 and up', '4.0 and up', '4.1 and up', '4.1 and up', '4.2 and up', '4.1 and up', '2.3 and up', '4.1 and up', '4.1 and up', '2.3 and up', '4.1 and up', '4.1 and up', '4.1 and up', '4.1 and up', '2.2 and up', '4.0 and up', '4.1 and up', '2.3 and up', '4.4 and up', '2.3.3 and up', '4.0.3 and up', '2.3 and up', '2.3 and up', '4.2 and up', '2.3 and up', '4.1 and up', '2.3 and up', '4.4 and up', '2.3 and up', '4.0.3 and up', '4.1 and up', '2.3.3 and up', '4.1 and up', '2.3.3 and up', '4.0 and up', '4.0 and up', '4.1 and up', '4.4 and up', '4.0.3 and up', '4.0 and up', '4.0.3 and up', '2.3.3 and up', '2.3.3 and up', '4.0 and up', '5.0 and up', '4.1 and up', '4.2 and up', '4.1 and up', '3.0 and up', '4.1 and up', '4.1 and up', '4.0.3 and up', '3.0 and up', '4.0 and up', '4.1 and up', '2.3 and up', '4.1 and up', '5.0 and up', '6.0 and up', '5.1 and up', '1.6 and up', '2.2 and up', 'Varies with device', '2.3 and up', '4.0.3 and up', '4.0.3 and up', '6.0 and up', '4.0 and up', 'Varies with device', '4.4 and up', '4.2 and up', 'Varies with device', '4.0 and up', '4.4 and up', '1.6 and up', '2.1 and up', '1.6 and up', '4.1 and up', '2.3.3 and up', '4.0 and up', '2.3 and up', '4.1 and up', '5.0 and up', '4.0 and up', '4.2 and up', '2.3 and up', '4.0.3 and up', '4.4 and up', '2.2 and up', '2.3 and up', '2.3.3 and up', '4.0 and up', '4.0 and up', '4.0 and up', '2.3 and up', '4.0 and up', '2.3.3 and up', '4.3 and up', '4.1 and up', '2.3 and up', '2.3.3 and up', '2.3.3 and up', '4.4 and up', '2.3 and up', '4.0.3 and up', '2.3 and up', '2.3.3 and up', '4.2 and up', '2.3 and up', '4.1 and up', '4.1 and up', '4.1 and up', '4.0 and up', '2.3 and up', 'Varies with device', '2.3 and up', '4.1 and up', '2.3 and up', '2.3.3 and up', '4.1 and up', '2.2 and up', '2.3 and up', '4.0 and up', '4.2 and up', '4.1 and up', '2.3 and up', '4.0.3 and up', '4.2 and up', '4.0 and up', '5.0 and up', '3.2 and up', '4.1 and up', '4.4 and up', '2.3 and up', '4.4 and up', '4.1 and up', '4.0 and up', '4.4 and up', '2.3 and up', '4.4 and up', '2.2 and up', '4.1 and up', '4.1 and up', '4.4 and up', '4.0 and up', '4.0.3 and up', '4.0.3 and up', '4.1 and up', '4.0.3 and up', '4.1 and up', '4.0.3 and up', '4.4 and up', '3.0 and up', '2.3 and up', '4.0 and up', 'Varies with device', '3.0 and up', '4.1 and up', '4.1 and up', '4.1 and up', '4.4 and up', '4.2 and up', '4.4 and up', '4.1 and up', '3.0 and up', '2.1 and up', '4.0.3 and up', '4.1 and up', '2.3.3 and up', '4.4 and up', '2.2 and up', '4.0.3 and up', '4.1 and up', '4.0 and up', '4.1 and up', '4.4 and up', '2.3.3 and up', '2.2 and up', '4.0.3 and up', '4.1 and up', '4.4 and up', '4.0 and up', '2.3.3 and up', '4.1 and up', '4.0.3 and up', '5.0 and up', '4.1 and up', '4.0.3 and up', '4.0.3 and up', '5.0 and up', '4.1 and up', '7.0 and up', '4.1 and up', '2.3.3 and up', '4.3 and up', '4.4 and up', '2.1 and up', '4.1 and up', '4.0 and up', '5.0 and up', '4.0 and up', '5.0 and up', 'Varies with device', '5.0 and up', '4.0.3 and up', '4.1 and up', '4.0 and up', 'Varies with device', '4.0.3 and up', '4.0.3 and up', '4.2 and up', '4.0 and up', '4.1 and up', '4.0 and up', '4.0.3 and up', '4.0 and up', '2.3 and up', '2.2 and up', '4.0 and up', '4.0.3 and up', '2.2 and up', '2.2 and up', '2.2 and up', 'Varies with device', '4.1 and up', '4.4 and up', '4.0.3 and up', '2.1 and up', '4.1 and up', '4.0.3 and up', '3.0 and up', '2.3 and up', '2.1 and up', '4.1 and up', '7.0 and up', '2.2 and up', '2.3 and up', '2.3 and up', '2.3.3 and up', 'Varies with device', '4.0.3 and up', '4.0 and up', 'Varies with device', 'Varies with device', '4.1 and up', '4.0 and up', '4.0 and up', '4.4 and up', '5.0 and up', '4.4 and up', '5.0 and up', '4.1 and up', '2.3.3 and up', '4.1 and up', '3.0 and up', '4.4 and up', '4.2 and up', '4.4 and up', '4.0 and up', '4.0 and up', '4.4 and up', '4.0.3 and up', '2.0 and up', '1.6 and up', '4.0 and up', '2.2 and up', '4.1 and up', '2.3 and up', '6.0 and up', '4.4 and up', '4.0.3 and up', '4.2 and up', '3.1 and up', '6.0 and up', '4.0.3 and up', '4.4 and up', '2.3 and up', '2.3.3 and up', '4.1 and up', '4.4 and up', '4.0 and up', '4.2 and up', '1.6 and up', 'Varies with device', '4.0.3 and up', '4.2 and up', '5.0 and up', '2.3 and up', '4.0 and up', '2.3 and up', '4.0 and up', '4.1 and up', '4.4 and up', '4.1 and up', '4.1 and up', '5.0 and up', '4.1 and up', '4.0 and up', '2.3 and up', '6.0 and up', '4.1 and up', '4.1 and up', '4.1 and up', '2.2 and up', '4.0 and up', '4.0.3 and up', '4.1 and up', '4.1 and up', '5.0 and up', '4.0.3 and up', '4.4 and up', '4.4 and up', '3.0 and up', '4.0 and up', '2.3 and up', '4.2 and up', '4.1 and up', '4.4 and up', '4.0.3 and up', '3.0 and up', '4.2 and up', '5.0 and up', '4.1 and up', '4.1 and up', 'Varies with device', '4.0.3 and up', '4.0 and up', '4.1 and up', '1.6 and up', '2.1 and up', '2.2 and up', '4.1 and up', '4.1 and up', '4.1 and up', 'Varies with device', 'Varies with device']\n"
     ]
    }
   ],
   "source": [
    "import statistics \n",
    "Android_list = data2['Android Ver'].to_list()\n",
    "print(Android_list)"
   ]
  },
  {
   "cell_type": "code",
   "execution_count": 13,
   "id": "8763c438",
   "metadata": {},
   "outputs": [
    {
     "data": {
      "text/html": [
       "<div>\n",
       "<style scoped>\n",
       "    .dataframe tbody tr th:only-of-type {\n",
       "        vertical-align: middle;\n",
       "    }\n",
       "\n",
       "    .dataframe tbody tr th {\n",
       "        vertical-align: top;\n",
       "    }\n",
       "\n",
       "    .dataframe thead th {\n",
       "        text-align: right;\n",
       "    }\n",
       "</style>\n",
       "<table border=\"1\" class=\"dataframe\">\n",
       "  <thead>\n",
       "    <tr style=\"text-align: right;\">\n",
       "      <th></th>\n",
       "      <th>App</th>\n",
       "      <th>Category</th>\n",
       "      <th>Rating</th>\n",
       "      <th>Reviews</th>\n",
       "      <th>Size</th>\n",
       "      <th>Installs</th>\n",
       "      <th>Type</th>\n",
       "      <th>Price</th>\n",
       "      <th>Content Rating</th>\n",
       "      <th>Genres</th>\n",
       "      <th>Last Updated</th>\n",
       "      <th>Current Ver</th>\n",
       "      <th>Android Ver</th>\n",
       "    </tr>\n",
       "  </thead>\n",
       "  <tbody>\n",
       "    <tr>\n",
       "      <th>0</th>\n",
       "      <td>Photo Editor &amp; Candy Camera &amp; Grid &amp; ScrapBook</td>\n",
       "      <td>ART_AND_DESIGN</td>\n",
       "      <td>4.1</td>\n",
       "      <td>159</td>\n",
       "      <td>19000.000000</td>\n",
       "      <td>10,000+</td>\n",
       "      <td>Free</td>\n",
       "      <td>0</td>\n",
       "      <td>Everyone</td>\n",
       "      <td>Art &amp; Design</td>\n",
       "      <td>January 7, 2018</td>\n",
       "      <td>1.0.0</td>\n",
       "      <td>4.0.3 and up</td>\n",
       "    </tr>\n",
       "    <tr>\n",
       "      <th>1</th>\n",
       "      <td>Coloring book moana</td>\n",
       "      <td>ART_AND_DESIGN</td>\n",
       "      <td>3.9</td>\n",
       "      <td>967</td>\n",
       "      <td>14000.000000</td>\n",
       "      <td>500,000+</td>\n",
       "      <td>Free</td>\n",
       "      <td>0</td>\n",
       "      <td>Everyone</td>\n",
       "      <td>Art &amp; Design;Pretend Play</td>\n",
       "      <td>January 15, 2018</td>\n",
       "      <td>2.0.0</td>\n",
       "      <td>4.0.3 and up</td>\n",
       "    </tr>\n",
       "    <tr>\n",
       "      <th>2</th>\n",
       "      <td>U Launcher Lite – FREE Live Cool Themes, Hide ...</td>\n",
       "      <td>ART_AND_DESIGN</td>\n",
       "      <td>4.7</td>\n",
       "      <td>87510</td>\n",
       "      <td>8700.000000</td>\n",
       "      <td>5,000,000+</td>\n",
       "      <td>Free</td>\n",
       "      <td>0</td>\n",
       "      <td>Everyone</td>\n",
       "      <td>Art &amp; Design</td>\n",
       "      <td>August 1, 2018</td>\n",
       "      <td>1.2.4</td>\n",
       "      <td>4.0.3 and up</td>\n",
       "    </tr>\n",
       "    <tr>\n",
       "      <th>3</th>\n",
       "      <td>Sketch - Draw &amp; Paint</td>\n",
       "      <td>ART_AND_DESIGN</td>\n",
       "      <td>4.5</td>\n",
       "      <td>215644</td>\n",
       "      <td>25000.000000</td>\n",
       "      <td>50,000,000+</td>\n",
       "      <td>Free</td>\n",
       "      <td>0</td>\n",
       "      <td>Teen</td>\n",
       "      <td>Art &amp; Design</td>\n",
       "      <td>June 8, 2018</td>\n",
       "      <td>Varies with device</td>\n",
       "      <td>4.2 and up</td>\n",
       "    </tr>\n",
       "    <tr>\n",
       "      <th>4</th>\n",
       "      <td>Pixel Draw - Number Art Coloring Book</td>\n",
       "      <td>ART_AND_DESIGN</td>\n",
       "      <td>4.3</td>\n",
       "      <td>967</td>\n",
       "      <td>2800.000000</td>\n",
       "      <td>100,000+</td>\n",
       "      <td>Free</td>\n",
       "      <td>0</td>\n",
       "      <td>Everyone</td>\n",
       "      <td>Art &amp; Design;Creativity</td>\n",
       "      <td>June 20, 2018</td>\n",
       "      <td>1.1</td>\n",
       "      <td>4.4 and up</td>\n",
       "    </tr>\n",
       "    <tr>\n",
       "      <th>...</th>\n",
       "      <td>...</td>\n",
       "      <td>...</td>\n",
       "      <td>...</td>\n",
       "      <td>...</td>\n",
       "      <td>...</td>\n",
       "      <td>...</td>\n",
       "      <td>...</td>\n",
       "      <td>...</td>\n",
       "      <td>...</td>\n",
       "      <td>...</td>\n",
       "      <td>...</td>\n",
       "      <td>...</td>\n",
       "      <td>...</td>\n",
       "    </tr>\n",
       "    <tr>\n",
       "      <th>10834</th>\n",
       "      <td>FR Calculator</td>\n",
       "      <td>FAMILY</td>\n",
       "      <td>4.0</td>\n",
       "      <td>7</td>\n",
       "      <td>2600.000000</td>\n",
       "      <td>500+</td>\n",
       "      <td>Free</td>\n",
       "      <td>0</td>\n",
       "      <td>Everyone</td>\n",
       "      <td>Education</td>\n",
       "      <td>June 18, 2017</td>\n",
       "      <td>1.0.0</td>\n",
       "      <td>4.1 and up</td>\n",
       "    </tr>\n",
       "    <tr>\n",
       "      <th>10836</th>\n",
       "      <td>Sya9a Maroc - FR</td>\n",
       "      <td>FAMILY</td>\n",
       "      <td>4.5</td>\n",
       "      <td>38</td>\n",
       "      <td>53000.000000</td>\n",
       "      <td>5,000+</td>\n",
       "      <td>Free</td>\n",
       "      <td>0</td>\n",
       "      <td>Everyone</td>\n",
       "      <td>Education</td>\n",
       "      <td>July 25, 2017</td>\n",
       "      <td>1.48</td>\n",
       "      <td>4.1 and up</td>\n",
       "    </tr>\n",
       "    <tr>\n",
       "      <th>10837</th>\n",
       "      <td>Fr. Mike Schmitz Audio Teachings</td>\n",
       "      <td>FAMILY</td>\n",
       "      <td>5.0</td>\n",
       "      <td>4</td>\n",
       "      <td>3600.000000</td>\n",
       "      <td>100+</td>\n",
       "      <td>Free</td>\n",
       "      <td>0</td>\n",
       "      <td>Everyone</td>\n",
       "      <td>Education</td>\n",
       "      <td>July 6, 2018</td>\n",
       "      <td>1.0</td>\n",
       "      <td>4.1 and up</td>\n",
       "    </tr>\n",
       "    <tr>\n",
       "      <th>10839</th>\n",
       "      <td>The SCP Foundation DB fr nn5n</td>\n",
       "      <td>BOOKS_AND_REFERENCE</td>\n",
       "      <td>4.5</td>\n",
       "      <td>114</td>\n",
       "      <td>21516.529524</td>\n",
       "      <td>1,000+</td>\n",
       "      <td>Free</td>\n",
       "      <td>0</td>\n",
       "      <td>Mature 17+</td>\n",
       "      <td>Books &amp; Reference</td>\n",
       "      <td>January 19, 2015</td>\n",
       "      <td>Varies with device</td>\n",
       "      <td>Varies with device</td>\n",
       "    </tr>\n",
       "    <tr>\n",
       "      <th>10840</th>\n",
       "      <td>iHoroscope - 2018 Daily Horoscope &amp; Astrology</td>\n",
       "      <td>LIFESTYLE</td>\n",
       "      <td>4.5</td>\n",
       "      <td>398307</td>\n",
       "      <td>19000.000000</td>\n",
       "      <td>10,000,000+</td>\n",
       "      <td>Free</td>\n",
       "      <td>0</td>\n",
       "      <td>Everyone</td>\n",
       "      <td>Lifestyle</td>\n",
       "      <td>July 25, 2018</td>\n",
       "      <td>Varies with device</td>\n",
       "      <td>Varies with device</td>\n",
       "    </tr>\n",
       "  </tbody>\n",
       "</table>\n",
       "<p>9366 rows × 13 columns</p>\n",
       "</div>"
      ],
      "text/plain": [
       "                                                     App             Category  \\\n",
       "0         Photo Editor & Candy Camera & Grid & ScrapBook       ART_AND_DESIGN   \n",
       "1                                    Coloring book moana       ART_AND_DESIGN   \n",
       "2      U Launcher Lite – FREE Live Cool Themes, Hide ...       ART_AND_DESIGN   \n",
       "3                                  Sketch - Draw & Paint       ART_AND_DESIGN   \n",
       "4                  Pixel Draw - Number Art Coloring Book       ART_AND_DESIGN   \n",
       "...                                                  ...                  ...   \n",
       "10834                                      FR Calculator               FAMILY   \n",
       "10836                                   Sya9a Maroc - FR               FAMILY   \n",
       "10837                   Fr. Mike Schmitz Audio Teachings               FAMILY   \n",
       "10839                      The SCP Foundation DB fr nn5n  BOOKS_AND_REFERENCE   \n",
       "10840      iHoroscope - 2018 Daily Horoscope & Astrology            LIFESTYLE   \n",
       "\n",
       "       Rating Reviews          Size     Installs  Type Price Content Rating  \\\n",
       "0         4.1     159  19000.000000      10,000+  Free     0       Everyone   \n",
       "1         3.9     967  14000.000000     500,000+  Free     0       Everyone   \n",
       "2         4.7   87510   8700.000000   5,000,000+  Free     0       Everyone   \n",
       "3         4.5  215644  25000.000000  50,000,000+  Free     0           Teen   \n",
       "4         4.3     967   2800.000000     100,000+  Free     0       Everyone   \n",
       "...       ...     ...           ...          ...   ...   ...            ...   \n",
       "10834     4.0       7   2600.000000         500+  Free     0       Everyone   \n",
       "10836     4.5      38  53000.000000       5,000+  Free     0       Everyone   \n",
       "10837     5.0       4   3600.000000         100+  Free     0       Everyone   \n",
       "10839     4.5     114  21516.529524       1,000+  Free     0     Mature 17+   \n",
       "10840     4.5  398307  19000.000000  10,000,000+  Free     0       Everyone   \n",
       "\n",
       "                          Genres      Last Updated         Current Ver  \\\n",
       "0                   Art & Design   January 7, 2018               1.0.0   \n",
       "1      Art & Design;Pretend Play  January 15, 2018               2.0.0   \n",
       "2                   Art & Design    August 1, 2018               1.2.4   \n",
       "3                   Art & Design      June 8, 2018  Varies with device   \n",
       "4        Art & Design;Creativity     June 20, 2018                 1.1   \n",
       "...                          ...               ...                 ...   \n",
       "10834                  Education     June 18, 2017               1.0.0   \n",
       "10836                  Education     July 25, 2017                1.48   \n",
       "10837                  Education      July 6, 2018                 1.0   \n",
       "10839          Books & Reference  January 19, 2015  Varies with device   \n",
       "10840                  Lifestyle     July 25, 2018  Varies with device   \n",
       "\n",
       "              Android Ver  \n",
       "0            4.0.3 and up  \n",
       "1            4.0.3 and up  \n",
       "2            4.0.3 and up  \n",
       "3              4.2 and up  \n",
       "4              4.4 and up  \n",
       "...                   ...  \n",
       "10834          4.1 and up  \n",
       "10836          4.1 and up  \n",
       "10837          4.1 and up  \n",
       "10839  Varies with device  \n",
       "10840  Varies with device  \n",
       "\n",
       "[9366 rows x 13 columns]"
      ]
     },
     "execution_count": 13,
     "metadata": {},
     "output_type": "execute_result"
    }
   ],
   "source": [
    "data2_new = data2.fillna(statistics.mode(Android_list))\n",
    "data2_new"
   ]
  },
  {
   "cell_type": "code",
   "execution_count": 14,
   "id": "ea85b0f4",
   "metadata": {},
   "outputs": [
    {
     "name": "stdout",
     "output_type": "stream",
     "text": [
      "                         App         Category  Rating Reviews     Size  \\\n",
      "4453  [substratum] Vacuum: P  PERSONALIZATION     4.4     230  11000.0   \n",
      "\n",
      "     Installs  Type  Price Content Rating           Genres   Last Updated  \\\n",
      "4453   1,000+  Paid  $1.49       Everyone  Personalization  July 20, 2018   \n",
      "\n",
      "     Current Ver Android Ver  \n",
      "4453         4.4  4.1 and up  \n",
      "                       App         Category  Rating Reviews    Size Installs  \\\n",
      "4490  Pi Dark [substratum]  PERSONALIZATION     4.5     189  2100.0  10,000+   \n",
      "\n",
      "      Type Price Content Rating           Genres    Last Updated Current Ver  \\\n",
      "4490  Free     0       Everyone  Personalization  March 27, 2018         1.1   \n",
      "\n",
      "     Android Ver  \n",
      "4490  4.1 and up  \n"
     ]
    }
   ],
   "source": [
    "print(data2_new.loc[[4453]])\n",
    "print(data2_new.loc[[4490]])"
   ]
  },
  {
   "cell_type": "markdown",
   "id": "14721692",
   "metadata": {},
   "source": [
    "Now Android Ver is 4.1 and up for category 'Personalization'"
   ]
  },
  {
   "cell_type": "markdown",
   "id": "fd900a9a",
   "metadata": {},
   "source": [
    "#### c. Current ver - replace with most common value"
   ]
  },
  {
   "cell_type": "code",
   "execution_count": 15,
   "id": "726c8e66",
   "metadata": {},
   "outputs": [
    {
     "name": "stdout",
     "output_type": "stream",
     "text": [
      "Missing Values: 0\n"
     ]
    }
   ],
   "source": [
    "print(f\"Missing Values: {data2_new['Current Ver'].isnull().sum()}\") #Rechecking"
   ]
  },
  {
   "cell_type": "markdown",
   "id": "4b0538e1",
   "metadata": {},
   "source": [
    "No missing Value is Observed"
   ]
  },
  {
   "cell_type": "markdown",
   "id": "298d6434",
   "metadata": {},
   "source": [
    "### 2. Data Clean up - correcting the data types"
   ]
  },
  {
   "cell_type": "markdown",
   "id": "f6123979",
   "metadata": {},
   "source": [
    "#### a. Which all vairables need to be brought to numeric type?"
   ]
  },
  {
   "cell_type": "code",
   "execution_count": 16,
   "id": "f5080cd7",
   "metadata": {},
   "outputs": [
    {
     "name": "stdout",
     "output_type": "stream",
     "text": [
      "<class 'pandas.core.frame.DataFrame'>\n",
      "Int64Index: 9366 entries, 0 to 10840\n",
      "Data columns (total 13 columns):\n",
      " #   Column          Non-Null Count  Dtype  \n",
      "---  ------          --------------  -----  \n",
      " 0   App             9366 non-null   object \n",
      " 1   Category        9366 non-null   object \n",
      " 2   Rating          9366 non-null   float64\n",
      " 3   Reviews         9366 non-null   object \n",
      " 4   Size            9366 non-null   float64\n",
      " 5   Installs        9366 non-null   object \n",
      " 6   Type            9366 non-null   object \n",
      " 7   Price           9366 non-null   object \n",
      " 8   Content Rating  9366 non-null   object \n",
      " 9   Genres          9366 non-null   object \n",
      " 10  Last Updated    9366 non-null   object \n",
      " 11  Current Ver     9366 non-null   object \n",
      " 12  Android Ver     9366 non-null   object \n",
      "dtypes: float64(2), object(11)\n",
      "memory usage: 1.3+ MB\n"
     ]
    }
   ],
   "source": [
    "data2_new.info()"
   ]
  },
  {
   "cell_type": "markdown",
   "id": "60e7019d",
   "metadata": {},
   "source": [
    "Reviews, size, last updated end to be brought to numeric type "
   ]
  },
  {
   "cell_type": "code",
   "execution_count": 17,
   "id": "93216d36",
   "metadata": {},
   "outputs": [],
   "source": [
    "data2_new['Reviews'] = data2_new['Reviews'].astype(int)\n",
    "data2_new['Size'] = data2_new['Size'].astype(int)\n",
    "data2_new['Last Updated'] = data2_new['Last Updated'].astype('datetime64[ns]')"
   ]
  },
  {
   "cell_type": "code",
   "execution_count": 18,
   "id": "15b80531",
   "metadata": {},
   "outputs": [
    {
     "name": "stdout",
     "output_type": "stream",
     "text": [
      "<class 'pandas.core.frame.DataFrame'>\n",
      "Int64Index: 9366 entries, 0 to 10840\n",
      "Data columns (total 13 columns):\n",
      " #   Column          Non-Null Count  Dtype         \n",
      "---  ------          --------------  -----         \n",
      " 0   App             9366 non-null   object        \n",
      " 1   Category        9366 non-null   object        \n",
      " 2   Rating          9366 non-null   float64       \n",
      " 3   Reviews         9366 non-null   int32         \n",
      " 4   Size            9366 non-null   int32         \n",
      " 5   Installs        9366 non-null   object        \n",
      " 6   Type            9366 non-null   object        \n",
      " 7   Price           9366 non-null   object        \n",
      " 8   Content Rating  9366 non-null   object        \n",
      " 9   Genres          9366 non-null   object        \n",
      " 10  Last Updated    9366 non-null   datetime64[ns]\n",
      " 11  Current Ver     9366 non-null   object        \n",
      " 12  Android Ver     9366 non-null   object        \n",
      "dtypes: datetime64[ns](1), float64(1), int32(2), object(9)\n",
      "memory usage: 1.2+ MB\n"
     ]
    }
   ],
   "source": [
    "data2_new.info()"
   ]
  },
  {
   "cell_type": "markdown",
   "id": "e6b8d0ba",
   "metadata": {},
   "source": [
    "#### b. Pricevariable - remove $ sign and convert to float "
   ]
  },
  {
   "cell_type": "code",
   "execution_count": 19,
   "id": "0a36b54d",
   "metadata": {},
   "outputs": [],
   "source": [
    "data2_new['Price'] = data2_new['Price'].str.replace(\"$\",'')"
   ]
  },
  {
   "cell_type": "code",
   "execution_count": 20,
   "id": "ea38a4da",
   "metadata": {},
   "outputs": [
    {
     "data": {
      "text/html": [
       "<div>\n",
       "<style scoped>\n",
       "    .dataframe tbody tr th:only-of-type {\n",
       "        vertical-align: middle;\n",
       "    }\n",
       "\n",
       "    .dataframe tbody tr th {\n",
       "        vertical-align: top;\n",
       "    }\n",
       "\n",
       "    .dataframe thead th {\n",
       "        text-align: right;\n",
       "    }\n",
       "</style>\n",
       "<table border=\"1\" class=\"dataframe\">\n",
       "  <thead>\n",
       "    <tr style=\"text-align: right;\">\n",
       "      <th></th>\n",
       "      <th>App</th>\n",
       "      <th>Category</th>\n",
       "      <th>Rating</th>\n",
       "      <th>Reviews</th>\n",
       "      <th>Size</th>\n",
       "      <th>Installs</th>\n",
       "      <th>Type</th>\n",
       "      <th>Price</th>\n",
       "      <th>Content Rating</th>\n",
       "      <th>Genres</th>\n",
       "      <th>Last Updated</th>\n",
       "      <th>Current Ver</th>\n",
       "      <th>Android Ver</th>\n",
       "    </tr>\n",
       "  </thead>\n",
       "  <tbody>\n",
       "    <tr>\n",
       "      <th>0</th>\n",
       "      <td>Photo Editor &amp; Candy Camera &amp; Grid &amp; ScrapBook</td>\n",
       "      <td>ART_AND_DESIGN</td>\n",
       "      <td>4.1</td>\n",
       "      <td>159</td>\n",
       "      <td>19000</td>\n",
       "      <td>10,000+</td>\n",
       "      <td>Free</td>\n",
       "      <td>0</td>\n",
       "      <td>Everyone</td>\n",
       "      <td>Art &amp; Design</td>\n",
       "      <td>2018-01-07</td>\n",
       "      <td>1.0.0</td>\n",
       "      <td>4.0.3 and up</td>\n",
       "    </tr>\n",
       "    <tr>\n",
       "      <th>1</th>\n",
       "      <td>Coloring book moana</td>\n",
       "      <td>ART_AND_DESIGN</td>\n",
       "      <td>3.9</td>\n",
       "      <td>967</td>\n",
       "      <td>14000</td>\n",
       "      <td>500,000+</td>\n",
       "      <td>Free</td>\n",
       "      <td>0</td>\n",
       "      <td>Everyone</td>\n",
       "      <td>Art &amp; Design;Pretend Play</td>\n",
       "      <td>2018-01-15</td>\n",
       "      <td>2.0.0</td>\n",
       "      <td>4.0.3 and up</td>\n",
       "    </tr>\n",
       "    <tr>\n",
       "      <th>2</th>\n",
       "      <td>U Launcher Lite – FREE Live Cool Themes, Hide ...</td>\n",
       "      <td>ART_AND_DESIGN</td>\n",
       "      <td>4.7</td>\n",
       "      <td>87510</td>\n",
       "      <td>8700</td>\n",
       "      <td>5,000,000+</td>\n",
       "      <td>Free</td>\n",
       "      <td>0</td>\n",
       "      <td>Everyone</td>\n",
       "      <td>Art &amp; Design</td>\n",
       "      <td>2018-08-01</td>\n",
       "      <td>1.2.4</td>\n",
       "      <td>4.0.3 and up</td>\n",
       "    </tr>\n",
       "    <tr>\n",
       "      <th>3</th>\n",
       "      <td>Sketch - Draw &amp; Paint</td>\n",
       "      <td>ART_AND_DESIGN</td>\n",
       "      <td>4.5</td>\n",
       "      <td>215644</td>\n",
       "      <td>25000</td>\n",
       "      <td>50,000,000+</td>\n",
       "      <td>Free</td>\n",
       "      <td>0</td>\n",
       "      <td>Teen</td>\n",
       "      <td>Art &amp; Design</td>\n",
       "      <td>2018-06-08</td>\n",
       "      <td>Varies with device</td>\n",
       "      <td>4.2 and up</td>\n",
       "    </tr>\n",
       "    <tr>\n",
       "      <th>4</th>\n",
       "      <td>Pixel Draw - Number Art Coloring Book</td>\n",
       "      <td>ART_AND_DESIGN</td>\n",
       "      <td>4.3</td>\n",
       "      <td>967</td>\n",
       "      <td>2800</td>\n",
       "      <td>100,000+</td>\n",
       "      <td>Free</td>\n",
       "      <td>0</td>\n",
       "      <td>Everyone</td>\n",
       "      <td>Art &amp; Design;Creativity</td>\n",
       "      <td>2018-06-20</td>\n",
       "      <td>1.1</td>\n",
       "      <td>4.4 and up</td>\n",
       "    </tr>\n",
       "  </tbody>\n",
       "</table>\n",
       "</div>"
      ],
      "text/plain": [
       "                                                 App        Category  Rating  \\\n",
       "0     Photo Editor & Candy Camera & Grid & ScrapBook  ART_AND_DESIGN     4.1   \n",
       "1                                Coloring book moana  ART_AND_DESIGN     3.9   \n",
       "2  U Launcher Lite – FREE Live Cool Themes, Hide ...  ART_AND_DESIGN     4.7   \n",
       "3                              Sketch - Draw & Paint  ART_AND_DESIGN     4.5   \n",
       "4              Pixel Draw - Number Art Coloring Book  ART_AND_DESIGN     4.3   \n",
       "\n",
       "   Reviews   Size     Installs  Type Price Content Rating  \\\n",
       "0      159  19000      10,000+  Free     0       Everyone   \n",
       "1      967  14000     500,000+  Free     0       Everyone   \n",
       "2    87510   8700   5,000,000+  Free     0       Everyone   \n",
       "3   215644  25000  50,000,000+  Free     0           Teen   \n",
       "4      967   2800     100,000+  Free     0       Everyone   \n",
       "\n",
       "                      Genres Last Updated         Current Ver   Android Ver  \n",
       "0               Art & Design   2018-01-07               1.0.0  4.0.3 and up  \n",
       "1  Art & Design;Pretend Play   2018-01-15               2.0.0  4.0.3 and up  \n",
       "2               Art & Design   2018-08-01               1.2.4  4.0.3 and up  \n",
       "3               Art & Design   2018-06-08  Varies with device    4.2 and up  \n",
       "4    Art & Design;Creativity   2018-06-20                 1.1    4.4 and up  "
      ]
     },
     "execution_count": 20,
     "metadata": {},
     "output_type": "execute_result"
    }
   ],
   "source": [
    "data2_new.head()"
   ]
  },
  {
   "cell_type": "code",
   "execution_count": 21,
   "id": "a21ad732",
   "metadata": {},
   "outputs": [],
   "source": [
    "data2_new['Price'] = data2_new['Price'].astype(float)"
   ]
  },
  {
   "cell_type": "code",
   "execution_count": 22,
   "id": "fcd3051c",
   "metadata": {},
   "outputs": [
    {
     "name": "stdout",
     "output_type": "stream",
     "text": [
      "<class 'pandas.core.frame.DataFrame'>\n",
      "Int64Index: 9366 entries, 0 to 10840\n",
      "Data columns (total 13 columns):\n",
      " #   Column          Non-Null Count  Dtype         \n",
      "---  ------          --------------  -----         \n",
      " 0   App             9366 non-null   object        \n",
      " 1   Category        9366 non-null   object        \n",
      " 2   Rating          9366 non-null   float64       \n",
      " 3   Reviews         9366 non-null   int32         \n",
      " 4   Size            9366 non-null   int32         \n",
      " 5   Installs        9366 non-null   object        \n",
      " 6   Type            9366 non-null   object        \n",
      " 7   Price           9366 non-null   float64       \n",
      " 8   Content Rating  9366 non-null   object        \n",
      " 9   Genres          9366 non-null   object        \n",
      " 10  Last Updated    9366 non-null   datetime64[ns]\n",
      " 11  Current Ver     9366 non-null   object        \n",
      " 12  Android Ver     9366 non-null   object        \n",
      "dtypes: datetime64[ns](1), float64(2), int32(2), object(8)\n",
      "memory usage: 1.2+ MB\n"
     ]
    }
   ],
   "source": [
    "data2_new.info()"
   ]
  },
  {
   "cell_type": "markdown",
   "id": "8a3e852f",
   "metadata": {},
   "source": [
    "Here we converted various column attributes in as following data type:"
   ]
  },
  {
   "cell_type": "markdown",
   "id": "29ebec94",
   "metadata": {},
   "source": [
    "column_2 Rating 9366 non-null float64\n",
    "column_3 Reviews 9366 non-null int32\n",
    "column_4 size 9366 non-null int32\n",
    "column_7 Price 9366 non-null float64\n",
    "column_10 Last Updated 9366 non-null datetime64[ns]"
   ]
  },
  {
   "cell_type": "markdown",
   "id": "1fb8a5ed",
   "metadata": {},
   "source": [
    "#### c. Installs - remove,'' and '+' sign, convert to integer"
   ]
  },
  {
   "cell_type": "code",
   "execution_count": 24,
   "id": "1c928d77",
   "metadata": {},
   "outputs": [],
   "source": [
    "data2_new['Installs'] = data2_new['Installs'].str.replace('+','').str.replace(',','')"
   ]
  },
  {
   "cell_type": "code",
   "execution_count": 25,
   "id": "fd6fbc3a",
   "metadata": {},
   "outputs": [],
   "source": [
    "data2_new['Installs'] = data2_new['Installs'].astype(int)"
   ]
  },
  {
   "cell_type": "code",
   "execution_count": 31,
   "id": "b372f344",
   "metadata": {},
   "outputs": [
    {
     "data": {
      "text/html": [
       "<div>\n",
       "<style scoped>\n",
       "    .dataframe tbody tr th:only-of-type {\n",
       "        vertical-align: middle;\n",
       "    }\n",
       "\n",
       "    .dataframe tbody tr th {\n",
       "        vertical-align: top;\n",
       "    }\n",
       "\n",
       "    .dataframe thead th {\n",
       "        text-align: right;\n",
       "    }\n",
       "</style>\n",
       "<table border=\"1\" class=\"dataframe\">\n",
       "  <thead>\n",
       "    <tr style=\"text-align: right;\">\n",
       "      <th></th>\n",
       "      <th>App</th>\n",
       "      <th>Category</th>\n",
       "      <th>Rating</th>\n",
       "      <th>Reviews</th>\n",
       "      <th>Size</th>\n",
       "      <th>Installs</th>\n",
       "      <th>Type</th>\n",
       "      <th>Price</th>\n",
       "      <th>Content Rating</th>\n",
       "      <th>Genres</th>\n",
       "      <th>Last Updated</th>\n",
       "      <th>Current Ver</th>\n",
       "      <th>Android Ver</th>\n",
       "    </tr>\n",
       "  </thead>\n",
       "  <tbody>\n",
       "    <tr>\n",
       "      <th>0</th>\n",
       "      <td>Photo Editor &amp; Candy Camera &amp; Grid &amp; ScrapBook</td>\n",
       "      <td>ART_AND_DESIGN</td>\n",
       "      <td>4.1</td>\n",
       "      <td>159</td>\n",
       "      <td>19000</td>\n",
       "      <td>10000</td>\n",
       "      <td>Free</td>\n",
       "      <td>0.0</td>\n",
       "      <td>Everyone</td>\n",
       "      <td>Art &amp; Design</td>\n",
       "      <td>2018-01-07</td>\n",
       "      <td>1.0.0</td>\n",
       "      <td>4.0.3 and up</td>\n",
       "    </tr>\n",
       "    <tr>\n",
       "      <th>1</th>\n",
       "      <td>Coloring book moana</td>\n",
       "      <td>ART_AND_DESIGN</td>\n",
       "      <td>3.9</td>\n",
       "      <td>967</td>\n",
       "      <td>14000</td>\n",
       "      <td>500000</td>\n",
       "      <td>Free</td>\n",
       "      <td>0.0</td>\n",
       "      <td>Everyone</td>\n",
       "      <td>Art &amp; Design;Pretend Play</td>\n",
       "      <td>2018-01-15</td>\n",
       "      <td>2.0.0</td>\n",
       "      <td>4.0.3 and up</td>\n",
       "    </tr>\n",
       "  </tbody>\n",
       "</table>\n",
       "</div>"
      ],
      "text/plain": [
       "                                              App        Category  Rating  \\\n",
       "0  Photo Editor & Candy Camera & Grid & ScrapBook  ART_AND_DESIGN     4.1   \n",
       "1                             Coloring book moana  ART_AND_DESIGN     3.9   \n",
       "\n",
       "   Reviews   Size  Installs  Type  Price Content Rating  \\\n",
       "0      159  19000     10000  Free    0.0       Everyone   \n",
       "1      967  14000    500000  Free    0.0       Everyone   \n",
       "\n",
       "                      Genres Last Updated Current Ver   Android Ver  \n",
       "0               Art & Design   2018-01-07       1.0.0  4.0.3 and up  \n",
       "1  Art & Design;Pretend Play   2018-01-15       2.0.0  4.0.3 and up  "
      ]
     },
     "execution_count": 31,
     "metadata": {},
     "output_type": "execute_result"
    }
   ],
   "source": [
    "data2_new.head(2)"
   ]
  },
  {
   "cell_type": "code",
   "execution_count": 32,
   "id": "a09d5772",
   "metadata": {},
   "outputs": [
    {
     "name": "stdout",
     "output_type": "stream",
     "text": [
      "<class 'pandas.core.frame.DataFrame'>\n",
      "Int64Index: 9366 entries, 0 to 10840\n",
      "Data columns (total 13 columns):\n",
      " #   Column          Non-Null Count  Dtype         \n",
      "---  ------          --------------  -----         \n",
      " 0   App             9366 non-null   object        \n",
      " 1   Category        9366 non-null   object        \n",
      " 2   Rating          9366 non-null   float64       \n",
      " 3   Reviews         9366 non-null   int32         \n",
      " 4   Size            9366 non-null   int32         \n",
      " 5   Installs        9366 non-null   int32         \n",
      " 6   Type            9366 non-null   object        \n",
      " 7   Price           9366 non-null   float64       \n",
      " 8   Content Rating  9366 non-null   object        \n",
      " 9   Genres          9366 non-null   object        \n",
      " 10  Last Updated    9366 non-null   datetime64[ns]\n",
      " 11  Current Ver     9366 non-null   object        \n",
      " 12  Android Ver     9366 non-null   object        \n",
      "dtypes: datetime64[ns](1), float64(2), int32(3), object(7)\n",
      "memory usage: 1.1+ MB\n"
     ]
    }
   ],
   "source": [
    "data2_new.info()"
   ]
  },
  {
   "cell_type": "markdown",
   "id": "57215d71",
   "metadata": {},
   "source": [
    "Successfully removed '+' and ',' sign from column Installs and changed datatype to int as per requirement"
   ]
  },
  {
   "cell_type": "markdown",
   "id": "110028a2",
   "metadata": {},
   "source": [
    "## 3. Sanity checks - check for the following and handle accordingly"
   ]
  },
  {
   "cell_type": "markdown",
   "id": "d9602f8b",
   "metadata": {},
   "source": [
    "#### a. Avg. reating should be betwween 1 and 5, as only these values are allowed on the play store."
   ]
  },
  {
   "cell_type": "code",
   "execution_count": 36,
   "id": "d2175f31",
   "metadata": {},
   "outputs": [
    {
     "data": {
      "text/plain": [
       "array([4.1, 3.9, 4.7, 4.5, 4.3, 4.4, 3.8, 4.2, 4.6, 3.2, 4. , 4.8, 4.9,\n",
       "       3.6, 3.7, 3.3, 3.4, 3.5, 3.1, 5. , 2.6, 3. , 1.9, 2.5, 2.8, 2.7,\n",
       "       1. , 2.9, 2.3, 2.2, 1.7, 2. , 1.8, 2.4, 1.6, 2.1, 1.4, 1.5, 1.2])"
      ]
     },
     "execution_count": 36,
     "metadata": {},
     "output_type": "execute_result"
    }
   ],
   "source": [
    "pd.unique(data2_new[['Rating']].values.ravel()) #Ravel() --> return 1D array with all the input - array elements"
   ]
  },
  {
   "cell_type": "markdown",
   "id": "dc8293f6",
   "metadata": {},
   "source": [
    "Her, Yes all avg. rating values is in between 1 and 5 "
   ]
  },
  {
   "cell_type": "markdown",
   "id": "2368742c",
   "metadata": {},
   "source": [
    "#### i. Are there any such record? Drop if so"
   ]
  },
  {
   "cell_type": "markdown",
   "id": "3289ad98",
   "metadata": {},
   "source": [
    "No such record has been observed."
   ]
  },
  {
   "cell_type": "markdown",
   "id": "cc7c936a",
   "metadata": {},
   "source": [
    "#### b. Reviews should not be more than install as only those who installed can review the app."
   ]
  },
  {
   "cell_type": "code",
   "execution_count": 38,
   "id": "db35875e",
   "metadata": {},
   "outputs": [
    {
     "data": {
      "text/html": [
       "<div>\n",
       "<style scoped>\n",
       "    .dataframe tbody tr th:only-of-type {\n",
       "        vertical-align: middle;\n",
       "    }\n",
       "\n",
       "    .dataframe tbody tr th {\n",
       "        vertical-align: top;\n",
       "    }\n",
       "\n",
       "    .dataframe thead th {\n",
       "        text-align: right;\n",
       "    }\n",
       "</style>\n",
       "<table border=\"1\" class=\"dataframe\">\n",
       "  <thead>\n",
       "    <tr style=\"text-align: right;\">\n",
       "      <th></th>\n",
       "      <th>App</th>\n",
       "      <th>Category</th>\n",
       "      <th>Rating</th>\n",
       "      <th>Reviews</th>\n",
       "      <th>Size</th>\n",
       "      <th>Installs</th>\n",
       "      <th>Type</th>\n",
       "      <th>Price</th>\n",
       "      <th>Content Rating</th>\n",
       "      <th>Genres</th>\n",
       "      <th>Last Updated</th>\n",
       "      <th>Current Ver</th>\n",
       "      <th>Android Ver</th>\n",
       "    </tr>\n",
       "  </thead>\n",
       "  <tbody>\n",
       "    <tr>\n",
       "      <th>0</th>\n",
       "      <td>Photo Editor &amp; Candy Camera &amp; Grid &amp; ScrapBook</td>\n",
       "      <td>ART_AND_DESIGN</td>\n",
       "      <td>4.1</td>\n",
       "      <td>159</td>\n",
       "      <td>19000</td>\n",
       "      <td>10000</td>\n",
       "      <td>Free</td>\n",
       "      <td>0.0</td>\n",
       "      <td>Everyone</td>\n",
       "      <td>Art &amp; Design</td>\n",
       "      <td>2018-01-07</td>\n",
       "      <td>1.0.0</td>\n",
       "      <td>4.0.3 and up</td>\n",
       "    </tr>\n",
       "    <tr>\n",
       "      <th>1</th>\n",
       "      <td>Coloring book moana</td>\n",
       "      <td>ART_AND_DESIGN</td>\n",
       "      <td>3.9</td>\n",
       "      <td>967</td>\n",
       "      <td>14000</td>\n",
       "      <td>500000</td>\n",
       "      <td>Free</td>\n",
       "      <td>0.0</td>\n",
       "      <td>Everyone</td>\n",
       "      <td>Art &amp; Design;Pretend Play</td>\n",
       "      <td>2018-01-15</td>\n",
       "      <td>2.0.0</td>\n",
       "      <td>4.0.3 and up</td>\n",
       "    </tr>\n",
       "    <tr>\n",
       "      <th>2</th>\n",
       "      <td>U Launcher Lite – FREE Live Cool Themes, Hide ...</td>\n",
       "      <td>ART_AND_DESIGN</td>\n",
       "      <td>4.7</td>\n",
       "      <td>87510</td>\n",
       "      <td>8700</td>\n",
       "      <td>5000000</td>\n",
       "      <td>Free</td>\n",
       "      <td>0.0</td>\n",
       "      <td>Everyone</td>\n",
       "      <td>Art &amp; Design</td>\n",
       "      <td>2018-08-01</td>\n",
       "      <td>1.2.4</td>\n",
       "      <td>4.0.3 and up</td>\n",
       "    </tr>\n",
       "    <tr>\n",
       "      <th>3</th>\n",
       "      <td>Sketch - Draw &amp; Paint</td>\n",
       "      <td>ART_AND_DESIGN</td>\n",
       "      <td>4.5</td>\n",
       "      <td>215644</td>\n",
       "      <td>25000</td>\n",
       "      <td>50000000</td>\n",
       "      <td>Free</td>\n",
       "      <td>0.0</td>\n",
       "      <td>Teen</td>\n",
       "      <td>Art &amp; Design</td>\n",
       "      <td>2018-06-08</td>\n",
       "      <td>Varies with device</td>\n",
       "      <td>4.2 and up</td>\n",
       "    </tr>\n",
       "    <tr>\n",
       "      <th>4</th>\n",
       "      <td>Pixel Draw - Number Art Coloring Book</td>\n",
       "      <td>ART_AND_DESIGN</td>\n",
       "      <td>4.3</td>\n",
       "      <td>967</td>\n",
       "      <td>2800</td>\n",
       "      <td>100000</td>\n",
       "      <td>Free</td>\n",
       "      <td>0.0</td>\n",
       "      <td>Everyone</td>\n",
       "      <td>Art &amp; Design;Creativity</td>\n",
       "      <td>2018-06-20</td>\n",
       "      <td>1.1</td>\n",
       "      <td>4.4 and up</td>\n",
       "    </tr>\n",
       "  </tbody>\n",
       "</table>\n",
       "</div>"
      ],
      "text/plain": [
       "                                                 App        Category  Rating  \\\n",
       "0     Photo Editor & Candy Camera & Grid & ScrapBook  ART_AND_DESIGN     4.1   \n",
       "1                                Coloring book moana  ART_AND_DESIGN     3.9   \n",
       "2  U Launcher Lite – FREE Live Cool Themes, Hide ...  ART_AND_DESIGN     4.7   \n",
       "3                              Sketch - Draw & Paint  ART_AND_DESIGN     4.5   \n",
       "4              Pixel Draw - Number Art Coloring Book  ART_AND_DESIGN     4.3   \n",
       "\n",
       "   Reviews   Size  Installs  Type  Price Content Rating  \\\n",
       "0      159  19000     10000  Free    0.0       Everyone   \n",
       "1      967  14000    500000  Free    0.0       Everyone   \n",
       "2    87510   8700   5000000  Free    0.0       Everyone   \n",
       "3   215644  25000  50000000  Free    0.0           Teen   \n",
       "4      967   2800    100000  Free    0.0       Everyone   \n",
       "\n",
       "                      Genres Last Updated         Current Ver   Android Ver  \n",
       "0               Art & Design   2018-01-07               1.0.0  4.0.3 and up  \n",
       "1  Art & Design;Pretend Play   2018-01-15               2.0.0  4.0.3 and up  \n",
       "2               Art & Design   2018-08-01               1.2.4  4.0.3 and up  \n",
       "3               Art & Design   2018-06-08  Varies with device    4.2 and up  \n",
       "4    Art & Design;Creativity   2018-06-20                 1.1    4.4 and up  "
      ]
     },
     "execution_count": 38,
     "metadata": {},
     "output_type": "execute_result"
    }
   ],
   "source": [
    "df = pd.DataFrame()\n",
    "df = data2_new[data2_new.Reviews<= data2_new.Installs]\n",
    "df.head()"
   ]
  },
  {
   "cell_type": "code",
   "execution_count": 41,
   "id": "db038147",
   "metadata": {},
   "outputs": [
    {
     "data": {
      "text/plain": [
       "(9359, 13)"
      ]
     },
     "execution_count": 41,
     "metadata": {},
     "output_type": "execute_result"
    }
   ],
   "source": [
    "df.shape"
   ]
  },
  {
   "cell_type": "markdown",
   "id": "f89a207c",
   "metadata": {},
   "source": [
    "## 4. Identify and handle outliers "
   ]
  },
  {
   "cell_type": "markdown",
   "id": "20e65062",
   "metadata": {},
   "source": [
    "#### a. Price Column"
   ]
  },
  {
   "cell_type": "markdown",
   "id": "3bb158f9",
   "metadata": {},
   "source": [
    "#### i. Make suitable plot identify outliers in price"
   ]
  },
  {
   "cell_type": "code",
   "execution_count": 54,
   "id": "2b80b0e5",
   "metadata": {},
   "outputs": [
    {
     "data": {
      "image/png": "[encoded data removed]",
      "text/plain": [
       "<Figure size 720x576 with 1 Axes>"
      ]
     },
     "metadata": {},
     "output_type": "display_data"
    }
   ],
   "source": [
    "plt.subplots(figsize=(10,8))\n",
    "sns.boxplot(df.Price)\n",
    "\n",
    "plt.xlabel('Unit Price')\n",
    "plt.title('Unit Price')\n",
    "plt.grid(linestyle = '-')\n",
    "plt.show()"
   ]
  },
  {
   "cell_type": "markdown",
   "id": "5c92ebfd",
   "metadata": {},
   "source": [
    "As using above boxplot we can observe the outliers in price column."
   ]
  },
  {
   "cell_type": "markdown",
   "id": "01d2eaec",
   "metadata": {},
   "source": [
    "#### ii. Do you expect apps on the play store to cost $200 ?\n",
    "Check out these cases"
   ]
  },
  {
   "cell_type": "code",
   "execution_count": 61,
   "id": "67df3250",
   "metadata": {},
   "outputs": [
    {
     "data": {
      "text/plain": [
       "['App',\n",
       " 'Category',\n",
       " 'Rating',\n",
       " 'Reviews',\n",
       " 'Size',\n",
       " 'Installs',\n",
       " 'Type',\n",
       " 'Price',\n",
       " 'Content Rating',\n",
       " 'Genres',\n",
       " 'Last Updated',\n",
       " 'Current Ver',\n",
       " 'Android Ver']"
      ]
     },
     "execution_count": 61,
     "metadata": {},
     "output_type": "execute_result"
    }
   ],
   "source": [
    "result_df = data2_new[data2_new['Price'] == 200]\n",
    "list(result_df)"
   ]
  },
  {
   "cell_type": "markdown",
   "id": "5333259e",
   "metadata": {},
   "source": [
    "In original datafram there is a row off app $200 but it had rating column as blank so when priviously we drop data whose Rating values is null, this data frame gets removed. Hance in new data frame we got empty dataframe"
   ]
  },
  {
   "cell_type": "markdown",
   "id": "4e540052",
   "metadata": {},
   "source": [
    "#### iii. After dropping the useless recored, make the suitable plot again to identify outliers --> To fullfill above contain lets remove whose price values is 0 "
   ]
  },
  {
   "cell_type": "code",
   "execution_count": 62,
   "id": "03fb8cd1",
   "metadata": {},
   "outputs": [
    {
     "data": {
      "image/png": "[encoded data removed]",
      "text/plain": [
       "<Figure size 1440x576 with 1 Axes>"
      ]
     },
     "metadata": {},
     "output_type": "display_data"
    }
   ],
   "source": [
    "useful_df = df[df['Price'] != 0]\n",
    "plt.subplots(figsize=(20,8))\n",
    "sns.boxplot(useful_df.Price)\n",
    "\n",
    "plt.xlabel('Unit Price')\n",
    "plt.title('Unit Price')\n",
    "plt.grid()\n",
    "plt.show()"
   ]
  },
  {
   "cell_type": "code",
   "execution_count": 63,
   "id": "aad979dd",
   "metadata": {},
   "outputs": [
    {
     "data": {
      "text/html": [
       "<div>\n",
       "<style scoped>\n",
       "    .dataframe tbody tr th:only-of-type {\n",
       "        vertical-align: middle;\n",
       "    }\n",
       "\n",
       "    .dataframe tbody tr th {\n",
       "        vertical-align: top;\n",
       "    }\n",
       "\n",
       "    .dataframe thead th {\n",
       "        text-align: right;\n",
       "    }\n",
       "</style>\n",
       "<table border=\"1\" class=\"dataframe\">\n",
       "  <thead>\n",
       "    <tr style=\"text-align: right;\">\n",
       "      <th></th>\n",
       "      <th>App</th>\n",
       "      <th>Category</th>\n",
       "      <th>Rating</th>\n",
       "      <th>Reviews</th>\n",
       "      <th>Size</th>\n",
       "      <th>Installs</th>\n",
       "      <th>Type</th>\n",
       "      <th>Price</th>\n",
       "      <th>Content Rating</th>\n",
       "      <th>Genres</th>\n",
       "      <th>Last Updated</th>\n",
       "      <th>Current Ver</th>\n",
       "      <th>Android Ver</th>\n",
       "    </tr>\n",
       "  </thead>\n",
       "  <tbody>\n",
       "    <tr>\n",
       "      <th>0</th>\n",
       "      <td>Photo Editor &amp; Candy Camera &amp; Grid &amp; ScrapBook</td>\n",
       "      <td>ART_AND_DESIGN</td>\n",
       "      <td>4.1</td>\n",
       "      <td>159</td>\n",
       "      <td>19000</td>\n",
       "      <td>10000</td>\n",
       "      <td>Free</td>\n",
       "      <td>0.0</td>\n",
       "      <td>Everyone</td>\n",
       "      <td>Art &amp; Design</td>\n",
       "      <td>2018-01-07</td>\n",
       "      <td>1.0.0</td>\n",
       "      <td>4.0.3 and up</td>\n",
       "    </tr>\n",
       "    <tr>\n",
       "      <th>1</th>\n",
       "      <td>Coloring book moana</td>\n",
       "      <td>ART_AND_DESIGN</td>\n",
       "      <td>3.9</td>\n",
       "      <td>967</td>\n",
       "      <td>14000</td>\n",
       "      <td>500000</td>\n",
       "      <td>Free</td>\n",
       "      <td>0.0</td>\n",
       "      <td>Everyone</td>\n",
       "      <td>Art &amp; Design;Pretend Play</td>\n",
       "      <td>2018-01-15</td>\n",
       "      <td>2.0.0</td>\n",
       "      <td>4.0.3 and up</td>\n",
       "    </tr>\n",
       "    <tr>\n",
       "      <th>2</th>\n",
       "      <td>U Launcher Lite – FREE Live Cool Themes, Hide ...</td>\n",
       "      <td>ART_AND_DESIGN</td>\n",
       "      <td>4.7</td>\n",
       "      <td>87510</td>\n",
       "      <td>8700</td>\n",
       "      <td>5000000</td>\n",
       "      <td>Free</td>\n",
       "      <td>0.0</td>\n",
       "      <td>Everyone</td>\n",
       "      <td>Art &amp; Design</td>\n",
       "      <td>2018-08-01</td>\n",
       "      <td>1.2.4</td>\n",
       "      <td>4.0.3 and up</td>\n",
       "    </tr>\n",
       "    <tr>\n",
       "      <th>3</th>\n",
       "      <td>Sketch - Draw &amp; Paint</td>\n",
       "      <td>ART_AND_DESIGN</td>\n",
       "      <td>4.5</td>\n",
       "      <td>215644</td>\n",
       "      <td>25000</td>\n",
       "      <td>50000000</td>\n",
       "      <td>Free</td>\n",
       "      <td>0.0</td>\n",
       "      <td>Teen</td>\n",
       "      <td>Art &amp; Design</td>\n",
       "      <td>2018-06-08</td>\n",
       "      <td>Varies with device</td>\n",
       "      <td>4.2 and up</td>\n",
       "    </tr>\n",
       "    <tr>\n",
       "      <th>4</th>\n",
       "      <td>Pixel Draw - Number Art Coloring Book</td>\n",
       "      <td>ART_AND_DESIGN</td>\n",
       "      <td>4.3</td>\n",
       "      <td>967</td>\n",
       "      <td>2800</td>\n",
       "      <td>100000</td>\n",
       "      <td>Free</td>\n",
       "      <td>0.0</td>\n",
       "      <td>Everyone</td>\n",
       "      <td>Art &amp; Design;Creativity</td>\n",
       "      <td>2018-06-20</td>\n",
       "      <td>1.1</td>\n",
       "      <td>4.4 and up</td>\n",
       "    </tr>\n",
       "  </tbody>\n",
       "</table>\n",
       "</div>"
      ],
      "text/plain": [
       "                                                 App        Category  Rating  \\\n",
       "0     Photo Editor & Candy Camera & Grid & ScrapBook  ART_AND_DESIGN     4.1   \n",
       "1                                Coloring book moana  ART_AND_DESIGN     3.9   \n",
       "2  U Launcher Lite – FREE Live Cool Themes, Hide ...  ART_AND_DESIGN     4.7   \n",
       "3                              Sketch - Draw & Paint  ART_AND_DESIGN     4.5   \n",
       "4              Pixel Draw - Number Art Coloring Book  ART_AND_DESIGN     4.3   \n",
       "\n",
       "   Reviews   Size  Installs  Type  Price Content Rating  \\\n",
       "0      159  19000     10000  Free    0.0       Everyone   \n",
       "1      967  14000    500000  Free    0.0       Everyone   \n",
       "2    87510   8700   5000000  Free    0.0       Everyone   \n",
       "3   215644  25000  50000000  Free    0.0           Teen   \n",
       "4      967   2800    100000  Free    0.0       Everyone   \n",
       "\n",
       "                      Genres Last Updated         Current Ver   Android Ver  \n",
       "0               Art & Design   2018-01-07               1.0.0  4.0.3 and up  \n",
       "1  Art & Design;Pretend Play   2018-01-15               2.0.0  4.0.3 and up  \n",
       "2               Art & Design   2018-08-01               1.2.4  4.0.3 and up  \n",
       "3               Art & Design   2018-06-08  Varies with device    4.2 and up  \n",
       "4    Art & Design;Creativity   2018-06-20                 1.1    4.4 and up  "
      ]
     },
     "execution_count": 63,
     "metadata": {},
     "output_type": "execute_result"
    }
   ],
   "source": [
    "#### iv.Limit Data to record with price<$30\n",
    "limit_data=df[df['Price'] < 30]\n",
    "limit_data.head()"
   ]
  },
  {
   "cell_type": "code",
   "execution_count": 64,
   "id": "8b6a5f7e",
   "metadata": {},
   "outputs": [
    {
     "data": {
      "text/plain": [
       "(9338, 13)"
      ]
     },
     "execution_count": 64,
     "metadata": {},
     "output_type": "execute_result"
    }
   ],
   "source": [
    "limit_data.shape"
   ]
  },
  {
   "cell_type": "markdown",
   "id": "7ce440fa",
   "metadata": {},
   "source": [
    "#### b.Reviews column"
   ]
  },
  {
   "cell_type": "markdown",
   "id": "32a2a63a",
   "metadata": {},
   "source": [
    "#### i.Make Suitable plot"
   ]
  },
  {
   "cell_type": "code",
   "execution_count": 71,
   "id": "8506bc88",
   "metadata": {},
   "outputs": [
    {
     "data": {
      "image/png": "[encoded data removed]",
      "text/plain": [
       "<Figure size 1440x864 with 1 Axes>"
      ]
     },
     "metadata": {},
     "output_type": "display_data"
    },
    {
     "name": "stdout",
     "output_type": "stream",
     "text": [
      "Top 5 Reviewed Apps by Category Category\n",
      "GAME             1585419555\n",
      "COMMUNICATION     815461799\n",
      "SOCIAL            621241071\n",
      "FAMILY            410223081\n",
      "TOOLS             273184168\n",
      "Name: Reviews, dtype: int32\n"
     ]
    }
   ],
   "source": [
    "#group by needful columns\n",
    "total= df.groupby('Category')['Reviews'].sum().sort_values()\n",
    "plt.subplots(figsize=(20,12))\n",
    "total.plot(kind='barh',fontsize=14)\n",
    "plt.title(\"Bar Chart\")\n",
    "plt.show()\n",
    "print(\"Top 5 Reviewed Apps by Category\",total.sort_values(ascending=False).head())"
   ]
  },
  {
   "cell_type": "markdown",
   "id": "7692f544",
   "metadata": {},
   "source": [
    "#### ii. Limit data to app with < 1 Million reviews\n"
   ]
  },
  {
   "cell_type": "code",
   "execution_count": 73,
   "id": "951f1e3a",
   "metadata": {},
   "outputs": [
    {
     "data": {
      "text/html": [
       "<div>\n",
       "<style scoped>\n",
       "    .dataframe tbody tr th:only-of-type {\n",
       "        vertical-align: middle;\n",
       "    }\n",
       "\n",
       "    .dataframe tbody tr th {\n",
       "        vertical-align: top;\n",
       "    }\n",
       "\n",
       "    .dataframe thead th {\n",
       "        text-align: right;\n",
       "    }\n",
       "</style>\n",
       "<table border=\"1\" class=\"dataframe\">\n",
       "  <thead>\n",
       "    <tr style=\"text-align: right;\">\n",
       "      <th></th>\n",
       "      <th>App</th>\n",
       "      <th>Category</th>\n",
       "      <th>Rating</th>\n",
       "      <th>Reviews</th>\n",
       "      <th>Size</th>\n",
       "      <th>Installs</th>\n",
       "      <th>Type</th>\n",
       "      <th>Price</th>\n",
       "      <th>Content Rating</th>\n",
       "      <th>Genres</th>\n",
       "      <th>Last Updated</th>\n",
       "      <th>Current Ver</th>\n",
       "      <th>Android Ver</th>\n",
       "    </tr>\n",
       "  </thead>\n",
       "  <tbody>\n",
       "    <tr>\n",
       "      <th>0</th>\n",
       "      <td>Photo Editor &amp; Candy Camera &amp; Grid &amp; ScrapBook</td>\n",
       "      <td>ART_AND_DESIGN</td>\n",
       "      <td>4.1</td>\n",
       "      <td>159</td>\n",
       "      <td>19000</td>\n",
       "      <td>10000</td>\n",
       "      <td>Free</td>\n",
       "      <td>0.0</td>\n",
       "      <td>Everyone</td>\n",
       "      <td>Art &amp; Design</td>\n",
       "      <td>2018-01-07</td>\n",
       "      <td>1.0.0</td>\n",
       "      <td>4.0.3 and up</td>\n",
       "    </tr>\n",
       "    <tr>\n",
       "      <th>1</th>\n",
       "      <td>Coloring book moana</td>\n",
       "      <td>ART_AND_DESIGN</td>\n",
       "      <td>3.9</td>\n",
       "      <td>967</td>\n",
       "      <td>14000</td>\n",
       "      <td>500000</td>\n",
       "      <td>Free</td>\n",
       "      <td>0.0</td>\n",
       "      <td>Everyone</td>\n",
       "      <td>Art &amp; Design;Pretend Play</td>\n",
       "      <td>2018-01-15</td>\n",
       "      <td>2.0.0</td>\n",
       "      <td>4.0.3 and up</td>\n",
       "    </tr>\n",
       "  </tbody>\n",
       "</table>\n",
       "</div>"
      ],
      "text/plain": [
       "                                              App        Category  Rating  \\\n",
       "0  Photo Editor & Candy Camera & Grid & ScrapBook  ART_AND_DESIGN     4.1   \n",
       "1                             Coloring book moana  ART_AND_DESIGN     3.9   \n",
       "\n",
       "   Reviews   Size  Installs  Type  Price Content Rating  \\\n",
       "0      159  19000     10000  Free    0.0       Everyone   \n",
       "1      967  14000    500000  Free    0.0       Everyone   \n",
       "\n",
       "                      Genres Last Updated Current Ver   Android Ver  \n",
       "0               Art & Design   2018-01-07       1.0.0  4.0.3 and up  \n",
       "1  Art & Design;Pretend Play   2018-01-15       2.0.0  4.0.3 and up  "
      ]
     },
     "execution_count": 73,
     "metadata": {},
     "output_type": "execute_result"
    }
   ],
   "source": [
    "limit_data_by_review = df[df['Reviews'] < 1000000]\n",
    "limit_data_by_review.head(2)"
   ]
  },
  {
   "cell_type": "code",
   "execution_count": 74,
   "id": "4e97b3a2",
   "metadata": {},
   "outputs": [
    {
     "data": {
      "text/plain": [
       "(8655, 13)"
      ]
     },
     "execution_count": 74,
     "metadata": {},
     "output_type": "execute_result"
    }
   ],
   "source": [
    "limit_data_by_review.shape"
   ]
  },
  {
   "cell_type": "markdown",
   "id": "6fb52c25",
   "metadata": {},
   "source": [
    "8655 rows of limited data to app with Less than 1 million reviews"
   ]
  },
  {
   "cell_type": "markdown",
   "id": "6a417ee8",
   "metadata": {},
   "source": [
    "### c.Installs"
   ]
  },
  {
   "cell_type": "markdown",
   "id": "96d16927",
   "metadata": {},
   "source": [
    "#### i. What is the 95th percentile of the installs?"
   ]
  },
  {
   "cell_type": "code",
   "execution_count": 76,
   "id": "6fde5ac0",
   "metadata": {},
   "outputs": [
    {
     "data": {
      "text/plain": [
       "0       10000\n",
       "1      500000\n",
       "2     5000000\n",
       "3    50000000\n",
       "4      100000\n",
       "Name: Installs, dtype: int32"
      ]
     },
     "execution_count": 76,
     "metadata": {},
     "output_type": "execute_result"
    }
   ],
   "source": [
    "data2_new['Installs'].head()"
   ]
  },
  {
   "cell_type": "code",
   "execution_count": 77,
   "id": "3482632d",
   "metadata": {},
   "outputs": [
    {
     "data": {
      "text/plain": [
       "100000000.0"
      ]
     },
     "execution_count": 77,
     "metadata": {},
     "output_type": "execute_result"
    }
   ],
   "source": [
    "val = data2_new.Installs.quantile(0.95) #95th percentile\n",
    "val"
   ]
  },
  {
   "cell_type": "markdown",
   "id": "e040b900",
   "metadata": {},
   "source": [
    "95th Percentile of the installs is 100000000.0"
   ]
  },
  {
   "cell_type": "markdown",
   "id": "2dc83fcb",
   "metadata": {},
   "source": [
    "#### ii. Drop record having a values more than the 95th percentile"
   ]
  },
  {
   "cell_type": "code",
   "execution_count": 78,
   "id": "85ec3a09",
   "metadata": {},
   "outputs": [
    {
     "data": {
      "text/plain": [
       "Rating      False\n",
       "Reviews     False\n",
       "Size        False\n",
       "Installs    False\n",
       "Price       False\n",
       "Name: 0.5, dtype: bool"
      ]
     },
     "execution_count": 78,
     "metadata": {},
     "output_type": "execute_result"
    }
   ],
   "source": [
    "# Double checking \n",
    "x = data2_new.quantile()>val\n",
    "x"
   ]
  },
  {
   "cell_type": "markdown",
   "id": "1c5180d3",
   "metadata": {},
   "source": [
    "There is no values more than the 95th percentile."
   ]
  },
  {
   "cell_type": "markdown",
   "id": "3c490e5a",
   "metadata": {},
   "source": [
    "## Data analysis to answer buisiness questions"
   ]
  },
  {
   "cell_type": "markdown",
   "id": "c179edd1",
   "metadata": {},
   "source": [
    "#### 5. What is the distribution of rating like? (use Seaborn) More skewed towards higher/lower values ?"
   ]
  },
  {
   "cell_type": "code",
   "execution_count": 79,
   "id": "f1b6ef9c",
   "metadata": {},
   "outputs": [
    {
     "data": {
      "image/png": "[encoded data removed]",
      "text/plain": [
       "<Figure size 432x288 with 1 Axes>"
      ]
     },
     "metadata": {},
     "output_type": "display_data"
    }
   ],
   "source": [
    "sns.distplot(df['Rating'])\n",
    "plt.show()"
   ]
  },
  {
   "cell_type": "markdown",
   "id": "9f6b9763",
   "metadata": {},
   "source": [
    "#### a. How do you explain this?"
   ]
  },
  {
   "cell_type": "markdown",
   "id": "fa2b5483",
   "metadata": {},
   "source": [
    "A left skewed distribution is sometimes called a negatively skewd distribution be cause it's long tail is on the negative direction on number line. The mean is also on the left of the peak.\n",
    "Here you can see three measure position on the plot. so you will find that: \n",
    "mean less than the mode  \n",
    "median less than the mode\n",
    "mean less then median \n",
    "\n",
    "Here the distribution tells that most of the rating is in between 4 to 5."
   ]
  },
  {
   "cell_type": "markdown",
   "id": "45db5ffd",
   "metadata": {},
   "source": [
    "#### b. What is the implication of this on your analysis?"
   ]
  },
  {
   "cell_type": "markdown",
   "id": "60aff4a0",
   "metadata": {},
   "source": [
    "when we consider our real life the distribution are skewed. If there are too much skewness in thedata, then many statistical model dont work.\n",
    "So in skewed data, the tail region may act as an outlier for he statical affect the model's performance especially regression-based models.\n",
    "so there is a necessity to transform the skewed data to close enough to a guassian distributuin or normal distribution. this will allow us to try more number of statistical model.\n",
    "\n",
    "Conclusion:\n",
    "    If we have a skewed data then it may harm our results. so in order to use a skewed data we have to apply a log transformation over the whole set of values to discover the pattern in the data and make it usable for the statistical model"
   ]
  },
  {
   "cell_type": "markdown",
   "id": "f88bca47",
   "metadata": {},
   "source": [
    "#### 6. What are the top content Rating Values?"
   ]
  },
  {
   "cell_type": "code",
   "execution_count": 88,
   "id": "42e3b603",
   "metadata": {},
   "outputs": [
    {
     "name": "stdout",
     "output_type": "stream",
     "text": [
      "Top Content Rating values are :-\n",
      " Everyone           7414\n",
      "Teen               1083\n",
      "Mature 17+          461\n",
      "Everyone 10+        397\n",
      "Adults only 18+       3\n",
      "Name: Content Rating, dtype: int64\n"
     ]
    }
   ],
   "source": [
    "\n",
    "print(\"Top Content Rating values are :-\\n\",df['Content Rating'].value_counts().head())"
   ]
  },
  {
   "cell_type": "markdown",
   "id": "f1052661",
   "metadata": {},
   "source": [
    "#### a. Are there any values with very few record? "
   ]
  },
  {
   "cell_type": "markdown",
   "id": "a1b8ee44",
   "metadata": {},
   "source": [
    "Yes! 2 of the values have. \n",
    "'Unrated' content rating has values 1 and 'Adults only 18+' has values 3."
   ]
  },
  {
   "cell_type": "markdown",
   "id": "86800440",
   "metadata": {},
   "source": [
    "#### b. If yes, Drop those as they wont help in the analysis"
   ]
  },
  {
   "cell_type": "code",
   "execution_count": 119,
   "id": "f224334a",
   "metadata": {},
   "outputs": [
    {
     "data": {
      "text/plain": [
       "Everyone           7414\n",
       "Teen               1083\n",
       "Mature 17+          461\n",
       "Everyone 10+        397\n",
       "Adults only 18+       3\n",
       "Name: Content Rating, dtype: int64"
      ]
     },
     "execution_count": 119,
     "metadata": {},
     "output_type": "execute_result"
    }
   ],
   "source": [
    "Adult_rating = df[df['Content Rating'] == 'Adult only 18+'].index.to_list()\n",
    "unrated = df[df['Content Rating'] == 'Unrated'].index.to_list()\n",
    "df.drop(Adult_rating,inplace = True)\n",
    "df.drop(unrated,inplace = True)\n",
    "df['Content Rating'].value_counts()"
   ]
  },
  {
   "cell_type": "code",
   "execution_count": 136,
   "id": "6bbfb8bd",
   "metadata": {},
   "outputs": [
    {
     "data": {
      "application/vnd.plotly.v1+json": {
       "config": {
        "plotlyServerURL": "https://plot.ly"
       },
       "data": [
        {
         "hole": 0.3,
         "labels": [
          "Everyone",
          "Teen",
          "Mature 17+",
          "Everyone 10+"
         ],
         "pull": [
          0,
          0.2,
          0,
          0
         ],
         "title": {
          "text": "Top Content Rating"
         },
         "type": "pie",
         "values": [
          7414,
          1083,
          461,
          397
         ]
        }
       ],
       "layout": {
        "template": {
         "data": {
          "bar": [
           {
            "error_x": {
             "color": "#2a3f5f"
            },
            "error_y": {
             "color": "#2a3f5f"
            },
            "marker": {
             "line": {
              "color": "#E5ECF6",
              "width": 0.5
             },
             "pattern": {
              "fillmode": "overlay",
              "size": 10,
              "solidity": 0.2
             }
            },
            "type": "bar"
           }
          ],
          "barpolar": [
           {
            "marker": {
             "line": {
              "color": "#E5ECF6",
              "width": 0.5
             },
             "pattern": {
              "fillmode": "overlay",
              "size": 10,
              "solidity": 0.2
             }
            },
            "type": "barpolar"
           }
          ],
          "carpet": [
           {
            "aaxis": {
             "endlinecolor": "#2a3f5f",
             "gridcolor": "white",
             "linecolor": "white",
             "minorgridcolor": "white",
             "startlinecolor": "#2a3f5f"
            },
            "baxis": {
             "endlinecolor": "#2a3f5f",
             "gridcolor": "white",
             "linecolor": "white",
             "minorgridcolor": "white",
             "startlinecolor": "#2a3f5f"
            },
            "type": "carpet"
           }
          ],
          "choropleth": [
           {
            "colorbar": {
             "outlinewidth": 0,
             "ticks": ""
            },
            "type": "choropleth"
           }
          ],
          "contour": [
           {
            "colorbar": {
             "outlinewidth": 0,
             "ticks": ""
            },
            "colorscale": [
             [
              0,
              "#0d0887"
             ],
             [
              0.1111111111111111,
              "#46039f"
             ],
             [
              0.2222222222222222,
              "#7201a8"
             ],
             [
              0.3333333333333333,
              "#9c179e"
             ],
             [
              0.4444444444444444,
              "#bd3786"
             ],
             [
              0.5555555555555556,
              "#d8576b"
             ],
             [
              0.6666666666666666,
              "#ed7953"
             ],
             [
              0.7777777777777778,
              "#fb9f3a"
             ],
             [
              0.8888888888888888,
              "#fdca26"
             ],
             [
              1,
              "#f0f921"
             ]
            ],
            "type": "contour"
           }
          ],
          "contourcarpet": [
           {
            "colorbar": {
             "outlinewidth": 0,
             "ticks": ""
            },
            "type": "contourcarpet"
           }
          ],
          "heatmap": [
           {
            "colorbar": {
             "outlinewidth": 0,
             "ticks": ""
            },
            "colorscale": [
             [
              0,
              "#0d0887"
             ],
             [
              0.1111111111111111,
              "#46039f"
             ],
             [
              0.2222222222222222,
              "#7201a8"
             ],
             [
              0.3333333333333333,
              "#9c179e"
             ],
             [
              0.4444444444444444,
              "#bd3786"
             ],
             [
              0.5555555555555556,
              "#d8576b"
             ],
             [
              0.6666666666666666,
              "#ed7953"
             ],
             [
              0.7777777777777778,
              "#fb9f3a"
             ],
             [
              0.8888888888888888,
              "#fdca26"
             ],
             [
              1,
              "#f0f921"
             ]
            ],
            "type": "heatmap"
           }
          ],
          "heatmapgl": [
           {
            "colorbar": {
             "outlinewidth": 0,
             "ticks": ""
            },
            "colorscale": [
             [
              0,
              "#0d0887"
             ],
             [
              0.1111111111111111,
              "#46039f"
             ],
             [
              0.2222222222222222,
              "#7201a8"
             ],
             [
              0.3333333333333333,
              "#9c179e"
             ],
             [
              0.4444444444444444,
              "#bd3786"
             ],
             [
              0.5555555555555556,
              "#d8576b"
             ],
             [
              0.6666666666666666,
              "#ed7953"
             ],
             [
              0.7777777777777778,
              "#fb9f3a"
             ],
             [
              0.8888888888888888,
              "#fdca26"
             ],
             [
              1,
              "#f0f921"
             ]
            ],
            "type": "heatmapgl"
           }
          ],
          "histogram": [
           {
            "marker": {
             "pattern": {
              "fillmode": "overlay",
              "size": 10,
              "solidity": 0.2
             }
            },
            "type": "histogram"
           }
          ],
          "histogram2d": [
           {
            "colorbar": {
             "outlinewidth": 0,
             "ticks": ""
            },
            "colorscale": [
             [
              0,
              "#0d0887"
             ],
             [
              0.1111111111111111,
              "#46039f"
             ],
             [
              0.2222222222222222,
              "#7201a8"
             ],
             [
              0.3333333333333333,
              "#9c179e"
             ],
             [
              0.4444444444444444,
              "#bd3786"
             ],
             [
              0.5555555555555556,
              "#d8576b"
             ],
             [
              0.6666666666666666,
              "#ed7953"
             ],
             [
              0.7777777777777778,
              "#fb9f3a"
             ],
             [
              0.8888888888888888,
              "#fdca26"
             ],
             [
              1,
              "#f0f921"
             ]
            ],
            "type": "histogram2d"
           }
          ],
          "histogram2dcontour": [
           {
            "colorbar": {
             "outlinewidth": 0,
             "ticks": ""
            },
            "colorscale": [
             [
              0,
              "#0d0887"
             ],
             [
              0.1111111111111111,
              "#46039f"
             ],
             [
              0.2222222222222222,
              "#7201a8"
             ],
             [
              0.3333333333333333,
              "#9c179e"
             ],
             [
              0.4444444444444444,
              "#bd3786"
             ],
             [
              0.5555555555555556,
              "#d8576b"
             ],
             [
              0.6666666666666666,
              "#ed7953"
             ],
             [
              0.7777777777777778,
              "#fb9f3a"
             ],
             [
              0.8888888888888888,
              "#fdca26"
             ],
             [
              1,
              "#f0f921"
             ]
            ],
            "type": "histogram2dcontour"
           }
          ],
          "mesh3d": [
           {
            "colorbar": {
             "outlinewidth": 0,
             "ticks": ""
            },
            "type": "mesh3d"
           }
          ],
          "parcoords": [
           {
            "line": {
             "colorbar": {
              "outlinewidth": 0,
              "ticks": ""
             }
            },
            "type": "parcoords"
           }
          ],
          "pie": [
           {
            "automargin": true,
            "type": "pie"
           }
          ],
          "scatter": [
           {
            "marker": {
             "colorbar": {
              "outlinewidth": 0,
              "ticks": ""
             }
            },
            "type": "scatter"
           }
          ],
          "scatter3d": [
           {
            "line": {
             "colorbar": {
              "outlinewidth": 0,
              "ticks": ""
             }
            },
            "marker": {
             "colorbar": {
              "outlinewidth": 0,
              "ticks": ""
             }
            },
            "type": "scatter3d"
           }
          ],
          "scattercarpet": [
           {
            "marker": {
             "colorbar": {
              "outlinewidth": 0,
              "ticks": ""
             }
            },
            "type": "scattercarpet"
           }
          ],
          "scattergeo": [
           {
            "marker": {
             "colorbar": {
              "outlinewidth": 0,
              "ticks": ""
             }
            },
            "type": "scattergeo"
           }
          ],
          "scattergl": [
           {
            "marker": {
             "colorbar": {
              "outlinewidth": 0,
              "ticks": ""
             }
            },
            "type": "scattergl"
           }
          ],
          "scattermapbox": [
           {
            "marker": {
             "colorbar": {
              "outlinewidth": 0,
              "ticks": ""
             }
            },
            "type": "scattermapbox"
           }
          ],
          "scatterpolar": [
           {
            "marker": {
             "colorbar": {
              "outlinewidth": 0,
              "ticks": ""
             }
            },
            "type": "scatterpolar"
           }
          ],
          "scatterpolargl": [
           {
            "marker": {
             "colorbar": {
              "outlinewidth": 0,
              "ticks": ""
             }
            },
            "type": "scatterpolargl"
           }
          ],
          "scatterternary": [
           {
            "marker": {
             "colorbar": {
              "outlinewidth": 0,
              "ticks": ""
             }
            },
            "type": "scatterternary"
           }
          ],
          "surface": [
           {
            "colorbar": {
             "outlinewidth": 0,
             "ticks": ""
            },
            "colorscale": [
             [
              0,
              "#0d0887"
             ],
             [
              0.1111111111111111,
              "#46039f"
             ],
             [
              0.2222222222222222,
              "#7201a8"
             ],
             [
              0.3333333333333333,
              "#9c179e"
             ],
             [
              0.4444444444444444,
              "#bd3786"
             ],
             [
              0.5555555555555556,
              "#d8576b"
             ],
             [
              0.6666666666666666,
              "#ed7953"
             ],
             [
              0.7777777777777778,
              "#fb9f3a"
             ],
             [
              0.8888888888888888,
              "#fdca26"
             ],
             [
              1,
              "#f0f921"
             ]
            ],
            "type": "surface"
           }
          ],
          "table": [
           {
            "cells": {
             "fill": {
              "color": "#EBF0F8"
             },
             "line": {
              "color": "white"
             }
            },
            "header": {
             "fill": {
              "color": "#C8D4E3"
             },
             "line": {
              "color": "white"
             }
            },
            "type": "table"
           }
          ]
         },
         "layout": {
          "annotationdefaults": {
           "arrowcolor": "#2a3f5f",
           "arrowhead": 0,
           "arrowwidth": 1
          },
          "autotypenumbers": "strict",
          "coloraxis": {
           "colorbar": {
            "outlinewidth": 0,
            "ticks": ""
           }
          },
          "colorscale": {
           "diverging": [
            [
             0,
             "#8e0152"
            ],
            [
             0.1,
             "#c51b7d"
            ],
            [
             0.2,
             "#de77ae"
            ],
            [
             0.3,
             "#f1b6da"
            ],
            [
             0.4,
             "#fde0ef"
            ],
            [
             0.5,
             "#f7f7f7"
            ],
            [
             0.6,
             "#e6f5d0"
            ],
            [
             0.7,
             "#b8e186"
            ],
            [
             0.8,
             "#7fbc41"
            ],
            [
             0.9,
             "#4d9221"
            ],
            [
             1,
             "#276419"
            ]
           ],
           "sequential": [
            [
             0,
             "#0d0887"
            ],
            [
             0.1111111111111111,
             "#46039f"
            ],
            [
             0.2222222222222222,
             "#7201a8"
            ],
            [
             0.3333333333333333,
             "#9c179e"
            ],
            [
             0.4444444444444444,
             "#bd3786"
            ],
            [
             0.5555555555555556,
             "#d8576b"
            ],
            [
             0.6666666666666666,
             "#ed7953"
            ],
            [
             0.7777777777777778,
             "#fb9f3a"
            ],
            [
             0.8888888888888888,
             "#fdca26"
            ],
            [
             1,
             "#f0f921"
            ]
           ],
           "sequentialminus": [
            [
             0,
             "#0d0887"
            ],
            [
             0.1111111111111111,
             "#46039f"
            ],
            [
             0.2222222222222222,
             "#7201a8"
            ],
            [
             0.3333333333333333,
             "#9c179e"
            ],
            [
             0.4444444444444444,
             "#bd3786"
            ],
            [
             0.5555555555555556,
             "#d8576b"
            ],
            [
             0.6666666666666666,
             "#ed7953"
            ],
            [
             0.7777777777777778,
             "#fb9f3a"
            ],
            [
             0.8888888888888888,
             "#fdca26"
            ],
            [
             1,
             "#f0f921"
            ]
           ]
          },
          "colorway": [
           "#636efa",
           "#EF553B",
           "#00cc96",
           "#ab63fa",
           "#FFA15A",
           "#19d3f3",
           "#FF6692",
           "#B6E880",
           "#FF97FF",
           "#FECB52"
          ],
          "font": {
           "color": "#2a3f5f"
          },
          "geo": {
           "bgcolor": "white",
           "lakecolor": "white",
           "landcolor": "#E5ECF6",
           "showlakes": true,
           "showland": true,
           "subunitcolor": "white"
          },
          "hoverlabel": {
           "align": "left"
          },
          "hovermode": "closest",
          "mapbox": {
           "style": "light"
          },
          "paper_bgcolor": "white",
          "plot_bgcolor": "#E5ECF6",
          "polar": {
           "angularaxis": {
            "gridcolor": "white",
            "linecolor": "white",
            "ticks": ""
           },
           "bgcolor": "#E5ECF6",
           "radialaxis": {
            "gridcolor": "white",
            "linecolor": "white",
            "ticks": ""
           }
          },
          "scene": {
           "xaxis": {
            "backgroundcolor": "#E5ECF6",
            "gridcolor": "white",
            "gridwidth": 2,
            "linecolor": "white",
            "showbackground": true,
            "ticks": "",
            "zerolinecolor": "white"
           },
           "yaxis": {
            "backgroundcolor": "#E5ECF6",
            "gridcolor": "white",
            "gridwidth": 2,
            "linecolor": "white",
            "showbackground": true,
            "ticks": "",
            "zerolinecolor": "white"
           },
           "zaxis": {
            "backgroundcolor": "#E5ECF6",
            "gridcolor": "white",
            "gridwidth": 2,
            "linecolor": "white",
            "showbackground": true,
            "ticks": "",
            "zerolinecolor": "white"
           }
          },
          "shapedefaults": {
           "line": {
            "color": "#2a3f5f"
           }
          },
          "ternary": {
           "aaxis": {
            "gridcolor": "white",
            "linecolor": "white",
            "ticks": ""
           },
           "baxis": {
            "gridcolor": "white",
            "linecolor": "white",
            "ticks": ""
           },
           "bgcolor": "#E5ECF6",
           "caxis": {
            "gridcolor": "white",
            "linecolor": "white",
            "ticks": ""
           }
          },
          "title": {
           "x": 0.05
          },
          "xaxis": {
           "automargin": true,
           "gridcolor": "white",
           "linecolor": "white",
           "ticks": "",
           "title": {
            "standoff": 15
           },
           "zerolinecolor": "white",
           "zerolinewidth": 2
          },
          "yaxis": {
           "automargin": true,
           "gridcolor": "white",
           "linecolor": "white",
           "ticks": "",
           "title": {
            "standoff": 15
           },
           "zerolinecolor": "white",
           "zerolinewidth": 2
          }
         }
        }
       }
      },
      "text/html": [
       "<div>                            <div id=\"1bbc561c-74bf-4f6c-a67a-5a5a3fbf1c38\" class=\"plotly-graph-div\" style=\"height:525px; width:100%;\"></div>            <script type=\"text/javascript\">                require([\"plotly\"], function(Plotly) {                    window.PLOTLYENV=window.PLOTLYENV || {};                                    if (document.getElementById(\"1bbc561c-74bf-4f6c-a67a-5a5a3fbf1c38\")) {                    Plotly.newPlot(                        \"1bbc561c-74bf-4f6c-a67a-5a5a3fbf1c38\",                        [{\"hole\":0.3,\"labels\":[\"Everyone\",\"Teen\",\"Mature 17+\",\"Everyone 10+\"],\"pull\":[0,0.2,0,0],\"title\":{\"text\":\"Top Content Rating\"},\"values\":[7414,1083,461,397],\"type\":\"pie\"}],                        {\"template\":{\"data\":{\"bar\":[{\"error_x\":{\"color\":\"#2a3f5f\"},\"error_y\":{\"color\":\"#2a3f5f\"},\"marker\":{\"line\":{\"color\":\"#E5ECF6\",\"width\":0.5},\"pattern\":{\"fillmode\":\"overlay\",\"size\":10,\"solidity\":0.2}},\"type\":\"bar\"}],\"barpolar\":[{\"marker\":{\"line\":{\"color\":\"#E5ECF6\",\"width\":0.5},\"pattern\":{\"fillmode\":\"overlay\",\"size\":10,\"solidity\":0.2}},\"type\":\"barpolar\"}],\"carpet\":[{\"aaxis\":{\"endlinecolor\":\"#2a3f5f\",\"gridcolor\":\"white\",\"linecolor\":\"white\",\"minorgridcolor\":\"white\",\"startlinecolor\":\"#2a3f5f\"},\"baxis\":{\"endlinecolor\":\"#2a3f5f\",\"gridcolor\":\"white\",\"linecolor\":\"white\",\"minorgridcolor\":\"white\",\"startlinecolor\":\"#2a3f5f\"},\"type\":\"carpet\"}],\"choropleth\":[{\"colorbar\":{\"outlinewidth\":0,\"ticks\":\"\"},\"type\":\"choropleth\"}],\"contour\":[{\"colorbar\":{\"outlinewidth\":0,\"ticks\":\"\"},\"colorscale\":[[0.0,\"#0d0887\"],[0.1111111111111111,\"#46039f\"],[0.2222222222222222,\"#7201a8\"],[0.3333333333333333,\"#9c179e\"],[0.4444444444444444,\"#bd3786\"],[0.5555555555555556,\"#d8576b\"],[0.6666666666666666,\"#ed7953\"],[0.7777777777777778,\"#fb9f3a\"],[0.8888888888888888,\"#fdca26\"],[1.0,\"#f0f921\"]],\"type\":\"contour\"}],\"contourcarpet\":[{\"colorbar\":{\"outlinewidth\":0,\"ticks\":\"\"},\"type\":\"contourcarpet\"}],\"heatmap\":[{\"colorbar\":{\"outlinewidth\":0,\"ticks\":\"\"},\"colorscale\":[[0.0,\"#0d0887\"],[0.1111111111111111,\"#46039f\"],[0.2222222222222222,\"#7201a8\"],[0.3333333333333333,\"#9c179e\"],[0.4444444444444444,\"#bd3786\"],[0.5555555555555556,\"#d8576b\"],[0.6666666666666666,\"#ed7953\"],[0.7777777777777778,\"#fb9f3a\"],[0.8888888888888888,\"#fdca26\"],[1.0,\"#f0f921\"]],\"type\":\"heatmap\"}],\"heatmapgl\":[{\"colorbar\":{\"outlinewidth\":0,\"ticks\":\"\"},\"colorscale\":[[0.0,\"#0d0887\"],[0.1111111111111111,\"#46039f\"],[0.2222222222222222,\"#7201a8\"],[0.3333333333333333,\"#9c179e\"],[0.4444444444444444,\"#bd3786\"],[0.5555555555555556,\"#d8576b\"],[0.6666666666666666,\"#ed7953\"],[0.7777777777777778,\"#fb9f3a\"],[0.8888888888888888,\"#fdca26\"],[1.0,\"#f0f921\"]],\"type\":\"heatmapgl\"}],\"histogram\":[{\"marker\":{\"pattern\":{\"fillmode\":\"overlay\",\"size\":10,\"solidity\":0.2}},\"type\":\"histogram\"}],\"histogram2d\":[{\"colorbar\":{\"outlinewidth\":0,\"ticks\":\"\"},\"colorscale\":[[0.0,\"#0d0887\"],[0.1111111111111111,\"#46039f\"],[0.2222222222222222,\"#7201a8\"],[0.3333333333333333,\"#9c179e\"],[0.4444444444444444,\"#bd3786\"],[0.5555555555555556,\"#d8576b\"],[0.6666666666666666,\"#ed7953\"],[0.7777777777777778,\"#fb9f3a\"],[0.8888888888888888,\"#fdca26\"],[1.0,\"#f0f921\"]],\"type\":\"histogram2d\"}],\"histogram2dcontour\":[{\"colorbar\":{\"outlinewidth\":0,\"ticks\":\"\"},\"colorscale\":[[0.0,\"#0d0887\"],[0.1111111111111111,\"#46039f\"],[0.2222222222222222,\"#7201a8\"],[0.3333333333333333,\"#9c179e\"],[0.4444444444444444,\"#bd3786\"],[0.5555555555555556,\"#d8576b\"],[0.6666666666666666,\"#ed7953\"],[0.7777777777777778,\"#fb9f3a\"],[0.8888888888888888,\"#fdca26\"],[1.0,\"#f0f921\"]],\"type\":\"histogram2dcontour\"}],\"mesh3d\":[{\"colorbar\":{\"outlinewidth\":0,\"ticks\":\"\"},\"type\":\"mesh3d\"}],\"parcoords\":[{\"line\":{\"colorbar\":{\"outlinewidth\":0,\"ticks\":\"\"}},\"type\":\"parcoords\"}],\"pie\":[{\"automargin\":true,\"type\":\"pie\"}],\"scatter\":[{\"marker\":{\"colorbar\":{\"outlinewidth\":0,\"ticks\":\"\"}},\"type\":\"scatter\"}],\"scatter3d\":[{\"line\":{\"colorbar\":{\"outlinewidth\":0,\"ticks\":\"\"}},\"marker\":{\"colorbar\":{\"outlinewidth\":0,\"ticks\":\"\"}},\"type\":\"scatter3d\"}],\"scattercarpet\":[{\"marker\":{\"colorbar\":{\"outlinewidth\":0,\"ticks\":\"\"}},\"type\":\"scattercarpet\"}],\"scattergeo\":[{\"marker\":{\"colorbar\":{\"outlinewidth\":0,\"ticks\":\"\"}},\"type\":\"scattergeo\"}],\"scattergl\":[{\"marker\":{\"colorbar\":{\"outlinewidth\":0,\"ticks\":\"\"}},\"type\":\"scattergl\"}],\"scattermapbox\":[{\"marker\":{\"colorbar\":{\"outlinewidth\":0,\"ticks\":\"\"}},\"type\":\"scattermapbox\"}],\"scatterpolar\":[{\"marker\":{\"colorbar\":{\"outlinewidth\":0,\"ticks\":\"\"}},\"type\":\"scatterpolar\"}],\"scatterpolargl\":[{\"marker\":{\"colorbar\":{\"outlinewidth\":0,\"ticks\":\"\"}},\"type\":\"scatterpolargl\"}],\"scatterternary\":[{\"marker\":{\"colorbar\":{\"outlinewidth\":0,\"ticks\":\"\"}},\"type\":\"scatterternary\"}],\"surface\":[{\"colorbar\":{\"outlinewidth\":0,\"ticks\":\"\"},\"colorscale\":[[0.0,\"#0d0887\"],[0.1111111111111111,\"#46039f\"],[0.2222222222222222,\"#7201a8\"],[0.3333333333333333,\"#9c179e\"],[0.4444444444444444,\"#bd3786\"],[0.5555555555555556,\"#d8576b\"],[0.6666666666666666,\"#ed7953\"],[0.7777777777777778,\"#fb9f3a\"],[0.8888888888888888,\"#fdca26\"],[1.0,\"#f0f921\"]],\"type\":\"surface\"}],\"table\":[{\"cells\":{\"fill\":{\"color\":\"#EBF0F8\"},\"line\":{\"color\":\"white\"}},\"header\":{\"fill\":{\"color\":\"#C8D4E3\"},\"line\":{\"color\":\"white\"}},\"type\":\"table\"}]},\"layout\":{\"annotationdefaults\":{\"arrowcolor\":\"#2a3f5f\",\"arrowhead\":0,\"arrowwidth\":1},\"autotypenumbers\":\"strict\",\"coloraxis\":{\"colorbar\":{\"outlinewidth\":0,\"ticks\":\"\"}},\"colorscale\":{\"diverging\":[[0,\"#8e0152\"],[0.1,\"#c51b7d\"],[0.2,\"#de77ae\"],[0.3,\"#f1b6da\"],[0.4,\"#fde0ef\"],[0.5,\"#f7f7f7\"],[0.6,\"#e6f5d0\"],[0.7,\"#b8e186\"],[0.8,\"#7fbc41\"],[0.9,\"#4d9221\"],[1,\"#276419\"]],\"sequential\":[[0.0,\"#0d0887\"],[0.1111111111111111,\"#46039f\"],[0.2222222222222222,\"#7201a8\"],[0.3333333333333333,\"#9c179e\"],[0.4444444444444444,\"#bd3786\"],[0.5555555555555556,\"#d8576b\"],[0.6666666666666666,\"#ed7953\"],[0.7777777777777778,\"#fb9f3a\"],[0.8888888888888888,\"#fdca26\"],[1.0,\"#f0f921\"]],\"sequentialminus\":[[0.0,\"#0d0887\"],[0.1111111111111111,\"#46039f\"],[0.2222222222222222,\"#7201a8\"],[0.3333333333333333,\"#9c179e\"],[0.4444444444444444,\"#bd3786\"],[0.5555555555555556,\"#d8576b\"],[0.6666666666666666,\"#ed7953\"],[0.7777777777777778,\"#fb9f3a\"],[0.8888888888888888,\"#fdca26\"],[1.0,\"#f0f921\"]]},\"colorway\":[\"#636efa\",\"#EF553B\",\"#00cc96\",\"#ab63fa\",\"#FFA15A\",\"#19d3f3\",\"#FF6692\",\"#B6E880\",\"#FF97FF\",\"#FECB52\"],\"font\":{\"color\":\"#2a3f5f\"},\"geo\":{\"bgcolor\":\"white\",\"lakecolor\":\"white\",\"landcolor\":\"#E5ECF6\",\"showlakes\":true,\"showland\":true,\"subunitcolor\":\"white\"},\"hoverlabel\":{\"align\":\"left\"},\"hovermode\":\"closest\",\"mapbox\":{\"style\":\"light\"},\"paper_bgcolor\":\"white\",\"plot_bgcolor\":\"#E5ECF6\",\"polar\":{\"angularaxis\":{\"gridcolor\":\"white\",\"linecolor\":\"white\",\"ticks\":\"\"},\"bgcolor\":\"#E5ECF6\",\"radialaxis\":{\"gridcolor\":\"white\",\"linecolor\":\"white\",\"ticks\":\"\"}},\"scene\":{\"xaxis\":{\"backgroundcolor\":\"#E5ECF6\",\"gridcolor\":\"white\",\"gridwidth\":2,\"linecolor\":\"white\",\"showbackground\":true,\"ticks\":\"\",\"zerolinecolor\":\"white\"},\"yaxis\":{\"backgroundcolor\":\"#E5ECF6\",\"gridcolor\":\"white\",\"gridwidth\":2,\"linecolor\":\"white\",\"showbackground\":true,\"ticks\":\"\",\"zerolinecolor\":\"white\"},\"zaxis\":{\"backgroundcolor\":\"#E5ECF6\",\"gridcolor\":\"white\",\"gridwidth\":2,\"linecolor\":\"white\",\"showbackground\":true,\"ticks\":\"\",\"zerolinecolor\":\"white\"}},\"shapedefaults\":{\"line\":{\"color\":\"#2a3f5f\"}},\"ternary\":{\"aaxis\":{\"gridcolor\":\"white\",\"linecolor\":\"white\",\"ticks\":\"\"},\"baxis\":{\"gridcolor\":\"white\",\"linecolor\":\"white\",\"ticks\":\"\"},\"bgcolor\":\"#E5ECF6\",\"caxis\":{\"gridcolor\":\"white\",\"linecolor\":\"white\",\"ticks\":\"\"}},\"title\":{\"x\":0.05},\"xaxis\":{\"automargin\":true,\"gridcolor\":\"white\",\"linecolor\":\"white\",\"ticks\":\"\",\"title\":{\"standoff\":15},\"zerolinecolor\":\"white\",\"zerolinewidth\":2},\"yaxis\":{\"automargin\":true,\"gridcolor\":\"white\",\"linecolor\":\"white\",\"ticks\":\"\",\"title\":{\"standoff\":15},\"zerolinecolor\":\"white\",\"zerolinewidth\":2}}}},                        {\"responsive\": true}                    ).then(function(){\n",
       "                            \n",
       "var gd = document.getElementById('1bbc561c-74bf-4f6c-a67a-5a5a3fbf1c38');\n",
       "var x = new MutationObserver(function (mutations, observer) {{\n",
       "        var display = window.getComputedStyle(gd).display;\n",
       "        if (!display || display === 'none') {{\n",
       "            console.log([gd, 'removed!']);\n",
       "            Plotly.purge(gd);\n",
       "            observer.disconnect();\n",
       "        }}\n",
       "}});\n",
       "\n",
       "// Listen for the removal of the full notebook cells\n",
       "var notebookContainer = gd.closest('#notebook-container');\n",
       "if (notebookContainer) {{\n",
       "    x.observe(notebookContainer, {childList: true});\n",
       "}}\n",
       "\n",
       "// Listen for the clearing of the current output cell\n",
       "var outputEl = gd.closest('.output');\n",
       "if (outputEl) {{\n",
       "    x.observe(outputEl, {childList: true});\n",
       "}}\n",
       "\n",
       "                        })                };                });            </script>        </div>"
      ]
     },
     "metadata": {},
     "output_type": "display_data"
    }
   ],
   "source": [
    "#Pie Digram\n",
    "import plotly.graph_objects as go\n",
    "\n",
    "labels = ['Everyone','Teen','Mature 17+','Everyone 10+']\n",
    "values = [7414,1083,461,397]\n",
    "\n",
    "fig = go.Figure(data=[go.Pie(labels=labels, values=values,title = \"Top Content Rating\",hole=.3,pull=[0, 0.2,0,  0])])\n",
    "\n",
    "fig.show()"
   ]
  },
  {
   "cell_type": "markdown",
   "id": "f01a479a",
   "metadata": {},
   "source": [
    "### 7. Effect of size on rating"
   ]
  },
  {
   "cell_type": "markdown",
   "id": "16ed1dfd",
   "metadata": {},
   "source": [
    "#### a. Make a joinplot to imderstand the effect of size on rating"
   ]
  },
  {
   "cell_type": "code",
   "execution_count": 140,
   "id": "872a5e3b",
   "metadata": {},
   "outputs": [
    {
     "data": {
      "image/png": "[encoded data removed]",
      "text/plain": [
       "<Figure size 432x432 with 3 Axes>"
      ]
     },
     "metadata": {},
     "output_type": "display_data"
    }
   ],
   "source": [
    "sns.jointplot(x=df['Size'],y=df['Rating'],kind='hex',data=df)\n",
    "plt.show()"
   ]
  },
  {
   "cell_type": "markdown",
   "id": "9a2c693d",
   "metadata": {},
   "source": [
    "#### b. Do you see any patterns ?\n",
    "#### c. How do you explain the pattern ?"
   ]
  },
  {
   "cell_type": "markdown",
   "id": "c148ed27",
   "metadata": {},
   "source": [
    "We observed that the maximum data point gather in between Rating 4.0 - 4.5 abd size 0-40000(40 mb). Which means that the application size which is in between 0-40000(40 mb) get good rating on play store"
   ]
  },
  {
   "cell_type": "markdown",
   "id": "3dba8e86",
   "metadata": {},
   "source": [
    "## 8. Effect of price on rating"
   ]
  },
  {
   "cell_type": "markdown",
   "id": "36c27da0",
   "metadata": {},
   "source": [
    "#### a. Make a Jointplot(with regression line)"
   ]
  },
  {
   "cell_type": "code",
   "execution_count": 141,
   "id": "a1a475d8",
   "metadata": {},
   "outputs": [
    {
     "data": {
      "image/png": "[encoded data removed]",
      "text/plain": [
       "<Figure size 432x432 with 3 Axes>"
      ]
     },
     "metadata": {},
     "output_type": "display_data"
    }
   ],
   "source": [
    "sns.jointplot(x='Rating',y='Price',data=df,kind='reg')\n",
    "plt.show()"
   ]
  },
  {
   "cell_type": "markdown",
   "id": "0b6960bc",
   "metadata": {},
   "source": [
    "### b. What pattern do you see?"
   ]
  },
  {
   "cell_type": "markdown",
   "id": "118c7fe6",
   "metadata": {},
   "source": [
    "Increasing the price makes Rating Increses"
   ]
  },
  {
   "cell_type": "markdown",
   "id": "26b3cf67",
   "metadata": {},
   "source": [
    "### c. How do you explain the pattern ?"
   ]
  },
  {
   "cell_type": "markdown",
   "id": "023adc27",
   "metadata": {},
   "source": [
    "As we can see, the higher the price higher the rating"
   ]
  },
  {
   "cell_type": "markdown",
   "id": "137544ed",
   "metadata": {},
   "source": [
    "### d. Replot the data, this time with only record with price > 0 "
   ]
  },
  {
   "cell_type": "code",
   "execution_count": 142,
   "id": "5e1d0ba8",
   "metadata": {},
   "outputs": [
    {
     "data": {
      "image/png": "[encoded data removed]",
      "text/plain": [
       "<Figure size 432x432 with 3 Axes>"
      ]
     },
     "metadata": {},
     "output_type": "display_data"
    }
   ],
   "source": [
    "Price_greaterthan_zero = df[df['Price']>0]\n",
    "sns.jointplot(x='Price',y='Rating',data = Price_greaterthan_zero,kind = 'reg')\n",
    "plt.show()"
   ]
  },
  {
   "cell_type": "code",
   "execution_count": 143,
   "id": "3ab015b3",
   "metadata": {},
   "outputs": [
    {
     "data": {
      "image/png": "[encoded data removed]",
      "text/plain": [
       "<Figure size 475.1x360 with 1 Axes>"
      ]
     },
     "metadata": {},
     "output_type": "display_data"
    }
   ],
   "source": [
    "sns.lmplot(x='Price',y='Rating',hue='Content Rating',data=df)\n",
    "plt.show()"
   ]
  },
  {
   "cell_type": "markdown",
   "id": "8c38f420",
   "metadata": {},
   "source": [
    "e. Does the pattern change?\n",
    "f. What is your overall inference on the effect of price on the rating"
   ]
  },
  {
   "cell_type": "markdown",
   "id": "a2b784e8",
   "metadata": {},
   "source": [
    "Content Ratin 'Mature' and 'Teen' are more positively co-related in content rating than n 10+ and everyone"
   ]
  },
  {
   "cell_type": "markdown",
   "id": "9023d2e6",
   "metadata": {},
   "source": [
    "### 9. Look at all the numeric interactions together - "
   ]
  },
  {
   "cell_type": "markdown",
   "id": "587f0009",
   "metadata": {},
   "source": [
    "a. Make a pairplot with the columns - 'Reviews','Size','Rating', 'Price'"
   ]
  },
  {
   "cell_type": "code",
   "execution_count": 144,
   "id": "fcc692e1",
   "metadata": {},
   "outputs": [
    {
     "data": {
      "image/png": "[encoded data removed]",
      "text/plain": [
       "<Figure size 720x720 with 20 Axes>"
      ]
     },
     "metadata": {},
     "output_type": "display_data"
    }
   ],
   "source": [
    "sns.pairplot(df,vars=['Rating','Size','Reviews','Price'])\n",
    "plt.show()"
   ]
  },
  {
   "cell_type": "markdown",
   "id": "6753871c",
   "metadata": {},
   "source": [
    "This is the basic exploratory analysis to look for any evident patterns or relationship between the features"
   ]
  },
  {
   "cell_type": "markdown",
   "id": "39e72499",
   "metadata": {},
   "source": [
    "### 10. Rating vs. Content Rating"
   ]
  },
  {
   "cell_type": "markdown",
   "id": "61e41fac",
   "metadata": {},
   "source": [
    "a. Make a bar plot displaying the rating for each content rating"
   ]
  },
  {
   "cell_type": "code",
   "execution_count": 145,
   "id": "3c01b199",
   "metadata": {},
   "outputs": [
    {
     "data": {
      "image/png": "[encoded data removed]",
      "text/plain": [
       "<Figure size 432x288 with 1 Axes>"
      ]
     },
     "metadata": {},
     "output_type": "display_data"
    }
   ],
   "source": [
    "a = df['Rating'].groupby(df['Content Rating']).median().plot(kind='bar')\n",
    "a.set(xlabel = 'Rating of content',ylabel = 'Average of Ratings')\n",
    "plt.show()"
   ]
  },
  {
   "cell_type": "markdown",
   "id": "97e5871c",
   "metadata": {},
   "source": [
    "b. Which materic would you use? Mean ? Median? Some other quantile ?"
   ]
  },
  {
   "cell_type": "markdown",
   "id": "8614670a",
   "metadata": {},
   "source": [
    "c. Choose the right metric and plot"
   ]
  },
  {
   "cell_type": "code",
   "execution_count": 151,
   "id": "d7c31738",
   "metadata": {},
   "outputs": [
    {
     "data": {
      "image/png": "[encoded data removed]",
      "text/plain": [
       "<Figure size 432x288 with 1 Axes>"
      ]
     },
     "metadata": {},
     "output_type": "display_data"
    }
   ],
   "source": [
    "df.groupby(['Content Rating'])['Rating'].count().plot.bar(color = 'y')\n",
    "plt.ylabel('Rating')\n",
    "plt.title('Bar Chart')\n",
    "plt.show()"
   ]
  },
  {
   "cell_type": "markdown",
   "id": "86746b74",
   "metadata": {},
   "source": [
    "## 11. Content rating vs. Size vs. Rating -3 variable at a time"
   ]
  },
  {
   "cell_type": "markdown",
   "id": "6a1fd600",
   "metadata": {},
   "source": [
    "a. create 5 buckets (20% record in each) based on size"
   ]
  },
  {
   "cell_type": "code",
   "execution_count": 152,
   "id": "5b784aea",
   "metadata": {},
   "outputs": [
    {
     "data": {
      "image/png": "[encoded data removed]",
      "text/plain": [
       "<Figure size 432x288 with 1 Axes>"
      ]
     },
     "metadata": {},
     "output_type": "display_data"
    }
   ],
   "source": [
    "#Checking Skewness\n",
    "sns.distplot(df['Size'],bins=5)\n",
    "plt.show()"
   ]
  },
  {
   "cell_type": "code",
   "execution_count": 158,
   "id": "b9b74a7f",
   "metadata": {},
   "outputs": [
    {
     "data": {
      "text/html": [
       "<div>\n",
       "<style scoped>\n",
       "    .dataframe tbody tr th:only-of-type {\n",
       "        vertical-align: middle;\n",
       "    }\n",
       "\n",
       "    .dataframe tbody tr th {\n",
       "        vertical-align: top;\n",
       "    }\n",
       "\n",
       "    .dataframe thead th {\n",
       "        text-align: right;\n",
       "    }\n",
       "</style>\n",
       "<table border=\"1\" class=\"dataframe\">\n",
       "  <thead>\n",
       "    <tr style=\"text-align: right;\">\n",
       "      <th>Content Rating</th>\n",
       "      <th>Adults only 18+</th>\n",
       "      <th>Everyone</th>\n",
       "      <th>Everyone 10+</th>\n",
       "      <th>Mature 17+</th>\n",
       "      <th>Teen</th>\n",
       "    </tr>\n",
       "    <tr>\n",
       "      <th>Size_Buckets</th>\n",
       "      <th></th>\n",
       "      <th></th>\n",
       "      <th></th>\n",
       "      <th></th>\n",
       "      <th></th>\n",
       "    </tr>\n",
       "  </thead>\n",
       "  <tbody>\n",
       "    <tr>\n",
       "      <th>VERY LOW</th>\n",
       "      <td>NaN</td>\n",
       "      <td>4.116056</td>\n",
       "      <td>4.188889</td>\n",
       "      <td>3.951429</td>\n",
       "      <td>4.224490</td>\n",
       "    </tr>\n",
       "    <tr>\n",
       "      <th>LOW</th>\n",
       "      <td>4.6</td>\n",
       "      <td>4.161317</td>\n",
       "      <td>4.207143</td>\n",
       "      <td>4.129592</td>\n",
       "      <td>4.209655</td>\n",
       "    </tr>\n",
       "    <tr>\n",
       "      <th>MED</th>\n",
       "      <td>3.8</td>\n",
       "      <td>4.242463</td>\n",
       "      <td>4.262602</td>\n",
       "      <td>4.091975</td>\n",
       "      <td>4.205630</td>\n",
       "    </tr>\n",
       "    <tr>\n",
       "      <th>HIGH</th>\n",
       "      <td>NaN</td>\n",
       "      <td>4.179122</td>\n",
       "      <td>4.209375</td>\n",
       "      <td>4.168333</td>\n",
       "      <td>4.213158</td>\n",
       "    </tr>\n",
       "    <tr>\n",
       "      <th>VERY HIGH</th>\n",
       "      <td>4.5</td>\n",
       "      <td>4.208134</td>\n",
       "      <td>4.287805</td>\n",
       "      <td>4.197170</td>\n",
       "      <td>4.279603</td>\n",
       "    </tr>\n",
       "  </tbody>\n",
       "</table>\n",
       "</div>"
      ],
      "text/plain": [
       "Content Rating  Adults only 18+  Everyone  Everyone 10+  Mature 17+      Teen\n",
       "Size_Buckets                                                                 \n",
       "VERY LOW                    NaN  4.116056      4.188889    3.951429  4.224490\n",
       "LOW                         4.6  4.161317      4.207143    4.129592  4.209655\n",
       "MED                         3.8  4.242463      4.262602    4.091975  4.205630\n",
       "HIGH                        NaN  4.179122      4.209375    4.168333  4.213158\n",
       "VERY HIGH                   4.5  4.208134      4.287805    4.197170  4.279603"
      ]
     },
     "execution_count": 158,
     "metadata": {},
     "output_type": "execute_result"
    }
   ],
   "source": [
    "bin = [0, 4600, 12000, 21516, 32000, 100000]\n",
    "df['Size_Buckets'] = pd.cut(df['Size'], bin, labels=['VERY LOW','LOW','MED','HIGH','VERY HIGH'])\n",
    "pd.pivot_table(df, values='Rating', index='Size_Buckets', columns='Content Rating')"
   ]
  },
  {
   "cell_type": "markdown",
   "id": "93f129eb",
   "metadata": {},
   "source": [
    "b. By Content Rating vs. Size buckets,get the rating (20th percentile) for each combination "
   ]
  },
  {
   "cell_type": "code",
   "execution_count": 160,
   "id": "17b1d2e0",
   "metadata": {},
   "outputs": [
    {
     "data": {
      "text/plain": [
       "0.2     5100.0\n",
       "0.4    14000.0\n",
       "0.6    21516.0\n",
       "0.8    34000.0\n",
       "Name: Size, dtype: float64"
      ]
     },
     "execution_count": 160,
     "metadata": {},
     "output_type": "execute_result"
    }
   ],
   "source": [
    "df.Size.quantile([0.2,0.4,0.6,0.8])"
   ]
  },
  {
   "cell_type": "code",
   "execution_count": 162,
   "id": "4a36ea91",
   "metadata": {},
   "outputs": [
    {
     "data": {
      "text/plain": [
       "0.2    3.9\n",
       "0.4    4.2\n",
       "0.6    4.4\n",
       "0.8    4.6\n",
       "Name: Rating, dtype: float64"
      ]
     },
     "execution_count": 162,
     "metadata": {},
     "output_type": "execute_result"
    }
   ],
   "source": [
    "df.Rating.quantile([0.2,0.4,0.6,0.8])"
   ]
  },
  {
   "cell_type": "markdown",
   "id": "0e6e30ba",
   "metadata": {},
   "source": [
    "c. Make a heatmap of this "
   ]
  },
  {
   "cell_type": "markdown",
   "id": "be9138f4",
   "metadata": {},
   "source": [
    "i. Annotated"
   ]
  },
  {
   "cell_type": "code",
   "execution_count": 166,
   "id": "8cbc7a3a",
   "metadata": {},
   "outputs": [
    {
     "data": {
      "text/html": [
       "<div>\n",
       "<style scoped>\n",
       "    .dataframe tbody tr th:only-of-type {\n",
       "        vertical-align: middle;\n",
       "    }\n",
       "\n",
       "    .dataframe tbody tr th {\n",
       "        vertical-align: top;\n",
       "    }\n",
       "\n",
       "    .dataframe thead th {\n",
       "        text-align: right;\n",
       "    }\n",
       "</style>\n",
       "<table border=\"1\" class=\"dataframe\">\n",
       "  <thead>\n",
       "    <tr style=\"text-align: right;\">\n",
       "      <th>Content Rating</th>\n",
       "      <th>Adults only 18+</th>\n",
       "      <th>Everyone</th>\n",
       "      <th>Everyone 10+</th>\n",
       "      <th>Mature 17+</th>\n",
       "      <th>Teen</th>\n",
       "    </tr>\n",
       "    <tr>\n",
       "      <th>Size_Buckets</th>\n",
       "      <th></th>\n",
       "      <th></th>\n",
       "      <th></th>\n",
       "      <th></th>\n",
       "      <th></th>\n",
       "    </tr>\n",
       "  </thead>\n",
       "  <tbody>\n",
       "    <tr>\n",
       "      <th>VERY LOW</th>\n",
       "      <td>NaN</td>\n",
       "      <td>3.8</td>\n",
       "      <td>3.84</td>\n",
       "      <td>3.28</td>\n",
       "      <td>3.90</td>\n",
       "    </tr>\n",
       "    <tr>\n",
       "      <th>LOW</th>\n",
       "      <td>4.6</td>\n",
       "      <td>3.8</td>\n",
       "      <td>3.94</td>\n",
       "      <td>3.64</td>\n",
       "      <td>3.88</td>\n",
       "    </tr>\n",
       "    <tr>\n",
       "      <th>MED</th>\n",
       "      <td>3.8</td>\n",
       "      <td>4.0</td>\n",
       "      <td>4.10</td>\n",
       "      <td>3.90</td>\n",
       "      <td>3.90</td>\n",
       "    </tr>\n",
       "    <tr>\n",
       "      <th>HIGH</th>\n",
       "      <td>NaN</td>\n",
       "      <td>3.9</td>\n",
       "      <td>4.00</td>\n",
       "      <td>3.90</td>\n",
       "      <td>4.00</td>\n",
       "    </tr>\n",
       "    <tr>\n",
       "      <th>VERY HIGH</th>\n",
       "      <td>4.5</td>\n",
       "      <td>3.9</td>\n",
       "      <td>4.10</td>\n",
       "      <td>4.00</td>\n",
       "      <td>4.00</td>\n",
       "    </tr>\n",
       "  </tbody>\n",
       "</table>\n",
       "</div>"
      ],
      "text/plain": [
       "Content Rating  Adults only 18+  Everyone  Everyone 10+  Mature 17+  Teen\n",
       "Size_Buckets                                                             \n",
       "VERY LOW                    NaN       3.8          3.84        3.28  3.90\n",
       "LOW                         4.6       3.8          3.94        3.64  3.88\n",
       "MED                         3.8       4.0          4.10        3.90  3.90\n",
       "HIGH                        NaN       3.9          4.00        3.90  4.00\n",
       "VERY HIGH                   4.5       3.9          4.10        4.00  4.00"
      ]
     },
     "execution_count": 166,
     "metadata": {},
     "output_type": "execute_result"
    }
   ],
   "source": [
    "Size_Buckets = pd.pivot_table(df,values='Rating',index='Size_Buckets',columns='Content Rating',aggfunc=lambda x:np.quantile(x,0.2))\n",
    "Size_Buckets"
   ]
  },
  {
   "cell_type": "code",
   "execution_count": 167,
   "id": "29724388",
   "metadata": {},
   "outputs": [
    {
     "data": {
      "image/png": "[encoded data removed]",
      "text/plain": [
       "<Figure size 432x288 with 2 Axes>"
      ]
     },
     "metadata": {},
     "output_type": "display_data"
    }
   ],
   "source": [
    "sns.heatmap(Size_Buckets,annot=True)\n",
    "plt.show()"
   ]
  },
  {
   "cell_type": "markdown",
   "id": "4a6ea6c1",
   "metadata": {},
   "source": [
    "ii. Green color map"
   ]
  },
  {
   "cell_type": "code",
   "execution_count": 168,
   "id": "34c7fef0",
   "metadata": {},
   "outputs": [
    {
     "data": {
      "image/png": "[encoded data removed]",
      "text/plain": [
       "<Figure size 432x288 with 2 Axes>"
      ]
     },
     "metadata": {},
     "output_type": "display_data"
    }
   ],
   "source": [
    "sns.heatmap(Size_Buckets, annot=True, cmap='Greens')\n",
    "plt.show()"
   ]
  },
  {
   "cell_type": "markdown",
   "id": "0b935f21",
   "metadata": {},
   "source": [
    "d. What’s your inference? Are lighter apps preferred in all categories? Heavier? Some?"
   ]
  },
  {
   "cell_type": "markdown",
   "id": "7775d36f",
   "metadata": {},
   "source": [
    "My inference is that most of the havier apps seems to be more preferred in the \"Content Ratings\". But, at the same time there is no big variations in it. The only exceptional case is Mature 17+ where low size apps arent preferred to a greater variation."
   ]
  },
  {
   "cell_type": "code",
   "execution_count": null,
   "id": "a709ac7c",
   "metadata": {},
   "outputs": [],
   "source": []
  }
 ],
 "metadata": {
  "kernelspec": {
   "display_name": "Python 3",
   "language": "python",
   "name": "python3"
  },
  "language_info": {
   "codemirror_mode": {
    "name": "ipython",
    "version": 3
   },
   "file_extension": ".py",
   "mimetype": "text/x-python",
   "name": "python",
   "nbconvert_exporter": "python",
   "pygments_lexer": "ipython3",
   "version": "3.8.8"
  }
 },
 "nbformat": 4,
 "nbformat_minor": 5
}
